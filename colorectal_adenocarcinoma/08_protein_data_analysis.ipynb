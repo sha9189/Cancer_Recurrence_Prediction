{
 "cells": [
  {
   "cell_type": "markdown",
   "metadata": {},
   "source": [
    "# Protein Data Analysis"
   ]
  },
  {
   "cell_type": "code",
   "execution_count": 1,
   "metadata": {},
   "outputs": [],
   "source": [
    "import os\n",
    "os.chdir(\"..\")"
   ]
  },
  {
   "cell_type": "code",
   "execution_count": 2,
   "metadata": {},
   "outputs": [],
   "source": [
    "import pandas as pd\n",
    "from sklearn.model_selection import train_test_split\n",
    "import numpy as np\n",
    "from helpers import load_config\n"
   ]
  },
  {
   "cell_type": "code",
   "execution_count": 3,
   "metadata": {},
   "outputs": [],
   "source": [
    "configs = load_config(os.path.join(\"configs\", \"configs.yaml\"))"
   ]
  },
  {
   "cell_type": "code",
   "execution_count": 4,
   "metadata": {},
   "outputs": [],
   "source": [
    "study_path = configs[\"STORAGE_DIR_STUDY2\"]"
   ]
  },
  {
   "cell_type": "code",
   "execution_count": 5,
   "metadata": {},
   "outputs": [
    {
     "name": "stderr",
     "output_type": "stream",
     "text": [
      "/var/folders/_0/qrjsyj4n0r951n63lt8qdzrc0000gn/T/ipykernel_22600/1016927232.py:1: DtypeWarning: Columns (4,38,39) have mixed types. Specify dtype option on import or set low_memory=False.\n",
      "  mutations_df = pd.read_csv(\n"
     ]
    },
    {
     "data": {
      "text/html": [
       "<div>\n",
       "<style scoped>\n",
       "    .dataframe tbody tr th:only-of-type {\n",
       "        vertical-align: middle;\n",
       "    }\n",
       "\n",
       "    .dataframe tbody tr th {\n",
       "        vertical-align: top;\n",
       "    }\n",
       "\n",
       "    .dataframe thead th {\n",
       "        text-align: right;\n",
       "    }\n",
       "</style>\n",
       "<table border=\"1\" class=\"dataframe\">\n",
       "  <thead>\n",
       "    <tr style=\"text-align: right;\">\n",
       "      <th></th>\n",
       "      <th>Hugo_Symbol</th>\n",
       "      <th>Entrez_Gene_Id</th>\n",
       "      <th>Center</th>\n",
       "      <th>NCBI_Build</th>\n",
       "      <th>Chromosome</th>\n",
       "      <th>Start_Position</th>\n",
       "      <th>End_Position</th>\n",
       "      <th>Strand</th>\n",
       "      <th>Consequence</th>\n",
       "      <th>Variant_Classification</th>\n",
       "      <th>...</th>\n",
       "      <th>SYMBOL_SOURCE</th>\n",
       "      <th>TREMBL</th>\n",
       "      <th>TSL</th>\n",
       "      <th>UNIPARC</th>\n",
       "      <th>VARIANT_CLASS</th>\n",
       "      <th>all_effects</th>\n",
       "      <th>cDNA_position</th>\n",
       "      <th>n_depth</th>\n",
       "      <th>t_depth</th>\n",
       "      <th>Annotation_Status</th>\n",
       "    </tr>\n",
       "  </thead>\n",
       "  <tbody>\n",
       "    <tr>\n",
       "      <th>0</th>\n",
       "      <td>DMBT1</td>\n",
       "      <td>1755.0</td>\n",
       "      <td>.</td>\n",
       "      <td>GRCh37</td>\n",
       "      <td>10</td>\n",
       "      <td>124399948</td>\n",
       "      <td>124399948</td>\n",
       "      <td>+</td>\n",
       "      <td>synonymous_variant</td>\n",
       "      <td>Silent</td>\n",
       "      <td>...</td>\n",
       "      <td>HGNC</td>\n",
       "      <td>B6V682_HUMAN</td>\n",
       "      <td>.</td>\n",
       "      <td>UPI000047021C</td>\n",
       "      <td>SNV</td>\n",
       "      <td>DMBT1,synonymous_variant,p.%3D,ENST00000368956...</td>\n",
       "      <td>7054</td>\n",
       "      <td>115</td>\n",
       "      <td>131</td>\n",
       "      <td>SUCCESS</td>\n",
       "    </tr>\n",
       "    <tr>\n",
       "      <th>1</th>\n",
       "      <td>C10orf90</td>\n",
       "      <td>118611.0</td>\n",
       "      <td>.</td>\n",
       "      <td>GRCh37</td>\n",
       "      <td>10</td>\n",
       "      <td>128193330</td>\n",
       "      <td>128193330</td>\n",
       "      <td>+</td>\n",
       "      <td>missense_variant</td>\n",
       "      <td>Missense_Mutation</td>\n",
       "      <td>...</td>\n",
       "      <td>HGNC</td>\n",
       "      <td>S4R3N7_HUMAN,Q5T025_HUMAN</td>\n",
       "      <td>.</td>\n",
       "      <td>UPI00001D808F</td>\n",
       "      <td>SNV</td>\n",
       "      <td>C10orf90,missense_variant,p.Val100Met,ENST0000...</td>\n",
       "      <td>560</td>\n",
       "      <td>63</td>\n",
       "      <td>64</td>\n",
       "      <td>SUCCESS</td>\n",
       "    </tr>\n",
       "    <tr>\n",
       "      <th>2</th>\n",
       "      <td>WDFY4</td>\n",
       "      <td>57705.0</td>\n",
       "      <td>.</td>\n",
       "      <td>GRCh37</td>\n",
       "      <td>10</td>\n",
       "      <td>49997997</td>\n",
       "      <td>49997997</td>\n",
       "      <td>+</td>\n",
       "      <td>missense_variant</td>\n",
       "      <td>Missense_Mutation</td>\n",
       "      <td>...</td>\n",
       "      <td>HGNC</td>\n",
       "      <td>Q6PIM1_HUMAN</td>\n",
       "      <td>.</td>\n",
       "      <td>UPI000176ADB8</td>\n",
       "      <td>SNV</td>\n",
       "      <td>WDFY4,missense_variant,p.Arg1345Trp,ENST000003...</td>\n",
       "      <td>4060</td>\n",
       "      <td>148</td>\n",
       "      <td>149</td>\n",
       "      <td>SUCCESS</td>\n",
       "    </tr>\n",
       "    <tr>\n",
       "      <th>3</th>\n",
       "      <td>PRKCQ</td>\n",
       "      <td>5588.0</td>\n",
       "      <td>.</td>\n",
       "      <td>GRCh37</td>\n",
       "      <td>10</td>\n",
       "      <td>6533674</td>\n",
       "      <td>6533674</td>\n",
       "      <td>+</td>\n",
       "      <td>missense_variant</td>\n",
       "      <td>Missense_Mutation</td>\n",
       "      <td>...</td>\n",
       "      <td>HGNC</td>\n",
       "      <td>.</td>\n",
       "      <td>.</td>\n",
       "      <td>UPI000012DF74</td>\n",
       "      <td>SNV</td>\n",
       "      <td>PRKCQ,missense_variant,p.Gly254Val,ENST0000039...</td>\n",
       "      <td>861</td>\n",
       "      <td>197</td>\n",
       "      <td>228</td>\n",
       "      <td>SUCCESS</td>\n",
       "    </tr>\n",
       "    <tr>\n",
       "      <th>4</th>\n",
       "      <td>DYNC2H1</td>\n",
       "      <td>79659.0</td>\n",
       "      <td>.</td>\n",
       "      <td>GRCh37</td>\n",
       "      <td>11</td>\n",
       "      <td>103153768</td>\n",
       "      <td>103153768</td>\n",
       "      <td>+</td>\n",
       "      <td>missense_variant</td>\n",
       "      <td>Missense_Mutation</td>\n",
       "      <td>...</td>\n",
       "      <td>HGNC</td>\n",
       "      <td>.</td>\n",
       "      <td>.</td>\n",
       "      <td>UPI0000481AC7</td>\n",
       "      <td>SNV</td>\n",
       "      <td>DYNC2H1,missense_variant,p.Pro3622Leu,ENST0000...</td>\n",
       "      <td>10865</td>\n",
       "      <td>204</td>\n",
       "      <td>199</td>\n",
       "      <td>SUCCESS</td>\n",
       "    </tr>\n",
       "  </tbody>\n",
       "</table>\n",
       "<p>5 rows × 114 columns</p>\n",
       "</div>"
      ],
      "text/plain": [
       "  Hugo_Symbol  Entrez_Gene_Id Center NCBI_Build Chromosome  Start_Position  \\\n",
       "0       DMBT1          1755.0      .     GRCh37         10       124399948   \n",
       "1    C10orf90        118611.0      .     GRCh37         10       128193330   \n",
       "2       WDFY4         57705.0      .     GRCh37         10        49997997   \n",
       "3       PRKCQ          5588.0      .     GRCh37         10         6533674   \n",
       "4     DYNC2H1         79659.0      .     GRCh37         11       103153768   \n",
       "\n",
       "   End_Position Strand         Consequence Variant_Classification  ...  \\\n",
       "0     124399948      +  synonymous_variant                 Silent  ...   \n",
       "1     128193330      +    missense_variant      Missense_Mutation  ...   \n",
       "2      49997997      +    missense_variant      Missense_Mutation  ...   \n",
       "3       6533674      +    missense_variant      Missense_Mutation  ...   \n",
       "4     103153768      +    missense_variant      Missense_Mutation  ...   \n",
       "\n",
       "  SYMBOL_SOURCE                     TREMBL TSL        UNIPARC VARIANT_CLASS  \\\n",
       "0          HGNC               B6V682_HUMAN   .  UPI000047021C           SNV   \n",
       "1          HGNC  S4R3N7_HUMAN,Q5T025_HUMAN   .  UPI00001D808F           SNV   \n",
       "2          HGNC               Q6PIM1_HUMAN   .  UPI000176ADB8           SNV   \n",
       "3          HGNC                          .   .  UPI000012DF74           SNV   \n",
       "4          HGNC                          .   .  UPI0000481AC7           SNV   \n",
       "\n",
       "                                         all_effects cDNA_position n_depth  \\\n",
       "0  DMBT1,synonymous_variant,p.%3D,ENST00000368956...          7054     115   \n",
       "1  C10orf90,missense_variant,p.Val100Met,ENST0000...           560      63   \n",
       "2  WDFY4,missense_variant,p.Arg1345Trp,ENST000003...          4060     148   \n",
       "3  PRKCQ,missense_variant,p.Gly254Val,ENST0000039...           861     197   \n",
       "4  DYNC2H1,missense_variant,p.Pro3622Leu,ENST0000...         10865     204   \n",
       "\n",
       "  t_depth Annotation_Status  \n",
       "0     131           SUCCESS  \n",
       "1      64           SUCCESS  \n",
       "2     149           SUCCESS  \n",
       "3     228           SUCCESS  \n",
       "4     199           SUCCESS  \n",
       "\n",
       "[5 rows x 114 columns]"
      ]
     },
     "execution_count": 5,
     "metadata": {},
     "output_type": "execute_result"
    }
   ],
   "source": [
    "mutations_df = pd.read_csv(\n",
    "    os.path.join(study_path, \"data_mutations.txt\"),\n",
    "    sep=\"\\t\",\n",
    "    header=0\n",
    ")\n",
    "mutations_df.head()"
   ]
  },
  {
   "cell_type": "code",
   "execution_count": 6,
   "metadata": {},
   "outputs": [
    {
     "data": {
      "text/html": [
       "<div>\n",
       "<style scoped>\n",
       "    .dataframe tbody tr th:only-of-type {\n",
       "        vertical-align: middle;\n",
       "    }\n",
       "\n",
       "    .dataframe tbody tr th {\n",
       "        vertical-align: top;\n",
       "    }\n",
       "\n",
       "    .dataframe thead th {\n",
       "        text-align: right;\n",
       "    }\n",
       "</style>\n",
       "<table border=\"1\" class=\"dataframe\">\n",
       "  <thead>\n",
       "    <tr style=\"text-align: right;\">\n",
       "      <th></th>\n",
       "      <th>0</th>\n",
       "      <th>1</th>\n",
       "      <th>2</th>\n",
       "      <th>3</th>\n",
       "      <th>4</th>\n",
       "    </tr>\n",
       "  </thead>\n",
       "  <tbody>\n",
       "    <tr>\n",
       "      <th>Hugo_Symbol</th>\n",
       "      <td>DMBT1</td>\n",
       "      <td>C10orf90</td>\n",
       "      <td>WDFY4</td>\n",
       "      <td>PRKCQ</td>\n",
       "      <td>DYNC2H1</td>\n",
       "    </tr>\n",
       "    <tr>\n",
       "      <th>Entrez_Gene_Id</th>\n",
       "      <td>1755.0</td>\n",
       "      <td>118611.0</td>\n",
       "      <td>57705.0</td>\n",
       "      <td>5588.0</td>\n",
       "      <td>79659.0</td>\n",
       "    </tr>\n",
       "    <tr>\n",
       "      <th>Center</th>\n",
       "      <td>.</td>\n",
       "      <td>.</td>\n",
       "      <td>.</td>\n",
       "      <td>.</td>\n",
       "      <td>.</td>\n",
       "    </tr>\n",
       "    <tr>\n",
       "      <th>NCBI_Build</th>\n",
       "      <td>GRCh37</td>\n",
       "      <td>GRCh37</td>\n",
       "      <td>GRCh37</td>\n",
       "      <td>GRCh37</td>\n",
       "      <td>GRCh37</td>\n",
       "    </tr>\n",
       "    <tr>\n",
       "      <th>Chromosome</th>\n",
       "      <td>10</td>\n",
       "      <td>10</td>\n",
       "      <td>10</td>\n",
       "      <td>10</td>\n",
       "      <td>11</td>\n",
       "    </tr>\n",
       "    <tr>\n",
       "      <th>...</th>\n",
       "      <td>...</td>\n",
       "      <td>...</td>\n",
       "      <td>...</td>\n",
       "      <td>...</td>\n",
       "      <td>...</td>\n",
       "    </tr>\n",
       "    <tr>\n",
       "      <th>all_effects</th>\n",
       "      <td>DMBT1,synonymous_variant,p.%3D,ENST00000368956...</td>\n",
       "      <td>C10orf90,missense_variant,p.Val100Met,ENST0000...</td>\n",
       "      <td>WDFY4,missense_variant,p.Arg1345Trp,ENST000003...</td>\n",
       "      <td>PRKCQ,missense_variant,p.Gly254Val,ENST0000039...</td>\n",
       "      <td>DYNC2H1,missense_variant,p.Pro3622Leu,ENST0000...</td>\n",
       "    </tr>\n",
       "    <tr>\n",
       "      <th>cDNA_position</th>\n",
       "      <td>7054</td>\n",
       "      <td>560</td>\n",
       "      <td>4060</td>\n",
       "      <td>861</td>\n",
       "      <td>10865</td>\n",
       "    </tr>\n",
       "    <tr>\n",
       "      <th>n_depth</th>\n",
       "      <td>115</td>\n",
       "      <td>63</td>\n",
       "      <td>148</td>\n",
       "      <td>197</td>\n",
       "      <td>204</td>\n",
       "    </tr>\n",
       "    <tr>\n",
       "      <th>t_depth</th>\n",
       "      <td>131</td>\n",
       "      <td>64</td>\n",
       "      <td>149</td>\n",
       "      <td>228</td>\n",
       "      <td>199</td>\n",
       "    </tr>\n",
       "    <tr>\n",
       "      <th>Annotation_Status</th>\n",
       "      <td>SUCCESS</td>\n",
       "      <td>SUCCESS</td>\n",
       "      <td>SUCCESS</td>\n",
       "      <td>SUCCESS</td>\n",
       "      <td>SUCCESS</td>\n",
       "    </tr>\n",
       "  </tbody>\n",
       "</table>\n",
       "<p>114 rows × 5 columns</p>\n",
       "</div>"
      ],
      "text/plain": [
       "                                                                   0  \\\n",
       "Hugo_Symbol                                                    DMBT1   \n",
       "Entrez_Gene_Id                                                1755.0   \n",
       "Center                                                             .   \n",
       "NCBI_Build                                                    GRCh37   \n",
       "Chromosome                                                        10   \n",
       "...                                                              ...   \n",
       "all_effects        DMBT1,synonymous_variant,p.%3D,ENST00000368956...   \n",
       "cDNA_position                                                   7054   \n",
       "n_depth                                                          115   \n",
       "t_depth                                                          131   \n",
       "Annotation_Status                                            SUCCESS   \n",
       "\n",
       "                                                                   1  \\\n",
       "Hugo_Symbol                                                 C10orf90   \n",
       "Entrez_Gene_Id                                              118611.0   \n",
       "Center                                                             .   \n",
       "NCBI_Build                                                    GRCh37   \n",
       "Chromosome                                                        10   \n",
       "...                                                              ...   \n",
       "all_effects        C10orf90,missense_variant,p.Val100Met,ENST0000...   \n",
       "cDNA_position                                                    560   \n",
       "n_depth                                                           63   \n",
       "t_depth                                                           64   \n",
       "Annotation_Status                                            SUCCESS   \n",
       "\n",
       "                                                                   2  \\\n",
       "Hugo_Symbol                                                    WDFY4   \n",
       "Entrez_Gene_Id                                               57705.0   \n",
       "Center                                                             .   \n",
       "NCBI_Build                                                    GRCh37   \n",
       "Chromosome                                                        10   \n",
       "...                                                              ...   \n",
       "all_effects        WDFY4,missense_variant,p.Arg1345Trp,ENST000003...   \n",
       "cDNA_position                                                   4060   \n",
       "n_depth                                                          148   \n",
       "t_depth                                                          149   \n",
       "Annotation_Status                                            SUCCESS   \n",
       "\n",
       "                                                                   3  \\\n",
       "Hugo_Symbol                                                    PRKCQ   \n",
       "Entrez_Gene_Id                                                5588.0   \n",
       "Center                                                             .   \n",
       "NCBI_Build                                                    GRCh37   \n",
       "Chromosome                                                        10   \n",
       "...                                                              ...   \n",
       "all_effects        PRKCQ,missense_variant,p.Gly254Val,ENST0000039...   \n",
       "cDNA_position                                                    861   \n",
       "n_depth                                                          197   \n",
       "t_depth                                                          228   \n",
       "Annotation_Status                                            SUCCESS   \n",
       "\n",
       "                                                                   4  \n",
       "Hugo_Symbol                                                  DYNC2H1  \n",
       "Entrez_Gene_Id                                               79659.0  \n",
       "Center                                                             .  \n",
       "NCBI_Build                                                    GRCh37  \n",
       "Chromosome                                                        11  \n",
       "...                                                              ...  \n",
       "all_effects        DYNC2H1,missense_variant,p.Pro3622Leu,ENST0000...  \n",
       "cDNA_position                                                  10865  \n",
       "n_depth                                                          204  \n",
       "t_depth                                                          199  \n",
       "Annotation_Status                                            SUCCESS  \n",
       "\n",
       "[114 rows x 5 columns]"
      ]
     },
     "execution_count": 6,
     "metadata": {},
     "output_type": "execute_result"
    }
   ],
   "source": [
    "mutations_df.head().T"
   ]
  },
  {
   "cell_type": "code",
   "execution_count": 7,
   "metadata": {},
   "outputs": [],
   "source": [
    "mutations_df[mutations_df[\"Tumor_Sample_Barcode\"] == \"TCGA-AG-A020-01\"].to_csv(\n",
    "    os.path.join(study_path, \"user_friendly_formats\", \"mutations_one_patient.csv\"),\n",
    "    index=False\n",
    ")"
   ]
  },
  {
   "cell_type": "code",
   "execution_count": 8,
   "metadata": {},
   "outputs": [],
   "source": [
    "df = mutations_df[[\"Hugo_Symbol\", \"HGVSp_Short\"]].drop_duplicates()"
   ]
  },
  {
   "cell_type": "code",
   "execution_count": 9,
   "metadata": {},
   "outputs": [
    {
     "name": "stdout",
     "output_type": "stream",
     "text": [
      "The relationship between Hugo_Symbol and HGVSp_Short is NOT one-to-one.\n"
     ]
    }
   ],
   "source": [
    "# Check if the relationship Hugo_Symbol -> HGVSp_Short is one-to-one\n",
    "hugo_to_hgvsp_unique = df.drop_duplicates(subset=['Hugo_Symbol', 'HGVSp_Short'])\n",
    "hugo_to_hgvsp_grouped = hugo_to_hgvsp_unique.groupby('Hugo_Symbol')['HGVSp_Short'].nunique()\n",
    "hugo_to_hgvsp_one_to_one = (hugo_to_hgvsp_grouped == 1).all()\n",
    "\n",
    "# Check if the relationship HGVSp_Short -> Hugo_Symbol is one-to-one\n",
    "hgvsp_to_hugo_unique = df.drop_duplicates(subset=['Hugo_Symbol', 'HGVSp_Short'])\n",
    "hgvsp_to_hugo_grouped = hgvsp_to_hugo_unique.groupby('HGVSp_Short')['Hugo_Symbol'].nunique()\n",
    "hgvsp_to_hugo_one_to_one = (hgvsp_to_hugo_grouped == 1).all()\n",
    "\n",
    "if hugo_to_hgvsp_one_to_one and hgvsp_to_hugo_one_to_one:\n",
    "    print(\"The relationship between Hugo_Symbol and HGVSp_Short is one-to-one.\")\n",
    "else:\n",
    "    print(\"The relationship between Hugo_Symbol and HGVSp_Short is NOT one-to-one.\")\n"
   ]
  },
  {
   "cell_type": "code",
   "execution_count": 10,
   "metadata": {},
   "outputs": [
    {
     "data": {
      "text/plain": [
       "(276775, 2)"
      ]
     },
     "execution_count": 10,
     "metadata": {},
     "output_type": "execute_result"
    }
   ],
   "source": [
    "df = mutations_df[[\"Tumor_Sample_Barcode\", \"HGVSp_Short\"]].dropna().drop_duplicates()\n",
    "df.shape"
   ]
  },
  {
   "cell_type": "code",
   "execution_count": 11,
   "metadata": {},
   "outputs": [
    {
     "data": {
      "text/html": [
       "<div>\n",
       "<style scoped>\n",
       "    .dataframe tbody tr th:only-of-type {\n",
       "        vertical-align: middle;\n",
       "    }\n",
       "\n",
       "    .dataframe tbody tr th {\n",
       "        vertical-align: top;\n",
       "    }\n",
       "\n",
       "    .dataframe thead th {\n",
       "        text-align: right;\n",
       "    }\n",
       "</style>\n",
       "<table border=\"1\" class=\"dataframe\">\n",
       "  <thead>\n",
       "    <tr style=\"text-align: right;\">\n",
       "      <th></th>\n",
       "      <th>Tumor_Sample_Barcode</th>\n",
       "      <th>HGVSp_Short</th>\n",
       "    </tr>\n",
       "  </thead>\n",
       "  <tbody>\n",
       "    <tr>\n",
       "      <th>0</th>\n",
       "      <td>TCGA-3L-AA1B-01</td>\n",
       "      <td>p.Y2316=</td>\n",
       "    </tr>\n",
       "    <tr>\n",
       "      <th>1</th>\n",
       "      <td>TCGA-3L-AA1B-01</td>\n",
       "      <td>p.V147M</td>\n",
       "    </tr>\n",
       "    <tr>\n",
       "      <th>2</th>\n",
       "      <td>TCGA-3L-AA1B-01</td>\n",
       "      <td>p.R1345W</td>\n",
       "    </tr>\n",
       "    <tr>\n",
       "      <th>3</th>\n",
       "      <td>TCGA-3L-AA1B-01</td>\n",
       "      <td>p.G254V</td>\n",
       "    </tr>\n",
       "    <tr>\n",
       "      <th>4</th>\n",
       "      <td>TCGA-3L-AA1B-01</td>\n",
       "      <td>p.P3615L</td>\n",
       "    </tr>\n",
       "  </tbody>\n",
       "</table>\n",
       "</div>"
      ],
      "text/plain": [
       "  Tumor_Sample_Barcode HGVSp_Short\n",
       "0      TCGA-3L-AA1B-01    p.Y2316=\n",
       "1      TCGA-3L-AA1B-01     p.V147M\n",
       "2      TCGA-3L-AA1B-01    p.R1345W\n",
       "3      TCGA-3L-AA1B-01     p.G254V\n",
       "4      TCGA-3L-AA1B-01    p.P3615L"
      ]
     },
     "execution_count": 11,
     "metadata": {},
     "output_type": "execute_result"
    }
   ],
   "source": [
    "df.head()"
   ]
  },
  {
   "cell_type": "code",
   "execution_count": 12,
   "metadata": {},
   "outputs": [
    {
     "name": "stdout",
     "output_type": "stream",
     "text": [
      "Number of unique proteins:  124178\n"
     ]
    }
   ],
   "source": [
    "print(\"Number of unique proteins: \", len(df[\"HGVSp_Short\"].drop_duplicates()))"
   ]
  },
  {
   "cell_type": "code",
   "execution_count": 13,
   "metadata": {},
   "outputs": [
    {
     "data": {
      "text/html": [
       "<div>\n",
       "<style scoped>\n",
       "    .dataframe tbody tr th:only-of-type {\n",
       "        vertical-align: middle;\n",
       "    }\n",
       "\n",
       "    .dataframe tbody tr th {\n",
       "        vertical-align: top;\n",
       "    }\n",
       "\n",
       "    .dataframe thead th {\n",
       "        text-align: right;\n",
       "    }\n",
       "</style>\n",
       "<table border=\"1\" class=\"dataframe\">\n",
       "  <thead>\n",
       "    <tr style=\"text-align: right;\">\n",
       "      <th></th>\n",
       "      <th>Tumor_Sample_Barcode</th>\n",
       "      <th>Protein_Count</th>\n",
       "      <th>Proteins</th>\n",
       "    </tr>\n",
       "  </thead>\n",
       "  <tbody>\n",
       "    <tr>\n",
       "      <th>240</th>\n",
       "      <td>TCGA-AG-A002-01</td>\n",
       "      <td>12619</td>\n",
       "      <td>p.F532=, p.F513=, p.R153Q, p.K58N, p.R584W, p....</td>\n",
       "    </tr>\n",
       "    <tr>\n",
       "      <th>301</th>\n",
       "      <td>TCGA-CA-6717-01</td>\n",
       "      <td>11102</td>\n",
       "      <td>p.S372L, p.A293=, p.I1009=, p.P1463=, p.S1039Y...</td>\n",
       "    </tr>\n",
       "    <tr>\n",
       "      <th>480</th>\n",
       "      <td>TCGA-F5-6814-01</td>\n",
       "      <td>10592</td>\n",
       "      <td>p.R766=, p.S239Y, p.*13*, p.A230T, p.K130=, p....</td>\n",
       "    </tr>\n",
       "    <tr>\n",
       "      <th>150</th>\n",
       "      <td>TCGA-AA-A010-01</td>\n",
       "      <td>9129</td>\n",
       "      <td>p.R267W, p.A30T, p.I388T, p.R387Q, p.E179K, p....</td>\n",
       "    </tr>\n",
       "    <tr>\n",
       "      <th>278</th>\n",
       "      <td>TCGA-AZ-4315-01</td>\n",
       "      <td>7824</td>\n",
       "      <td>p.A569V, p.V313=, p.K58N, p.P35S, p.D712G, p.*...</td>\n",
       "    </tr>\n",
       "    <tr>\n",
       "      <th>...</th>\n",
       "      <td>...</td>\n",
       "      <td>...</td>\n",
       "      <td>...</td>\n",
       "    </tr>\n",
       "    <tr>\n",
       "      <th>201</th>\n",
       "      <td>TCGA-AG-3574-01</td>\n",
       "      <td>18</td>\n",
       "      <td>p.R758Q, p.D127Y, p.*159*, p.A244=, p.E3795K, ...</td>\n",
       "    </tr>\n",
       "    <tr>\n",
       "      <th>209</th>\n",
       "      <td>TCGA-AG-3594-01</td>\n",
       "      <td>17</td>\n",
       "      <td>p.P148=, p.N174S, p.X475_splice, p.R937Q, p.P2...</td>\n",
       "    </tr>\n",
       "    <tr>\n",
       "      <th>149</th>\n",
       "      <td>TCGA-AA-A00Z-01</td>\n",
       "      <td>17</td>\n",
       "      <td>p.I1627=, p.R624H, p.P186L, p.*11*, p.Q164P, p...</td>\n",
       "    </tr>\n",
       "    <tr>\n",
       "      <th>213</th>\n",
       "      <td>TCGA-AG-3605-01</td>\n",
       "      <td>15</td>\n",
       "      <td>p.A103=, p.D28N, p.R142H, p.*137*, p.R229H, p....</td>\n",
       "    </tr>\n",
       "    <tr>\n",
       "      <th>258</th>\n",
       "      <td>TCGA-AH-6547-01</td>\n",
       "      <td>13</td>\n",
       "      <td>p.K433R, p.T340A, p.K277R, p.L457P, p.K138R, p...</td>\n",
       "    </tr>\n",
       "  </tbody>\n",
       "</table>\n",
       "<p>528 rows × 3 columns</p>\n",
       "</div>"
      ],
      "text/plain": [
       "    Tumor_Sample_Barcode  Protein_Count  \\\n",
       "240      TCGA-AG-A002-01          12619   \n",
       "301      TCGA-CA-6717-01          11102   \n",
       "480      TCGA-F5-6814-01          10592   \n",
       "150      TCGA-AA-A010-01           9129   \n",
       "278      TCGA-AZ-4315-01           7824   \n",
       "..                   ...            ...   \n",
       "201      TCGA-AG-3574-01             18   \n",
       "209      TCGA-AG-3594-01             17   \n",
       "149      TCGA-AA-A00Z-01             17   \n",
       "213      TCGA-AG-3605-01             15   \n",
       "258      TCGA-AH-6547-01             13   \n",
       "\n",
       "                                              Proteins  \n",
       "240  p.F532=, p.F513=, p.R153Q, p.K58N, p.R584W, p....  \n",
       "301  p.S372L, p.A293=, p.I1009=, p.P1463=, p.S1039Y...  \n",
       "480  p.R766=, p.S239Y, p.*13*, p.A230T, p.K130=, p....  \n",
       "150  p.R267W, p.A30T, p.I388T, p.R387Q, p.E179K, p....  \n",
       "278  p.A569V, p.V313=, p.K58N, p.P35S, p.D712G, p.*...  \n",
       "..                                                 ...  \n",
       "201  p.R758Q, p.D127Y, p.*159*, p.A244=, p.E3795K, ...  \n",
       "209  p.P148=, p.N174S, p.X475_splice, p.R937Q, p.P2...  \n",
       "149  p.I1627=, p.R624H, p.P186L, p.*11*, p.Q164P, p...  \n",
       "213  p.A103=, p.D28N, p.R142H, p.*137*, p.R229H, p....  \n",
       "258  p.K433R, p.T340A, p.K277R, p.L457P, p.K138R, p...  \n",
       "\n",
       "[528 rows x 3 columns]"
      ]
     },
     "execution_count": 13,
     "metadata": {},
     "output_type": "execute_result"
    }
   ],
   "source": [
    "grouped = df.groupby('Tumor_Sample_Barcode')\n",
    "\n",
    "\n",
    "mutations_df2 = grouped.agg(\n",
    "    Protein_Count=('HGVSp_Short', 'count'),           # Define the name for the mutation count column\n",
    "    Proteins=('HGVSp_Short', lambda x: ', '.join(x))  # Define the name for the aggregated mutation column\n",
    ").reset_index()\n",
    "\n",
    "mutations_df2.sort_values(by=\"Protein_Count\", ascending=False)"
   ]
  },
  {
   "cell_type": "markdown",
   "metadata": {},
   "source": [
    "#### Keep only proteins that are present in atleast 30% of patients"
   ]
  },
  {
   "cell_type": "code",
   "execution_count": 14,
   "metadata": {},
   "outputs": [
    {
     "data": {
      "text/plain": [
       "528"
      ]
     },
     "execution_count": 14,
     "metadata": {},
     "output_type": "execute_result"
    }
   ],
   "source": [
    "total_barcodes = df['Tumor_Sample_Barcode'].nunique()\n",
    "total_barcodes"
   ]
  },
  {
   "cell_type": "code",
   "execution_count": 15,
   "metadata": {},
   "outputs": [
    {
     "data": {
      "text/plain": [
       "52.800000000000004"
      ]
     },
     "execution_count": 15,
     "metadata": {},
     "output_type": "execute_result"
    }
   ],
   "source": [
    "threshold = 0.1 * total_barcodes\n",
    "threshold"
   ]
  },
  {
   "cell_type": "code",
   "execution_count": 16,
   "metadata": {},
   "outputs": [],
   "source": [
    "mutation_counts = df.groupby('HGVSp_Short')['Tumor_Sample_Barcode'].nunique()\n",
    "mutation_counts.sort_values(ascending=False).head(100).to_csv(\n",
    "    os.path.join(\"colorectal_adenocarcinoma\", \"top_100_proteins.csv\"), \n",
    "    index=True\n",
    ")"
   ]
  },
  {
   "cell_type": "code",
   "execution_count": 17,
   "metadata": {},
   "outputs": [
    {
     "data": {
      "text/plain": [
       "Index(['p.*1*', 'p.*10*', 'p.*11*', 'p.*12*', 'p.*13*', 'p.*14*', 'p.*15*',\n",
       "       'p.*16*', 'p.*17*', 'p.*18*', 'p.*19*', 'p.*2*', 'p.*20*', 'p.*21*',\n",
       "       'p.*22*', 'p.*23*', 'p.*24*', 'p.*25*', 'p.*26*', 'p.*27*', 'p.*28*',\n",
       "       'p.*29*', 'p.*3*', 'p.*30*', 'p.*31*', 'p.*32*', 'p.*33*', 'p.*34*',\n",
       "       'p.*3454*', 'p.*35*', 'p.*36*', 'p.*38*', 'p.*39*', 'p.*4*', 'p.*41*',\n",
       "       'p.*42*', 'p.*5*', 'p.*57*', 'p.*6*', 'p.*7*', 'p.*8*', 'p.*9*',\n",
       "       'p.G12D', 'p.M1?'],\n",
       "      dtype='object', name='HGVSp_Short')"
      ]
     },
     "execution_count": 17,
     "metadata": {},
     "output_type": "execute_result"
    }
   ],
   "source": [
    "frequent_mutations = mutation_counts[mutation_counts >= threshold].index\n",
    "frequent_mutations"
   ]
  },
  {
   "cell_type": "code",
   "execution_count": 18,
   "metadata": {},
   "outputs": [
    {
     "data": {
      "text/html": [
       "<div>\n",
       "<style scoped>\n",
       "    .dataframe tbody tr th:only-of-type {\n",
       "        vertical-align: middle;\n",
       "    }\n",
       "\n",
       "    .dataframe tbody tr th {\n",
       "        vertical-align: top;\n",
       "    }\n",
       "\n",
       "    .dataframe thead th {\n",
       "        text-align: right;\n",
       "    }\n",
       "</style>\n",
       "<table border=\"1\" class=\"dataframe\">\n",
       "  <thead>\n",
       "    <tr style=\"text-align: right;\">\n",
       "      <th></th>\n",
       "      <th>Tumor_Sample_Barcode</th>\n",
       "      <th>HGVSp_Short</th>\n",
       "    </tr>\n",
       "  </thead>\n",
       "  <tbody>\n",
       "    <tr>\n",
       "      <th>58</th>\n",
       "      <td>TCGA-3L-AA1B-01</td>\n",
       "      <td>p.G12D</td>\n",
       "    </tr>\n",
       "    <tr>\n",
       "      <th>98</th>\n",
       "      <td>TCGA-3L-AA1B-01</td>\n",
       "      <td>p.*18*</td>\n",
       "    </tr>\n",
       "    <tr>\n",
       "      <th>199</th>\n",
       "      <td>TCGA-4N-A93T-01</td>\n",
       "      <td>p.G12D</td>\n",
       "    </tr>\n",
       "    <tr>\n",
       "      <th>205</th>\n",
       "      <td>TCGA-4N-A93T-01</td>\n",
       "      <td>p.*19*</td>\n",
       "    </tr>\n",
       "    <tr>\n",
       "      <th>210</th>\n",
       "      <td>TCGA-4N-A93T-01</td>\n",
       "      <td>p.*20*</td>\n",
       "    </tr>\n",
       "    <tr>\n",
       "      <th>...</th>\n",
       "      <td>...</td>\n",
       "      <td>...</td>\n",
       "    </tr>\n",
       "    <tr>\n",
       "      <th>305139</th>\n",
       "      <td>TCGA-G5-6641-01</td>\n",
       "      <td>p.*11*</td>\n",
       "    </tr>\n",
       "    <tr>\n",
       "      <th>305177</th>\n",
       "      <td>TCGA-G5-6641-01</td>\n",
       "      <td>p.*26*</td>\n",
       "    </tr>\n",
       "    <tr>\n",
       "      <th>305227</th>\n",
       "      <td>TCGA-G5-6641-01</td>\n",
       "      <td>p.*21*</td>\n",
       "    </tr>\n",
       "    <tr>\n",
       "      <th>305228</th>\n",
       "      <td>TCGA-G5-6641-01</td>\n",
       "      <td>p.*13*</td>\n",
       "    </tr>\n",
       "    <tr>\n",
       "      <th>305306</th>\n",
       "      <td>TCGA-AA-3854-01</td>\n",
       "      <td>p.*21*</td>\n",
       "    </tr>\n",
       "  </tbody>\n",
       "</table>\n",
       "<p>4347 rows × 2 columns</p>\n",
       "</div>"
      ],
      "text/plain": [
       "       Tumor_Sample_Barcode HGVSp_Short\n",
       "58          TCGA-3L-AA1B-01      p.G12D\n",
       "98          TCGA-3L-AA1B-01      p.*18*\n",
       "199         TCGA-4N-A93T-01      p.G12D\n",
       "205         TCGA-4N-A93T-01      p.*19*\n",
       "210         TCGA-4N-A93T-01      p.*20*\n",
       "...                     ...         ...\n",
       "305139      TCGA-G5-6641-01      p.*11*\n",
       "305177      TCGA-G5-6641-01      p.*26*\n",
       "305227      TCGA-G5-6641-01      p.*21*\n",
       "305228      TCGA-G5-6641-01      p.*13*\n",
       "305306      TCGA-AA-3854-01      p.*21*\n",
       "\n",
       "[4347 rows x 2 columns]"
      ]
     },
     "execution_count": 18,
     "metadata": {},
     "output_type": "execute_result"
    }
   ],
   "source": [
    "filtered_df = df[df['HGVSp_Short'].isin(frequent_mutations)]\n",
    "filtered_df"
   ]
  },
  {
   "cell_type": "markdown",
   "metadata": {},
   "source": [
    "Since we are interested in just proteins and not the position data itself, lets filter out protein position records. "
   ]
  },
  {
   "cell_type": "code",
   "execution_count": 19,
   "metadata": {},
   "outputs": [
    {
     "data": {
      "text/html": [
       "<div>\n",
       "<style scoped>\n",
       "    .dataframe tbody tr th:only-of-type {\n",
       "        vertical-align: middle;\n",
       "    }\n",
       "\n",
       "    .dataframe tbody tr th {\n",
       "        vertical-align: top;\n",
       "    }\n",
       "\n",
       "    .dataframe thead th {\n",
       "        text-align: right;\n",
       "    }\n",
       "</style>\n",
       "<table border=\"1\" class=\"dataframe\">\n",
       "  <thead>\n",
       "    <tr style=\"text-align: right;\">\n",
       "      <th></th>\n",
       "      <th>Tumor_Sample_Barcode</th>\n",
       "      <th>HGVSp_Short</th>\n",
       "    </tr>\n",
       "  </thead>\n",
       "  <tbody>\n",
       "    <tr>\n",
       "      <th>0</th>\n",
       "      <td>TCGA-3L-AA1B-01</td>\n",
       "      <td>p.Y2316=</td>\n",
       "    </tr>\n",
       "    <tr>\n",
       "      <th>1</th>\n",
       "      <td>TCGA-3L-AA1B-01</td>\n",
       "      <td>p.V147M</td>\n",
       "    </tr>\n",
       "    <tr>\n",
       "      <th>2</th>\n",
       "      <td>TCGA-3L-AA1B-01</td>\n",
       "      <td>p.R1345W</td>\n",
       "    </tr>\n",
       "    <tr>\n",
       "      <th>3</th>\n",
       "      <td>TCGA-3L-AA1B-01</td>\n",
       "      <td>p.G254V</td>\n",
       "    </tr>\n",
       "    <tr>\n",
       "      <th>4</th>\n",
       "      <td>TCGA-3L-AA1B-01</td>\n",
       "      <td>p.P3615L</td>\n",
       "    </tr>\n",
       "    <tr>\n",
       "      <th>...</th>\n",
       "      <td>...</td>\n",
       "      <td>...</td>\n",
       "    </tr>\n",
       "    <tr>\n",
       "      <th>305311</th>\n",
       "      <td>TCGA-AA-3864-01</td>\n",
       "      <td>p.G2168=</td>\n",
       "    </tr>\n",
       "    <tr>\n",
       "      <th>305313</th>\n",
       "      <td>TCGA-AA-3864-01</td>\n",
       "      <td>p.L28529=</td>\n",
       "    </tr>\n",
       "    <tr>\n",
       "      <th>305318</th>\n",
       "      <td>TCGA-AA-3864-01</td>\n",
       "      <td>p.N692=</td>\n",
       "    </tr>\n",
       "    <tr>\n",
       "      <th>305319</th>\n",
       "      <td>TCGA-AA-3864-01</td>\n",
       "      <td>p.N23=</td>\n",
       "    </tr>\n",
       "    <tr>\n",
       "      <th>305331</th>\n",
       "      <td>TCGA-F5-6814-01</td>\n",
       "      <td>p.S601=</td>\n",
       "    </tr>\n",
       "  </tbody>\n",
       "</table>\n",
       "<p>230051 rows × 2 columns</p>\n",
       "</div>"
      ],
      "text/plain": [
       "       Tumor_Sample_Barcode HGVSp_Short\n",
       "0           TCGA-3L-AA1B-01    p.Y2316=\n",
       "1           TCGA-3L-AA1B-01     p.V147M\n",
       "2           TCGA-3L-AA1B-01    p.R1345W\n",
       "3           TCGA-3L-AA1B-01     p.G254V\n",
       "4           TCGA-3L-AA1B-01    p.P3615L\n",
       "...                     ...         ...\n",
       "305311      TCGA-AA-3864-01    p.G2168=\n",
       "305313      TCGA-AA-3864-01   p.L28529=\n",
       "305318      TCGA-AA-3864-01     p.N692=\n",
       "305319      TCGA-AA-3864-01      p.N23=\n",
       "305331      TCGA-F5-6814-01     p.S601=\n",
       "\n",
       "[230051 rows x 2 columns]"
      ]
     },
     "execution_count": 19,
     "metadata": {},
     "output_type": "execute_result"
    }
   ],
   "source": [
    "filtered_df = df[~df['HGVSp_Short'].str.contains(r'\\*')]\n",
    "filtered_df"
   ]
  },
  {
   "cell_type": "code",
   "execution_count": 20,
   "metadata": {},
   "outputs": [
    {
     "data": {
      "text/plain": [
       "HGVSp_Short\n",
       "p.M1?          115\n",
       "p.G12D          68\n",
       "p.G12V          50\n",
       "p.V600E         48\n",
       "p.R175H         45\n",
       "p.G13D          43\n",
       "p.E545K         39\n",
       "p.A2V           34\n",
       "p.A146T         31\n",
       "p.R282W         28\n",
       "p.A2=           28\n",
       "p.R248Q         27\n",
       "p.A2T           27\n",
       "p.R128H         27\n",
       "p.R122H         27\n",
       "p.R133H         26\n",
       "p.R105C         26\n",
       "p.R123H         25\n",
       "p.A41T          24\n",
       "p.R143H         24\n",
       "p.R81H          23\n",
       "p.R41H          23\n",
       "p.R84H          23\n",
       "p.R235H         23\n",
       "p.A79T          23\n",
       "p.R123C         23\n",
       "p.A111T         22\n",
       "p.X2_splice     22\n",
       "p.R273H         22\n",
       "p.R96C          22\n",
       "p.R149H         22\n",
       "p.R204Q         22\n",
       "p.R151H         22\n",
       "p.X5_splice     21\n",
       "p.X6_splice     21\n",
       "p.R115H         21\n",
       "p.R124H         21\n",
       "p.R138C         21\n",
       "p.S117=         21\n",
       "p.R128C         21\n",
       "p.A54T          21\n",
       "p.A3T           21\n",
       "p.A212T         21\n",
       "p.R161H         21\n",
       "p.R169H         21\n",
       "p.R139Q         21\n",
       "p.R140Q         21\n",
       "p.R315C         21\n",
       "p.A175T         21\n",
       "p.A115T         21\n",
       "Name: Tumor_Sample_Barcode, dtype: int64"
      ]
     },
     "execution_count": 20,
     "metadata": {},
     "output_type": "execute_result"
    }
   ],
   "source": [
    "mutation_counts = filtered_df.groupby('HGVSp_Short')['Tumor_Sample_Barcode'].nunique()\n",
    "mutation_counts.sort_values(ascending=False).head(50)"
   ]
  },
  {
   "cell_type": "markdown",
   "metadata": {},
   "source": [
    "## Classificatios using protein data"
   ]
  },
  {
   "cell_type": "code",
   "execution_count": 21,
   "metadata": {},
   "outputs": [
    {
     "data": {
      "text/plain": [
       "(88, 18)"
      ]
     },
     "execution_count": 21,
     "metadata": {},
     "output_type": "execute_result"
    }
   ],
   "source": [
    "pathological_df = pd.read_csv(\n",
    "    os.path.join(study_path, \"pathological_df_v2.csv\")\n",
    ")\n",
    "pathological_df.shape"
   ]
  },
  {
   "cell_type": "code",
   "execution_count": 22,
   "metadata": {},
   "outputs": [
    {
     "data": {
      "text/html": [
       "<div>\n",
       "<style scoped>\n",
       "    .dataframe tbody tr th:only-of-type {\n",
       "        vertical-align: middle;\n",
       "    }\n",
       "\n",
       "    .dataframe tbody tr th {\n",
       "        vertical-align: top;\n",
       "    }\n",
       "\n",
       "    .dataframe thead th {\n",
       "        text-align: right;\n",
       "    }\n",
       "</style>\n",
       "<table border=\"1\" class=\"dataframe\">\n",
       "  <thead>\n",
       "    <tr style=\"text-align: right;\">\n",
       "      <th></th>\n",
       "      <th>Tumor_Sample_Barcode</th>\n",
       "      <th>HGVSp_Short</th>\n",
       "    </tr>\n",
       "  </thead>\n",
       "  <tbody>\n",
       "    <tr>\n",
       "      <th>0</th>\n",
       "      <td>TCGA-3L-AA1B-01</td>\n",
       "      <td>p.Y2316=</td>\n",
       "    </tr>\n",
       "    <tr>\n",
       "      <th>1</th>\n",
       "      <td>TCGA-3L-AA1B-01</td>\n",
       "      <td>p.V147M</td>\n",
       "    </tr>\n",
       "    <tr>\n",
       "      <th>2</th>\n",
       "      <td>TCGA-3L-AA1B-01</td>\n",
       "      <td>p.R1345W</td>\n",
       "    </tr>\n",
       "    <tr>\n",
       "      <th>3</th>\n",
       "      <td>TCGA-3L-AA1B-01</td>\n",
       "      <td>p.G254V</td>\n",
       "    </tr>\n",
       "    <tr>\n",
       "      <th>4</th>\n",
       "      <td>TCGA-3L-AA1B-01</td>\n",
       "      <td>p.P3615L</td>\n",
       "    </tr>\n",
       "  </tbody>\n",
       "</table>\n",
       "</div>"
      ],
      "text/plain": [
       "  Tumor_Sample_Barcode HGVSp_Short\n",
       "0      TCGA-3L-AA1B-01    p.Y2316=\n",
       "1      TCGA-3L-AA1B-01     p.V147M\n",
       "2      TCGA-3L-AA1B-01    p.R1345W\n",
       "3      TCGA-3L-AA1B-01     p.G254V\n",
       "4      TCGA-3L-AA1B-01    p.P3615L"
      ]
     },
     "execution_count": 22,
     "metadata": {},
     "output_type": "execute_result"
    }
   ],
   "source": [
    "filtered_df.head()"
   ]
  },
  {
   "cell_type": "code",
   "execution_count": 23,
   "metadata": {},
   "outputs": [
    {
     "data": {
      "text/plain": [
       "(25006, 2)"
      ]
     },
     "execution_count": 23,
     "metadata": {},
     "output_type": "execute_result"
    }
   ],
   "source": [
    "protein_df = filtered_df.rename(\n",
    "    columns={\"Tumor_Sample_Barcode\": \"SAMPLE_ID\"}\n",
    ")\n",
    "\n",
    "# filter to only samples in scope\n",
    "df = pd.merge(pathological_df[\"SAMPLE_ID\"], protein_df, how=\"inner\", on=\"SAMPLE_ID\")\n",
    "df.shape"
   ]
  },
  {
   "cell_type": "markdown",
   "metadata": {},
   "source": [
    "Select which proteins to use for analysis"
   ]
  },
  {
   "cell_type": "code",
   "execution_count": 24,
   "metadata": {},
   "outputs": [
    {
     "data": {
      "text/plain": [
       "HGVSp_Short\n",
       "p.M1?      15\n",
       "p.G12D      9\n",
       "p.G12V      8\n",
       "p.R248Q     7\n",
       "p.E545K     7\n",
       "p.R165C     7\n",
       "p.R122H     6\n",
       "p.R175H     6\n",
       "p.S117=     6\n",
       "p.P311=     6\n",
       "Name: SAMPLE_ID, dtype: int64"
      ]
     },
     "execution_count": 24,
     "metadata": {},
     "output_type": "execute_result"
    }
   ],
   "source": [
    "mutation_counts = df.groupby('HGVSp_Short')['SAMPLE_ID'].nunique()\n",
    "mutation_counts.sort_values(ascending=False).head(10)"
   ]
  },
  {
   "cell_type": "markdown",
   "metadata": {},
   "source": [
    "Out of 88 patients, the protein occuring in max patients occurs in only 9 patients. The data is too sparse for further analysis. Hence not taking this analysis forward. "
   ]
  },
  {
   "cell_type": "code",
   "execution_count": null,
   "metadata": {},
   "outputs": [],
   "source": []
  }
 ],
 "metadata": {
  "kernelspec": {
   "display_name": "cancer_project1",
   "language": "python",
   "name": "python3"
  },
  "language_info": {
   "codemirror_mode": {
    "name": "ipython",
    "version": 3
   },
   "file_extension": ".py",
   "mimetype": "text/x-python",
   "name": "python",
   "nbconvert_exporter": "python",
   "pygments_lexer": "ipython3",
   "version": "3.12.3"
  }
 },
 "nbformat": 4,
 "nbformat_minor": 2
}
