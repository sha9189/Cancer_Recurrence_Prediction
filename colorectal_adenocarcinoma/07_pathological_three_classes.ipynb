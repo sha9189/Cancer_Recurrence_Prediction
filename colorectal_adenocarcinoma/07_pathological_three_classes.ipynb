{
 "cells": [
  {
   "cell_type": "code",
   "execution_count": 1,
   "metadata": {},
   "outputs": [],
   "source": [
    "import os\n",
    "os.chdir(\"..\")"
   ]
  },
  {
   "cell_type": "code",
   "execution_count": 5,
   "metadata": {},
   "outputs": [],
   "source": [
    "import pandas as pd\n",
    "from sklearn.model_selection import train_test_split\n",
    "import numpy as np\n",
    "from helpers import load_config\n",
    "import matplotlib.pyplot as plt\n",
    "import seaborn as sns\n",
    "from colorectal_adenocarcinoma.data_preprocessor import preprocess_data\n",
    "\n",
    "configs = load_config(os.path.join(\"configs\", \"configs.yaml\"))\n",
    "study_path = configs[\"STORAGE_DIR_STUDY2\"]"
   ]
  },
  {
   "cell_type": "code",
   "execution_count": 3,
   "metadata": {},
   "outputs": [
    {
     "name": "stdout",
     "output_type": "stream",
     "text": [
      "Shape of new pathological df:(88, 18)\n"
     ]
    },
    {
     "data": {
      "text/html": [
       "<div>\n",
       "<style scoped>\n",
       "    .dataframe tbody tr th:only-of-type {\n",
       "        vertical-align: middle;\n",
       "    }\n",
       "\n",
       "    .dataframe tbody tr th {\n",
       "        vertical-align: top;\n",
       "    }\n",
       "\n",
       "    .dataframe thead th {\n",
       "        text-align: right;\n",
       "    }\n",
       "</style>\n",
       "<table border=\"1\" class=\"dataframe\">\n",
       "  <thead>\n",
       "    <tr style=\"text-align: right;\">\n",
       "      <th></th>\n",
       "      <th>PATIENT_ID</th>\n",
       "      <th>AGE</th>\n",
       "      <th>SEX</th>\n",
       "      <th>PATH_M_STAGE</th>\n",
       "      <th>PATH_N_STAGE</th>\n",
       "      <th>PATH_T_STAGE</th>\n",
       "      <th>PERSON_NEOPLASM_CANCER_STATUS</th>\n",
       "      <th>PRIOR_DX</th>\n",
       "      <th>RADIATION_THERAPY</th>\n",
       "      <th>WEIGHT</th>\n",
       "      <th>PFS_MONTHS</th>\n",
       "      <th>GENETIC_ANCESTRY_LABEL</th>\n",
       "      <th>SAMPLE_ID</th>\n",
       "      <th>ONCOTREE_CODE</th>\n",
       "      <th>ANEUPLOIDY_SCORE</th>\n",
       "      <th>MSI_SCORE_MANTIS</th>\n",
       "      <th>MSI_SENSOR_SCORE</th>\n",
       "      <th>TMB_NONSYNONYMOUS</th>\n",
       "    </tr>\n",
       "  </thead>\n",
       "  <tbody>\n",
       "    <tr>\n",
       "      <th>0</th>\n",
       "      <td>TCGA-5M-AAT6</td>\n",
       "      <td>40.0</td>\n",
       "      <td>Female</td>\n",
       "      <td>M1A</td>\n",
       "      <td>N2B</td>\n",
       "      <td>T4A</td>\n",
       "      <td>With Tumor</td>\n",
       "      <td>No</td>\n",
       "      <td>No</td>\n",
       "      <td>99.1</td>\n",
       "      <td>7.199921</td>\n",
       "      <td>AFR</td>\n",
       "      <td>TCGA-5M-AAT6-01</td>\n",
       "      <td>COAD</td>\n",
       "      <td>3.0</td>\n",
       "      <td>0.6600</td>\n",
       "      <td>20.58</td>\n",
       "      <td>62.166667</td>\n",
       "    </tr>\n",
       "    <tr>\n",
       "      <th>1</th>\n",
       "      <td>TCGA-5M-AATE</td>\n",
       "      <td>76.0</td>\n",
       "      <td>Male</td>\n",
       "      <td>M0</td>\n",
       "      <td>N0</td>\n",
       "      <td>T3</td>\n",
       "      <td>With Tumor</td>\n",
       "      <td>No</td>\n",
       "      <td>No</td>\n",
       "      <td>75.4</td>\n",
       "      <td>26.629845</td>\n",
       "      <td></td>\n",
       "      <td>TCGA-5M-AATE-01</td>\n",
       "      <td>COAD</td>\n",
       "      <td>20.0</td>\n",
       "      <td>0.3252</td>\n",
       "      <td>0.47</td>\n",
       "      <td>3.800000</td>\n",
       "    </tr>\n",
       "  </tbody>\n",
       "</table>\n",
       "</div>"
      ],
      "text/plain": [
       "     PATIENT_ID   AGE     SEX PATH_M_STAGE PATH_N_STAGE PATH_T_STAGE  \\\n",
       "0  TCGA-5M-AAT6  40.0  Female          M1A          N2B          T4A   \n",
       "1  TCGA-5M-AATE  76.0    Male           M0           N0           T3   \n",
       "\n",
       "  PERSON_NEOPLASM_CANCER_STATUS PRIOR_DX RADIATION_THERAPY  WEIGHT  \\\n",
       "0                    With Tumor       No                No    99.1   \n",
       "1                    With Tumor       No                No    75.4   \n",
       "\n",
       "   PFS_MONTHS GENETIC_ANCESTRY_LABEL        SAMPLE_ID ONCOTREE_CODE  \\\n",
       "0    7.199921                    AFR  TCGA-5M-AAT6-01          COAD   \n",
       "1   26.629845                         TCGA-5M-AATE-01          COAD   \n",
       "\n",
       "   ANEUPLOIDY_SCORE  MSI_SCORE_MANTIS  MSI_SENSOR_SCORE  TMB_NONSYNONYMOUS  \n",
       "0               3.0            0.6600             20.58          62.166667  \n",
       "1              20.0            0.3252              0.47           3.800000  "
      ]
     },
     "execution_count": 3,
     "metadata": {},
     "output_type": "execute_result"
    }
   ],
   "source": [
    "pathological_df = pd.read_csv(\n",
    "    os.path.join(study_path, \"pathological_df_v2.csv\")\n",
    ")\n",
    "print(f\"Shape of new pathological df:{pathological_df.shape}\")\n",
    "pathological_df.head(2)"
   ]
  },
  {
   "cell_type": "code",
   "execution_count": 8,
   "metadata": {},
   "outputs": [],
   "source": [
    "df = pathological_df.copy()"
   ]
  },
  {
   "cell_type": "code",
   "execution_count": 9,
   "metadata": {},
   "outputs": [
    {
     "data": {
      "text/html": [
       "<div>\n",
       "<style scoped>\n",
       "    .dataframe tbody tr th:only-of-type {\n",
       "        vertical-align: middle;\n",
       "    }\n",
       "\n",
       "    .dataframe tbody tr th {\n",
       "        vertical-align: top;\n",
       "    }\n",
       "\n",
       "    .dataframe thead th {\n",
       "        text-align: right;\n",
       "    }\n",
       "</style>\n",
       "<table border=\"1\" class=\"dataframe\">\n",
       "  <thead>\n",
       "    <tr style=\"text-align: right;\">\n",
       "      <th></th>\n",
       "      <th>PATIENT_ID</th>\n",
       "      <th>AGE</th>\n",
       "      <th>SEX</th>\n",
       "      <th>PATH_M_STAGE</th>\n",
       "      <th>PATH_N_STAGE</th>\n",
       "      <th>PATH_T_STAGE</th>\n",
       "      <th>PERSON_NEOPLASM_CANCER_STATUS</th>\n",
       "      <th>PRIOR_DX</th>\n",
       "      <th>RADIATION_THERAPY</th>\n",
       "      <th>WEIGHT</th>\n",
       "      <th>PFS_MONTHS</th>\n",
       "      <th>GENETIC_ANCESTRY_LABEL</th>\n",
       "      <th>SAMPLE_ID</th>\n",
       "      <th>ONCOTREE_CODE</th>\n",
       "      <th>ANEUPLOIDY_SCORE</th>\n",
       "      <th>MSI_SCORE_MANTIS</th>\n",
       "      <th>MSI_SENSOR_SCORE</th>\n",
       "      <th>TMB_NONSYNONYMOUS</th>\n",
       "      <th>y</th>\n",
       "    </tr>\n",
       "  </thead>\n",
       "  <tbody>\n",
       "    <tr>\n",
       "      <th>0</th>\n",
       "      <td>TCGA-5M-AAT6</td>\n",
       "      <td>40.0</td>\n",
       "      <td>Female</td>\n",
       "      <td>M1A</td>\n",
       "      <td>N2B</td>\n",
       "      <td>T4A</td>\n",
       "      <td>With Tumor</td>\n",
       "      <td>No</td>\n",
       "      <td>No</td>\n",
       "      <td>99.1</td>\n",
       "      <td>7.199921</td>\n",
       "      <td>AFR</td>\n",
       "      <td>TCGA-5M-AAT6-01</td>\n",
       "      <td>COAD</td>\n",
       "      <td>3.0</td>\n",
       "      <td>0.6600</td>\n",
       "      <td>20.58</td>\n",
       "      <td>62.166667</td>\n",
       "      <td>0</td>\n",
       "    </tr>\n",
       "    <tr>\n",
       "      <th>1</th>\n",
       "      <td>TCGA-5M-AATE</td>\n",
       "      <td>76.0</td>\n",
       "      <td>Male</td>\n",
       "      <td>M0</td>\n",
       "      <td>N0</td>\n",
       "      <td>T3</td>\n",
       "      <td>With Tumor</td>\n",
       "      <td>No</td>\n",
       "      <td>No</td>\n",
       "      <td>75.4</td>\n",
       "      <td>26.629845</td>\n",
       "      <td></td>\n",
       "      <td>TCGA-5M-AATE-01</td>\n",
       "      <td>COAD</td>\n",
       "      <td>20.0</td>\n",
       "      <td>0.3252</td>\n",
       "      <td>0.47</td>\n",
       "      <td>3.800000</td>\n",
       "      <td>1</td>\n",
       "    </tr>\n",
       "  </tbody>\n",
       "</table>\n",
       "</div>"
      ],
      "text/plain": [
       "     PATIENT_ID   AGE     SEX PATH_M_STAGE PATH_N_STAGE PATH_T_STAGE  \\\n",
       "0  TCGA-5M-AAT6  40.0  Female          M1A          N2B          T4A   \n",
       "1  TCGA-5M-AATE  76.0    Male           M0           N0           T3   \n",
       "\n",
       "  PERSON_NEOPLASM_CANCER_STATUS PRIOR_DX RADIATION_THERAPY  WEIGHT  \\\n",
       "0                    With Tumor       No                No    99.1   \n",
       "1                    With Tumor       No                No    75.4   \n",
       "\n",
       "   PFS_MONTHS GENETIC_ANCESTRY_LABEL        SAMPLE_ID ONCOTREE_CODE  \\\n",
       "0    7.199921                    AFR  TCGA-5M-AAT6-01          COAD   \n",
       "1   26.629845                         TCGA-5M-AATE-01          COAD   \n",
       "\n",
       "   ANEUPLOIDY_SCORE  MSI_SCORE_MANTIS  MSI_SENSOR_SCORE  TMB_NONSYNONYMOUS  y  \n",
       "0               3.0            0.6600             20.58          62.166667  0  \n",
       "1              20.0            0.3252              0.47           3.800000  1  "
      ]
     },
     "execution_count": 9,
     "metadata": {},
     "output_type": "execute_result"
    }
   ],
   "source": [
    "def categorize_pfs(months):\n",
    "    \"\"\"categorize pfs into 3 classes at thresholds 12, 36, 36+\"\"\"\n",
    "    if months <= 12:\n",
    "        return 0\n",
    "    elif 12 < months <= 36:\n",
    "        return 1\n",
    "    else:\n",
    "        return 2\n",
    "\n",
    "\n",
    "df['y'] = df['PFS_MONTHS'].apply(categorize_pfs)\n",
    "df.head(2)"
   ]
  },
  {
   "cell_type": "code",
   "execution_count": 21,
   "metadata": {},
   "outputs": [
    {
     "data": {
      "text/plain": [
       "((88, 15), (88,))"
      ]
     },
     "execution_count": 21,
     "metadata": {},
     "output_type": "execute_result"
    }
   ],
   "source": [
    "X = df.drop([\"SAMPLE_ID\", \"PATIENT_ID\", \"PFS_MONTHS\", \"y\"], axis=1)\n",
    "y = df.y\n",
    "X.shape, y.shape"
   ]
  },
  {
   "cell_type": "code",
   "execution_count": 22,
   "metadata": {},
   "outputs": [
    {
     "name": "stdout",
     "output_type": "stream",
     "text": [
      "Label encoded PATH_M_STAGE\n",
      "Label encoded PATH_N_STAGE\n",
      "Label encoded PATH_T_STAGE\n"
     ]
    },
    {
     "data": {
      "text/plain": [
       "(88, 16)"
      ]
     },
     "execution_count": 22,
     "metadata": {},
     "output_type": "execute_result"
    }
   ],
   "source": [
    "X_preprocessed = preprocess_data(X)\n",
    "X_preprocessed.shape"
   ]
  },
  {
   "cell_type": "code",
   "execution_count": 16,
   "metadata": {},
   "outputs": [],
   "source": [
    "from colorectal_adenocarcinoma.model_evaluators import multiclass_classification, plot_feature_importance_plot_using_rf"
   ]
  },
  {
   "cell_type": "code",
   "execution_count": 18,
   "metadata": {},
   "outputs": [
    {
     "data": {
      "text/html": [
       "<div>\n",
       "<style scoped>\n",
       "    .dataframe tbody tr th:only-of-type {\n",
       "        vertical-align: middle;\n",
       "    }\n",
       "\n",
       "    .dataframe tbody tr th {\n",
       "        vertical-align: top;\n",
       "    }\n",
       "\n",
       "    .dataframe thead th {\n",
       "        text-align: right;\n",
       "    }\n",
       "</style>\n",
       "<table border=\"1\" class=\"dataframe\">\n",
       "  <thead>\n",
       "    <tr style=\"text-align: right;\">\n",
       "      <th></th>\n",
       "      <th>F1-Score</th>\n",
       "      <th>Recall</th>\n",
       "      <th>Accuracy</th>\n",
       "      <th>Precision</th>\n",
       "    </tr>\n",
       "  </thead>\n",
       "  <tbody>\n",
       "    <tr>\n",
       "      <th>K-Nearest Neighbors</th>\n",
       "      <td>0.453306</td>\n",
       "      <td>0.454406</td>\n",
       "      <td>0.454545</td>\n",
       "      <td>0.452381</td>\n",
       "    </tr>\n",
       "    <tr>\n",
       "      <th>Support Vector Machine</th>\n",
       "      <td>0.452381</td>\n",
       "      <td>0.453257</td>\n",
       "      <td>0.454545</td>\n",
       "      <td>0.460985</td>\n",
       "    </tr>\n",
       "    <tr>\n",
       "      <th>XGBoost</th>\n",
       "      <td>0.451997</td>\n",
       "      <td>0.452874</td>\n",
       "      <td>0.454545</td>\n",
       "      <td>0.452457</td>\n",
       "    </tr>\n",
       "    <tr>\n",
       "      <th>Random Forest</th>\n",
       "      <td>0.428197</td>\n",
       "      <td>0.429885</td>\n",
       "      <td>0.431818</td>\n",
       "      <td>0.439105</td>\n",
       "    </tr>\n",
       "    <tr>\n",
       "      <th>Linear SVM</th>\n",
       "      <td>0.411978</td>\n",
       "      <td>0.409195</td>\n",
       "      <td>0.409091</td>\n",
       "      <td>0.420592</td>\n",
       "    </tr>\n",
       "    <tr>\n",
       "      <th>Gradient Boosting</th>\n",
       "      <td>0.407527</td>\n",
       "      <td>0.407663</td>\n",
       "      <td>0.409091</td>\n",
       "      <td>0.416603</td>\n",
       "    </tr>\n",
       "    <tr>\n",
       "      <th>Logistic Regression</th>\n",
       "      <td>0.339102</td>\n",
       "      <td>0.340230</td>\n",
       "      <td>0.340909</td>\n",
       "      <td>0.338095</td>\n",
       "    </tr>\n",
       "    <tr>\n",
       "      <th>Decision Tree</th>\n",
       "      <td>0.336173</td>\n",
       "      <td>0.339464</td>\n",
       "      <td>0.340909</td>\n",
       "      <td>0.336398</td>\n",
       "    </tr>\n",
       "  </tbody>\n",
       "</table>\n",
       "</div>"
      ],
      "text/plain": [
       "                        F1-Score    Recall  Accuracy  Precision\n",
       "K-Nearest Neighbors     0.453306  0.454406  0.454545   0.452381\n",
       "Support Vector Machine  0.452381  0.453257  0.454545   0.460985\n",
       "XGBoost                 0.451997  0.452874  0.454545   0.452457\n",
       "Random Forest           0.428197  0.429885  0.431818   0.439105\n",
       "Linear SVM              0.411978  0.409195  0.409091   0.420592\n",
       "Gradient Boosting       0.407527  0.407663  0.409091   0.416603\n",
       "Logistic Regression     0.339102  0.340230  0.340909   0.338095\n",
       "Decision Tree           0.336173  0.339464  0.340909   0.336398"
      ]
     },
     "execution_count": 18,
     "metadata": {},
     "output_type": "execute_result"
    }
   ],
   "source": [
    "predictions = multiclass_classification(X_preprocessed, y, binary_classification=False)\n",
    "pd.DataFrame(predictions).T.sort_values(\"F1-Score\", ascending=False)\n"
   ]
  },
  {
   "cell_type": "code",
   "execution_count": 25,
   "metadata": {},
   "outputs": [
    {
     "data": {
      "text/plain": [
       "RADIATION_THERAPY_Yes                          4.000000\n",
       "PRIOR_DX_Y                                     5.000000\n",
       "ONCOTREE_CODE_MACR                             7.000000\n",
       "ONCOTREE_CODE_READ                            20.000000\n",
       "PERSON_NEOPLASM_CANCER_STATUS_With Tumor      30.000000\n",
       "PATH_M_STAGE                                  31.500000\n",
       "MSI_SCORE_MANTIS                              34.152900\n",
       "SEX_Male                                      47.000000\n",
       "GENETIC_ANCESTRY_LABEL                        61.000000\n",
       "PATH_N_STAGE                                  75.980000\n",
       "MSI_SENSOR_SCORE                             232.720000\n",
       "PATH_T_STAGE                                 271.500000\n",
       "TMB_NONSYNONYMOUS                            903.966667\n",
       "ANEUPLOIDY_SCORE                            1273.000000\n",
       "AGE                                         5417.000000\n",
       "WEIGHT                                      7043.326000\n",
       "dtype: float64"
      ]
     },
     "execution_count": 25,
     "metadata": {},
     "output_type": "execute_result"
    }
   ],
   "source": [
    "X_preprocessed.sum().sort_values()"
   ]
  },
  {
   "cell_type": "code",
   "execution_count": 27,
   "metadata": {},
   "outputs": [],
   "source": [
    "X2 = X_preprocessed.drop([\"RADIATION_THERAPY_Yes\", \"PRIOR_DX_Y\"], axis=1)"
   ]
  },
  {
   "cell_type": "code",
   "execution_count": 28,
   "metadata": {},
   "outputs": [
    {
     "data": {
      "text/html": [
       "<div>\n",
       "<style scoped>\n",
       "    .dataframe tbody tr th:only-of-type {\n",
       "        vertical-align: middle;\n",
       "    }\n",
       "\n",
       "    .dataframe tbody tr th {\n",
       "        vertical-align: top;\n",
       "    }\n",
       "\n",
       "    .dataframe thead th {\n",
       "        text-align: right;\n",
       "    }\n",
       "</style>\n",
       "<table border=\"1\" class=\"dataframe\">\n",
       "  <thead>\n",
       "    <tr style=\"text-align: right;\">\n",
       "      <th></th>\n",
       "      <th>F1-Score</th>\n",
       "      <th>Recall</th>\n",
       "      <th>Accuracy</th>\n",
       "      <th>Precision</th>\n",
       "    </tr>\n",
       "  </thead>\n",
       "  <tbody>\n",
       "    <tr>\n",
       "      <th>Random Forest</th>\n",
       "      <td>0.471014</td>\n",
       "      <td>0.475096</td>\n",
       "      <td>0.477273</td>\n",
       "      <td>0.472085</td>\n",
       "    </tr>\n",
       "    <tr>\n",
       "      <th>K-Nearest Neighbors</th>\n",
       "      <td>0.448486</td>\n",
       "      <td>0.454406</td>\n",
       "      <td>0.454545</td>\n",
       "      <td>0.449074</td>\n",
       "    </tr>\n",
       "    <tr>\n",
       "      <th>XGBoost</th>\n",
       "      <td>0.447633</td>\n",
       "      <td>0.452490</td>\n",
       "      <td>0.454545</td>\n",
       "      <td>0.446667</td>\n",
       "    </tr>\n",
       "    <tr>\n",
       "      <th>Support Vector Machine</th>\n",
       "      <td>0.436505</td>\n",
       "      <td>0.441379</td>\n",
       "      <td>0.443182</td>\n",
       "      <td>0.439946</td>\n",
       "    </tr>\n",
       "    <tr>\n",
       "      <th>Gradient Boosting</th>\n",
       "      <td>0.400640</td>\n",
       "      <td>0.396935</td>\n",
       "      <td>0.397727</td>\n",
       "      <td>0.410827</td>\n",
       "    </tr>\n",
       "    <tr>\n",
       "      <th>Linear SVM</th>\n",
       "      <td>0.365520</td>\n",
       "      <td>0.362835</td>\n",
       "      <td>0.363636</td>\n",
       "      <td>0.372948</td>\n",
       "    </tr>\n",
       "    <tr>\n",
       "      <th>Logistic Regression</th>\n",
       "      <td>0.336016</td>\n",
       "      <td>0.339847</td>\n",
       "      <td>0.340909</td>\n",
       "      <td>0.332920</td>\n",
       "    </tr>\n",
       "    <tr>\n",
       "      <th>Decision Tree</th>\n",
       "      <td>0.296880</td>\n",
       "      <td>0.304981</td>\n",
       "      <td>0.306818</td>\n",
       "      <td>0.298157</td>\n",
       "    </tr>\n",
       "  </tbody>\n",
       "</table>\n",
       "</div>"
      ],
      "text/plain": [
       "                        F1-Score    Recall  Accuracy  Precision\n",
       "Random Forest           0.471014  0.475096  0.477273   0.472085\n",
       "K-Nearest Neighbors     0.448486  0.454406  0.454545   0.449074\n",
       "XGBoost                 0.447633  0.452490  0.454545   0.446667\n",
       "Support Vector Machine  0.436505  0.441379  0.443182   0.439946\n",
       "Gradient Boosting       0.400640  0.396935  0.397727   0.410827\n",
       "Linear SVM              0.365520  0.362835  0.363636   0.372948\n",
       "Logistic Regression     0.336016  0.339847  0.340909   0.332920\n",
       "Decision Tree           0.296880  0.304981  0.306818   0.298157"
      ]
     },
     "execution_count": 28,
     "metadata": {},
     "output_type": "execute_result"
    }
   ],
   "source": [
    "predictions = multiclass_classification(X2, y, binary_classification=False)\n",
    "pd.DataFrame(predictions).T.sort_values(\"F1-Score\", ascending=False)\n"
   ]
  },
  {
   "cell_type": "code",
   "execution_count": 29,
   "metadata": {},
   "outputs": [
    {
     "data": {
      "image/png": "[encoded data removed]",
      "text/plain": [
       "<Figure size 1000x600 with 1 Axes>"
      ]
     },
     "metadata": {},
     "output_type": "display_data"
    }
   ],
   "source": [
    "plot_feature_importance_plot_using_rf(X2, y)"
   ]
  },
  {
   "cell_type": "code",
   "execution_count": null,
   "metadata": {},
   "outputs": [],
   "source": []
  }
 ],
 "metadata": {
  "kernelspec": {
   "display_name": "cancer_project1",
   "language": "python",
   "name": "python3"
  },
  "language_info": {
   "codemirror_mode": {
    "name": "ipython",
    "version": 3
   },
   "file_extension": ".py",
   "mimetype": "text/x-python",
   "name": "python",
   "nbconvert_exporter": "python",
   "pygments_lexer": "ipython3",
   "version": "3.12.3"
  }
 },
 "nbformat": 4,
 "nbformat_minor": 2
}
