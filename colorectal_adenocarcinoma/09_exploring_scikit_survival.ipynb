{
 "cells": [
  {
   "cell_type": "code",
   "execution_count": 1,
   "metadata": {},
   "outputs": [],
   "source": [
    "import os\n",
    "os.chdir(\"..\")"
   ]
  },
  {
   "cell_type": "code",
   "execution_count": 2,
   "metadata": {},
   "outputs": [],
   "source": [
    "import pandas as pd\n",
    "from sklearn.model_selection import train_test_split\n",
    "import numpy as np\n",
    "from helpers import load_config\n"
   ]
  },
  {
   "cell_type": "code",
   "execution_count": 3,
   "metadata": {},
   "outputs": [],
   "source": [
    "configs = load_config(os.path.join(\"configs\", \"configs.yaml\"))\n",
    "\n",
    "study_path = configs[\"STORAGE_DIR_STUDY2\"]"
   ]
  },
  {
   "cell_type": "code",
   "execution_count": 4,
   "metadata": {},
   "outputs": [
    {
     "data": {
      "text/html": [
       "<div>\n",
       "<style scoped>\n",
       "    .dataframe tbody tr th:only-of-type {\n",
       "        vertical-align: middle;\n",
       "    }\n",
       "\n",
       "    .dataframe tbody tr th {\n",
       "        vertical-align: top;\n",
       "    }\n",
       "\n",
       "    .dataframe thead th {\n",
       "        text-align: right;\n",
       "    }\n",
       "</style>\n",
       "<table border=\"1\" class=\"dataframe\">\n",
       "  <thead>\n",
       "    <tr style=\"text-align: right;\">\n",
       "      <th></th>\n",
       "      <th>SAMPLE_ID</th>\n",
       "      <th>APC</th>\n",
       "      <th>BAX</th>\n",
       "      <th>BMPR1A</th>\n",
       "      <th>BRAF</th>\n",
       "      <th>DCC</th>\n",
       "      <th>EGFR</th>\n",
       "      <th>ENG</th>\n",
       "      <th>EPCAM</th>\n",
       "      <th>ERBB2</th>\n",
       "      <th>...</th>\n",
       "      <th>PIK3CD</th>\n",
       "      <th>POLD1</th>\n",
       "      <th>POLE</th>\n",
       "      <th>PTEN</th>\n",
       "      <th>RNF43</th>\n",
       "      <th>SCG5</th>\n",
       "      <th>SMAD4</th>\n",
       "      <th>STK11</th>\n",
       "      <th>TGFBR2</th>\n",
       "      <th>TP53</th>\n",
       "    </tr>\n",
       "  </thead>\n",
       "  <tbody>\n",
       "    <tr>\n",
       "      <th>0</th>\n",
       "      <td>TCGA-3L-AA1B-01</td>\n",
       "      <td>1</td>\n",
       "      <td>0</td>\n",
       "      <td>0</td>\n",
       "      <td>1</td>\n",
       "      <td>0</td>\n",
       "      <td>0</td>\n",
       "      <td>0</td>\n",
       "      <td>0</td>\n",
       "      <td>0</td>\n",
       "      <td>...</td>\n",
       "      <td>0</td>\n",
       "      <td>0</td>\n",
       "      <td>0</td>\n",
       "      <td>0</td>\n",
       "      <td>0</td>\n",
       "      <td>0</td>\n",
       "      <td>0</td>\n",
       "      <td>0</td>\n",
       "      <td>0</td>\n",
       "      <td>0</td>\n",
       "    </tr>\n",
       "    <tr>\n",
       "      <th>1</th>\n",
       "      <td>TCGA-4N-A93T-01</td>\n",
       "      <td>0</td>\n",
       "      <td>0</td>\n",
       "      <td>0</td>\n",
       "      <td>0</td>\n",
       "      <td>0</td>\n",
       "      <td>0</td>\n",
       "      <td>0</td>\n",
       "      <td>0</td>\n",
       "      <td>0</td>\n",
       "      <td>...</td>\n",
       "      <td>0</td>\n",
       "      <td>0</td>\n",
       "      <td>0</td>\n",
       "      <td>0</td>\n",
       "      <td>0</td>\n",
       "      <td>0</td>\n",
       "      <td>0</td>\n",
       "      <td>0</td>\n",
       "      <td>0</td>\n",
       "      <td>1</td>\n",
       "    </tr>\n",
       "  </tbody>\n",
       "</table>\n",
       "<p>2 rows × 34 columns</p>\n",
       "</div>"
      ],
      "text/plain": [
       "         SAMPLE_ID  APC  BAX  BMPR1A  BRAF  DCC  EGFR  ENG  EPCAM  ERBB2  ...  \\\n",
       "0  TCGA-3L-AA1B-01    1    0       0     1    0     0    0      0      0  ...   \n",
       "1  TCGA-4N-A93T-01    0    0       0     0    0     0    0      0      0  ...   \n",
       "\n",
       "   PIK3CD  POLD1  POLE  PTEN  RNF43  SCG5  SMAD4  STK11  TGFBR2  TP53  \n",
       "0       0      0     0     0      0     0      0      0       0     0  \n",
       "1       0      0     0     0      0     0      0      0       0     1  \n",
       "\n",
       "[2 rows x 34 columns]"
      ]
     },
     "execution_count": 4,
     "metadata": {},
     "output_type": "execute_result"
    }
   ],
   "source": [
    "one_hot_df = pd.read_csv(\n",
    "    os.path.join(study_path, \"all_samples_40_genes_one_hot.csv\")\n",
    ")\n",
    "one_hot_df = one_hot_df.rename(\n",
    "    columns={\"Tumor_Sample_Barcode\": \"SAMPLE_ID\"}\n",
    ")\n",
    "one_hot_df.head(2)"
   ]
  },
  {
   "cell_type": "code",
   "execution_count": 5,
   "metadata": {},
   "outputs": [
    {
     "data": {
      "text/plain": [
       "APC       388\n",
       "TP53      317\n",
       "KRAS      220\n",
       "PIK3CA    151\n",
       "SMAD4      70\n",
       "BRAF       63\n",
       "DCC        51\n",
       "RNF43      48\n",
       "POLE       42\n",
       "PTEN       37\n",
       "NRAS       35\n",
       "POLD1      33\n",
       "NTRK2      30\n",
       "NTRK3      30\n",
       "MSH2       28\n",
       "MSH6       28\n",
       "ERBB2      27\n",
       "EGFR       26\n",
       "MLH1       23\n",
       "TGFBR2     23\n",
       "ENG        18\n",
       "PIK3CD     18\n",
       "GREM1      17\n",
       "NTRK1      15\n",
       "MSH3       14\n",
       "PIK3CB     14\n",
       "MUTYH      13\n",
       "BMPR1A     11\n",
       "STK11      10\n",
       "BAX         8\n",
       "EPCAM       5\n",
       "NTHL1       5\n",
       "SCG5        2\n",
       "dtype: int64"
      ]
     },
     "execution_count": 5,
     "metadata": {},
     "output_type": "execute_result"
    }
   ],
   "source": [
    "one_hot_df.drop(\"SAMPLE_ID\", axis=1).sum().sort_values(ascending=False)"
   ]
  },
  {
   "cell_type": "code",
   "execution_count": 6,
   "metadata": {},
   "outputs": [
    {
     "data": {
      "text/plain": [
       "APC       388\n",
       "TP53      317\n",
       "KRAS      220\n",
       "PIK3CA    151\n",
       "SMAD4      70\n",
       "BRAF       63\n",
       "DCC        51\n",
       "RNF43      48\n",
       "POLE       42\n",
       "PTEN       37\n",
       "NRAS       35\n",
       "POLD1      33\n",
       "NTRK2      30\n",
       "dtype: int64"
      ]
     },
     "execution_count": 6,
     "metadata": {},
     "output_type": "execute_result"
    }
   ],
   "source": [
    "one_hot_df = one_hot_df[[\"SAMPLE_ID\", \"APC\", \"TP53\", \"KRAS\", \"PIK3CA\", \"SMAD4\", \"DCC\", \"RNF43\", \"POLE\", \"POLD1\", \"NTRK2\", \"BRAF\", \"NRAS\", \"PTEN\"]]\n",
    "\n",
    "one_hot_df.drop(\"SAMPLE_ID\", axis=1).sum().sort_values(ascending=False)"
   ]
  },
  {
   "cell_type": "code",
   "execution_count": 7,
   "metadata": {},
   "outputs": [
    {
     "data": {
      "text/html": [
       "<div>\n",
       "<style scoped>\n",
       "    .dataframe tbody tr th:only-of-type {\n",
       "        vertical-align: middle;\n",
       "    }\n",
       "\n",
       "    .dataframe tbody tr th {\n",
       "        vertical-align: top;\n",
       "    }\n",
       "\n",
       "    .dataframe thead th {\n",
       "        text-align: right;\n",
       "    }\n",
       "</style>\n",
       "<table border=\"1\" class=\"dataframe\">\n",
       "  <thead>\n",
       "    <tr style=\"text-align: right;\">\n",
       "      <th></th>\n",
       "      <th>PATIENT_ID</th>\n",
       "      <th>AGE</th>\n",
       "      <th>SEX</th>\n",
       "      <th>PATH_M_STAGE</th>\n",
       "      <th>PATH_N_STAGE</th>\n",
       "      <th>PATH_T_STAGE</th>\n",
       "      <th>PERSON_NEOPLASM_CANCER_STATUS</th>\n",
       "      <th>PRIOR_DX</th>\n",
       "      <th>RADIATION_THERAPY</th>\n",
       "      <th>WEIGHT</th>\n",
       "      <th>PFS_STATUS</th>\n",
       "      <th>PFS_MONTHS</th>\n",
       "      <th>GENETIC_ANCESTRY_LABEL</th>\n",
       "      <th>SAMPLE_ID</th>\n",
       "      <th>ONCOTREE_CODE</th>\n",
       "      <th>ANEUPLOIDY_SCORE</th>\n",
       "      <th>MSI_SCORE_MANTIS</th>\n",
       "      <th>MSI_SENSOR_SCORE</th>\n",
       "      <th>TMB_NONSYNONYMOUS</th>\n",
       "    </tr>\n",
       "  </thead>\n",
       "  <tbody>\n",
       "    <tr>\n",
       "      <th>0</th>\n",
       "      <td>TCGA-3L-AA1B</td>\n",
       "      <td>61.0</td>\n",
       "      <td>Female</td>\n",
       "      <td>M0</td>\n",
       "      <td>N0</td>\n",
       "      <td>T2</td>\n",
       "      <td>Tumor Free</td>\n",
       "      <td>No</td>\n",
       "      <td>No</td>\n",
       "      <td>63.3</td>\n",
       "      <td>0:CENSORED</td>\n",
       "      <td>15.616267</td>\n",
       "      <td>AFR_ADMIX</td>\n",
       "      <td>TCGA-3L-AA1B-01</td>\n",
       "      <td>COAD</td>\n",
       "      <td>19.0</td>\n",
       "      <td>0.3057</td>\n",
       "      <td>0.05</td>\n",
       "      <td>4.033333</td>\n",
       "    </tr>\n",
       "    <tr>\n",
       "      <th>1</th>\n",
       "      <td>TCGA-4N-A93T</td>\n",
       "      <td>67.0</td>\n",
       "      <td>Male</td>\n",
       "      <td>M0</td>\n",
       "      <td>N1B</td>\n",
       "      <td>T4A</td>\n",
       "      <td>With Tumor</td>\n",
       "      <td>No</td>\n",
       "      <td>No</td>\n",
       "      <td>134.0</td>\n",
       "      <td>0:CENSORED</td>\n",
       "      <td>4.799947</td>\n",
       "      <td>AFR</td>\n",
       "      <td>TCGA-4N-A93T-01</td>\n",
       "      <td>COAD</td>\n",
       "      <td>13.0</td>\n",
       "      <td>0.3317</td>\n",
       "      <td>0.69</td>\n",
       "      <td>2.900000</td>\n",
       "    </tr>\n",
       "  </tbody>\n",
       "</table>\n",
       "</div>"
      ],
      "text/plain": [
       "     PATIENT_ID   AGE     SEX PATH_M_STAGE PATH_N_STAGE PATH_T_STAGE  \\\n",
       "0  TCGA-3L-AA1B  61.0  Female           M0           N0           T2   \n",
       "1  TCGA-4N-A93T  67.0    Male           M0          N1B          T4A   \n",
       "\n",
       "  PERSON_NEOPLASM_CANCER_STATUS PRIOR_DX RADIATION_THERAPY  WEIGHT  \\\n",
       "0                    Tumor Free       No                No    63.3   \n",
       "1                    With Tumor       No                No   134.0   \n",
       "\n",
       "   PFS_STATUS  PFS_MONTHS GENETIC_ANCESTRY_LABEL        SAMPLE_ID  \\\n",
       "0  0:CENSORED   15.616267              AFR_ADMIX  TCGA-3L-AA1B-01   \n",
       "1  0:CENSORED    4.799947                    AFR  TCGA-4N-A93T-01   \n",
       "\n",
       "  ONCOTREE_CODE  ANEUPLOIDY_SCORE  MSI_SCORE_MANTIS  MSI_SENSOR_SCORE  \\\n",
       "0          COAD              19.0            0.3057              0.05   \n",
       "1          COAD              13.0            0.3317              0.69   \n",
       "\n",
       "   TMB_NONSYNONYMOUS  \n",
       "0           4.033333  \n",
       "1           2.900000  "
      ]
     },
     "execution_count": 7,
     "metadata": {},
     "output_type": "execute_result"
    }
   ],
   "source": [
    "patho_df = pd.read_csv(\n",
    "    os.path.join(study_path, \"all_patient_sample_merge_relevant_columns.csv\")\n",
    ")\n",
    "patho_df.head(2)"
   ]
  },
  {
   "cell_type": "code",
   "execution_count": 8,
   "metadata": {},
   "outputs": [
    {
     "data": {
      "text/html": [
       "<div>\n",
       "<style scoped>\n",
       "    .dataframe tbody tr th:only-of-type {\n",
       "        vertical-align: middle;\n",
       "    }\n",
       "\n",
       "    .dataframe tbody tr th {\n",
       "        vertical-align: top;\n",
       "    }\n",
       "\n",
       "    .dataframe thead th {\n",
       "        text-align: right;\n",
       "    }\n",
       "</style>\n",
       "<table border=\"1\" class=\"dataframe\">\n",
       "  <thead>\n",
       "    <tr style=\"text-align: right;\">\n",
       "      <th></th>\n",
       "      <th>SAMPLE_ID</th>\n",
       "      <th>PFS_MONTHS</th>\n",
       "      <th>PFS_STATUS</th>\n",
       "    </tr>\n",
       "  </thead>\n",
       "  <tbody>\n",
       "    <tr>\n",
       "      <th>0</th>\n",
       "      <td>TCGA-3L-AA1B-01</td>\n",
       "      <td>15.616267</td>\n",
       "      <td>0:CENSORED</td>\n",
       "    </tr>\n",
       "    <tr>\n",
       "      <th>1</th>\n",
       "      <td>TCGA-4N-A93T-01</td>\n",
       "      <td>4.799947</td>\n",
       "      <td>0:CENSORED</td>\n",
       "    </tr>\n",
       "  </tbody>\n",
       "</table>\n",
       "</div>"
      ],
      "text/plain": [
       "         SAMPLE_ID  PFS_MONTHS  PFS_STATUS\n",
       "0  TCGA-3L-AA1B-01   15.616267  0:CENSORED\n",
       "1  TCGA-4N-A93T-01    4.799947  0:CENSORED"
      ]
     },
     "execution_count": 8,
     "metadata": {},
     "output_type": "execute_result"
    }
   ],
   "source": [
    "patho_df = patho_df[[\"SAMPLE_ID\", \"PFS_MONTHS\", \"PFS_STATUS\"]]\n",
    "patho_df.head(2)"
   ]
  },
  {
   "cell_type": "code",
   "execution_count": 9,
   "metadata": {},
   "outputs": [
    {
     "data": {
      "text/html": [
       "<div>\n",
       "<style scoped>\n",
       "    .dataframe tbody tr th:only-of-type {\n",
       "        vertical-align: middle;\n",
       "    }\n",
       "\n",
       "    .dataframe tbody tr th {\n",
       "        vertical-align: top;\n",
       "    }\n",
       "\n",
       "    .dataframe thead th {\n",
       "        text-align: right;\n",
       "    }\n",
       "</style>\n",
       "<table border=\"1\" class=\"dataframe\">\n",
       "  <thead>\n",
       "    <tr style=\"text-align: right;\">\n",
       "      <th></th>\n",
       "      <th>SAMPLE_ID</th>\n",
       "      <th>PFS_MONTHS</th>\n",
       "      <th>PFS_STATUS</th>\n",
       "    </tr>\n",
       "  </thead>\n",
       "  <tbody>\n",
       "    <tr>\n",
       "      <th>0</th>\n",
       "      <td>TCGA-3L-AA1B-01</td>\n",
       "      <td>15.616267</td>\n",
       "      <td>False</td>\n",
       "    </tr>\n",
       "    <tr>\n",
       "      <th>1</th>\n",
       "      <td>TCGA-4N-A93T-01</td>\n",
       "      <td>4.799947</td>\n",
       "      <td>False</td>\n",
       "    </tr>\n",
       "    <tr>\n",
       "      <th>2</th>\n",
       "      <td>TCGA-4T-AA8H-01</td>\n",
       "      <td>12.657396</td>\n",
       "      <td>False</td>\n",
       "    </tr>\n",
       "    <tr>\n",
       "      <th>3</th>\n",
       "      <td>TCGA-5M-AAT4-01</td>\n",
       "      <td>1.610941</td>\n",
       "      <td>True</td>\n",
       "    </tr>\n",
       "    <tr>\n",
       "      <th>4</th>\n",
       "      <td>TCGA-5M-AAT6-01</td>\n",
       "      <td>7.199921</td>\n",
       "      <td>True</td>\n",
       "    </tr>\n",
       "  </tbody>\n",
       "</table>\n",
       "</div>"
      ],
      "text/plain": [
       "         SAMPLE_ID  PFS_MONTHS  PFS_STATUS\n",
       "0  TCGA-3L-AA1B-01   15.616267       False\n",
       "1  TCGA-4N-A93T-01    4.799947       False\n",
       "2  TCGA-4T-AA8H-01   12.657396       False\n",
       "3  TCGA-5M-AAT4-01    1.610941        True\n",
       "4  TCGA-5M-AAT6-01    7.199921        True"
      ]
     },
     "execution_count": 9,
     "metadata": {},
     "output_type": "execute_result"
    }
   ],
   "source": [
    "patho_df['PFS_STATUS'] = patho_df['PFS_STATUS'].replace({'0:CENSORED': False, '1:PROGRESSION': True}).astype(bool)\n",
    "patho_df.head()"
   ]
  },
  {
   "cell_type": "code",
   "execution_count": 10,
   "metadata": {},
   "outputs": [
    {
     "data": {
      "text/html": [
       "<div>\n",
       "<style scoped>\n",
       "    .dataframe tbody tr th:only-of-type {\n",
       "        vertical-align: middle;\n",
       "    }\n",
       "\n",
       "    .dataframe tbody tr th {\n",
       "        vertical-align: top;\n",
       "    }\n",
       "\n",
       "    .dataframe thead th {\n",
       "        text-align: right;\n",
       "    }\n",
       "</style>\n",
       "<table border=\"1\" class=\"dataframe\">\n",
       "  <thead>\n",
       "    <tr style=\"text-align: right;\">\n",
       "      <th></th>\n",
       "      <th>SAMPLE_ID</th>\n",
       "      <th>PFS_MONTHS</th>\n",
       "      <th>PFS_STATUS</th>\n",
       "      <th>APC</th>\n",
       "      <th>TP53</th>\n",
       "      <th>KRAS</th>\n",
       "      <th>PIK3CA</th>\n",
       "      <th>SMAD4</th>\n",
       "      <th>DCC</th>\n",
       "      <th>RNF43</th>\n",
       "      <th>POLE</th>\n",
       "      <th>POLD1</th>\n",
       "      <th>NTRK2</th>\n",
       "      <th>BRAF</th>\n",
       "      <th>NRAS</th>\n",
       "      <th>PTEN</th>\n",
       "    </tr>\n",
       "  </thead>\n",
       "  <tbody>\n",
       "    <tr>\n",
       "      <th>0</th>\n",
       "      <td>TCGA-3L-AA1B-01</td>\n",
       "      <td>15.616267</td>\n",
       "      <td>False</td>\n",
       "      <td>1</td>\n",
       "      <td>0</td>\n",
       "      <td>0</td>\n",
       "      <td>1</td>\n",
       "      <td>0</td>\n",
       "      <td>0</td>\n",
       "      <td>0</td>\n",
       "      <td>0</td>\n",
       "      <td>0</td>\n",
       "      <td>0</td>\n",
       "      <td>1</td>\n",
       "      <td>1</td>\n",
       "      <td>0</td>\n",
       "    </tr>\n",
       "    <tr>\n",
       "      <th>1</th>\n",
       "      <td>TCGA-4N-A93T-01</td>\n",
       "      <td>4.799947</td>\n",
       "      <td>False</td>\n",
       "      <td>0</td>\n",
       "      <td>1</td>\n",
       "      <td>1</td>\n",
       "      <td>0</td>\n",
       "      <td>0</td>\n",
       "      <td>0</td>\n",
       "      <td>0</td>\n",
       "      <td>0</td>\n",
       "      <td>0</td>\n",
       "      <td>0</td>\n",
       "      <td>0</td>\n",
       "      <td>0</td>\n",
       "      <td>0</td>\n",
       "    </tr>\n",
       "  </tbody>\n",
       "</table>\n",
       "</div>"
      ],
      "text/plain": [
       "         SAMPLE_ID  PFS_MONTHS  PFS_STATUS  APC  TP53  KRAS  PIK3CA  SMAD4  \\\n",
       "0  TCGA-3L-AA1B-01   15.616267       False    1     0     0       1      0   \n",
       "1  TCGA-4N-A93T-01    4.799947       False    0     1     1       0      0   \n",
       "\n",
       "   DCC  RNF43  POLE  POLD1  NTRK2  BRAF  NRAS  PTEN  \n",
       "0    0      0     0      0      0     1     1     0  \n",
       "1    0      0     0      0      0     0     0     0  "
      ]
     },
     "execution_count": 10,
     "metadata": {},
     "output_type": "execute_result"
    }
   ],
   "source": [
    "df = pd.merge(patho_df, one_hot_df, on=\"SAMPLE_ID\", how=\"inner\")\n",
    "df.head(2)"
   ]
  },
  {
   "cell_type": "code",
   "execution_count": 11,
   "metadata": {},
   "outputs": [],
   "source": [
    "df = df.dropna()"
   ]
  },
  {
   "cell_type": "markdown",
   "metadata": {},
   "source": [
    "## Kaplan Meier Estimator"
   ]
  },
  {
   "cell_type": "code",
   "execution_count": 12,
   "metadata": {},
   "outputs": [
    {
     "data": {
      "text/plain": [
       "(492, 16)"
      ]
     },
     "execution_count": 12,
     "metadata": {},
     "output_type": "execute_result"
    }
   ],
   "source": [
    "df.shape"
   ]
  },
  {
   "cell_type": "code",
   "execution_count": 12,
   "metadata": {},
   "outputs": [
    {
     "data": {
      "text/plain": [
       "Text(0.5, 0, 'time $t$')"
      ]
     },
     "execution_count": 12,
     "metadata": {},
     "output_type": "execute_result"
    },
    {
     "data": {
      "image/png": "[encoded data removed]",
      "text/plain": [
       "<Figure size 640x480 with 1 Axes>"
      ]
     },
     "metadata": {},
     "output_type": "display_data"
    }
   ],
   "source": [
    "%matplotlib inline\n",
    "import matplotlib.pyplot as plt\n",
    "from sksurv.nonparametric import kaplan_meier_estimator\n",
    "\n",
    "time, survival_prob, conf_int = kaplan_meier_estimator(\n",
    "    df[\"PFS_STATUS\"], df[\"PFS_MONTHS\"], conf_type=\"log-log\"\n",
    ")\n",
    "plt.step(time, survival_prob, where=\"post\")\n",
    "plt.fill_between(time, conf_int[0], conf_int[1], alpha=0.25, step=\"post\")\n",
    "plt.ylim(0, 1)\n",
    "plt.ylabel(r\"est. probability of survival $\\hat{S}(t)$\")\n",
    "plt.xlabel(\"time $t$\")"
   ]
  },
  {
   "cell_type": "code",
   "execution_count": 13,
   "metadata": {},
   "outputs": [
    {
     "data": {
      "text/html": [
       "<div>\n",
       "<style scoped>\n",
       "    .dataframe tbody tr th:only-of-type {\n",
       "        vertical-align: middle;\n",
       "    }\n",
       "\n",
       "    .dataframe tbody tr th {\n",
       "        vertical-align: top;\n",
       "    }\n",
       "\n",
       "    .dataframe thead th {\n",
       "        text-align: right;\n",
       "    }\n",
       "</style>\n",
       "<table border=\"1\" class=\"dataframe\">\n",
       "  <thead>\n",
       "    <tr style=\"text-align: right;\">\n",
       "      <th></th>\n",
       "      <th>APC</th>\n",
       "      <th>TP53</th>\n",
       "      <th>KRAS</th>\n",
       "      <th>PIK3CA</th>\n",
       "      <th>SMAD4</th>\n",
       "      <th>DCC</th>\n",
       "      <th>RNF43</th>\n",
       "      <th>POLE</th>\n",
       "      <th>POLD1</th>\n",
       "      <th>NTRK2</th>\n",
       "      <th>BRAF</th>\n",
       "      <th>NRAS</th>\n",
       "      <th>PTEN</th>\n",
       "    </tr>\n",
       "  </thead>\n",
       "  <tbody>\n",
       "    <tr>\n",
       "      <th>0</th>\n",
       "      <td>1</td>\n",
       "      <td>0</td>\n",
       "      <td>0</td>\n",
       "      <td>1</td>\n",
       "      <td>0</td>\n",
       "      <td>0</td>\n",
       "      <td>0</td>\n",
       "      <td>0</td>\n",
       "      <td>0</td>\n",
       "      <td>0</td>\n",
       "      <td>1</td>\n",
       "      <td>1</td>\n",
       "      <td>0</td>\n",
       "    </tr>\n",
       "    <tr>\n",
       "      <th>1</th>\n",
       "      <td>0</td>\n",
       "      <td>1</td>\n",
       "      <td>1</td>\n",
       "      <td>0</td>\n",
       "      <td>0</td>\n",
       "      <td>0</td>\n",
       "      <td>0</td>\n",
       "      <td>0</td>\n",
       "      <td>0</td>\n",
       "      <td>0</td>\n",
       "      <td>0</td>\n",
       "      <td>0</td>\n",
       "      <td>0</td>\n",
       "    </tr>\n",
       "  </tbody>\n",
       "</table>\n",
       "</div>"
      ],
      "text/plain": [
       "   APC  TP53  KRAS  PIK3CA  SMAD4  DCC  RNF43  POLE  POLD1  NTRK2  BRAF  NRAS  \\\n",
       "0    1     0     0       1      0    0      0     0      0      0     1     1   \n",
       "1    0     1     1       0      0    0      0     0      0      0     0     0   \n",
       "\n",
       "   PTEN  \n",
       "0     0  \n",
       "1     0  "
      ]
     },
     "execution_count": 13,
     "metadata": {},
     "output_type": "execute_result"
    }
   ],
   "source": [
    "data_x_numeric = df.drop([\"SAMPLE_ID\", \"PFS_MONTHS\", \"PFS_STATUS\"], axis=1)\n",
    "data_x_numeric.head(2)"
   ]
  },
  {
   "cell_type": "code",
   "execution_count": 14,
   "metadata": {},
   "outputs": [
    {
     "name": "stdout",
     "output_type": "stream",
     "text": [
      "[(False, 15.61626722) (False,  4.7999474 ) (False, 12.65739554)\n",
      " ( True,  1.61094125) ( True,  7.1999211 )] (492,)\n"
     ]
    }
   ],
   "source": [
    "data_y = np.array(list(zip(df['PFS_STATUS'], df['PFS_MONTHS'])),\n",
    "                            dtype=[('PFS_STATUS', 'bool'), ('PFS_MONTHS', 'float')])\n",
    "\n",
    "print(data_y[0:5], data_y.shape)"
   ]
  },
  {
   "cell_type": "code",
   "execution_count": 15,
   "metadata": {},
   "outputs": [
    {
     "data": {
      "text/plain": [
       "CoxPHSurvivalAnalysis()"
      ]
     },
     "execution_count": 15,
     "metadata": {},
     "output_type": "execute_result"
    }
   ],
   "source": [
    "from sklearn import set_config\n",
    "from sksurv.linear_model import CoxPHSurvivalAnalysis\n",
    "\n",
    "set_config(display=\"text\")  # displays text representation of estimators\n",
    "\n",
    "estimator = CoxPHSurvivalAnalysis()\n",
    "estimator.fit(data_x_numeric, data_y)"
   ]
  },
  {
   "cell_type": "code",
   "execution_count": 16,
   "metadata": {},
   "outputs": [
    {
     "data": {
      "text/plain": [
       "APC      -0.536535\n",
       "TP53     -0.046357\n",
       "KRAS      0.388388\n",
       "PIK3CA   -0.129961\n",
       "SMAD4     0.220653\n",
       "DCC       0.266001\n",
       "RNF43    -0.150581\n",
       "POLE      0.612451\n",
       "POLD1    -0.170539\n",
       "NTRK2     0.065506\n",
       "BRAF     -0.618356\n",
       "NRAS     -0.104287\n",
       "PTEN     -0.697989\n",
       "dtype: float64"
      ]
     },
     "execution_count": 16,
     "metadata": {},
     "output_type": "execute_result"
    }
   ],
   "source": [
    "pd.Series(estimator.coef_, index=data_x_numeric.columns)"
   ]
  },
  {
   "cell_type": "code",
   "execution_count": 17,
   "metadata": {},
   "outputs": [
    {
     "data": {
      "text/plain": [
       "0.6222431380529623"
      ]
     },
     "execution_count": 17,
     "metadata": {},
     "output_type": "execute_result"
    }
   ],
   "source": [
    "from sksurv.metrics import concordance_index_censored\n",
    "\n",
    "prediction = estimator.predict(data_x_numeric)\n",
    "result = concordance_index_censored(df[\"PFS_STATUS\"], df[\"PFS_MONTHS\"], prediction)\n",
    "result[0]\n"
   ]
  },
  {
   "cell_type": "code",
   "execution_count": 18,
   "metadata": {},
   "outputs": [
    {
     "data": {
      "text/plain": [
       "KRAS      0.561560\n",
       "APC       0.528453\n",
       "BRAF      0.521610\n",
       "PTEN      0.520618\n",
       "POLE      0.517883\n",
       "DCC       0.517044\n",
       "SMAD4     0.514741\n",
       "TP53      0.508484\n",
       "RNF43     0.507110\n",
       "NTRK2     0.504757\n",
       "POLD1     0.500903\n",
       "NRAS      0.498257\n",
       "PIK3CA    0.493412\n",
       "dtype: float64"
      ]
     },
     "execution_count": 18,
     "metadata": {},
     "output_type": "execute_result"
    }
   ],
   "source": [
    "import numpy as np\n",
    "\n",
    "\n",
    "def fit_and_score_features(X, y):\n",
    "    n_features = X.shape[1]\n",
    "    scores = np.empty(n_features)\n",
    "    m = CoxPHSurvivalAnalysis()\n",
    "    for j in range(n_features):\n",
    "        Xj = X[:, j : j + 1]\n",
    "        m.fit(Xj, y)\n",
    "        scores[j] = m.score(Xj, y)\n",
    "    return scores\n",
    "\n",
    "\n",
    "scores = fit_and_score_features(data_x_numeric.values, data_y)\n",
    "pd.Series(scores, index=data_x_numeric.columns).sort_values(ascending=False)"
   ]
  },
  {
   "cell_type": "markdown",
   "metadata": {},
   "source": [
    "## Redoing for pathological data"
   ]
  },
  {
   "cell_type": "code",
   "execution_count": 19,
   "metadata": {},
   "outputs": [
    {
     "data": {
      "text/html": [
       "<div>\n",
       "<style scoped>\n",
       "    .dataframe tbody tr th:only-of-type {\n",
       "        vertical-align: middle;\n",
       "    }\n",
       "\n",
       "    .dataframe tbody tr th {\n",
       "        vertical-align: top;\n",
       "    }\n",
       "\n",
       "    .dataframe thead th {\n",
       "        text-align: right;\n",
       "    }\n",
       "</style>\n",
       "<table border=\"1\" class=\"dataframe\">\n",
       "  <thead>\n",
       "    <tr style=\"text-align: right;\">\n",
       "      <th></th>\n",
       "      <th>PATIENT_ID</th>\n",
       "      <th>AGE</th>\n",
       "      <th>SEX</th>\n",
       "      <th>PATH_M_STAGE</th>\n",
       "      <th>PATH_N_STAGE</th>\n",
       "      <th>PATH_T_STAGE</th>\n",
       "      <th>PERSON_NEOPLASM_CANCER_STATUS</th>\n",
       "      <th>PRIOR_DX</th>\n",
       "      <th>RADIATION_THERAPY</th>\n",
       "      <th>WEIGHT</th>\n",
       "      <th>PFS_STATUS</th>\n",
       "      <th>PFS_MONTHS</th>\n",
       "      <th>GENETIC_ANCESTRY_LABEL</th>\n",
       "      <th>SAMPLE_ID</th>\n",
       "      <th>ONCOTREE_CODE</th>\n",
       "      <th>ANEUPLOIDY_SCORE</th>\n",
       "      <th>MSI_SCORE_MANTIS</th>\n",
       "      <th>MSI_SENSOR_SCORE</th>\n",
       "      <th>TMB_NONSYNONYMOUS</th>\n",
       "    </tr>\n",
       "  </thead>\n",
       "  <tbody>\n",
       "    <tr>\n",
       "      <th>0</th>\n",
       "      <td>TCGA-3L-AA1B</td>\n",
       "      <td>61.0</td>\n",
       "      <td>Female</td>\n",
       "      <td>M0</td>\n",
       "      <td>N0</td>\n",
       "      <td>T2</td>\n",
       "      <td>Tumor Free</td>\n",
       "      <td>No</td>\n",
       "      <td>No</td>\n",
       "      <td>63.3</td>\n",
       "      <td>0:CENSORED</td>\n",
       "      <td>15.616267</td>\n",
       "      <td>AFR_ADMIX</td>\n",
       "      <td>TCGA-3L-AA1B-01</td>\n",
       "      <td>COAD</td>\n",
       "      <td>19.0</td>\n",
       "      <td>0.3057</td>\n",
       "      <td>0.05</td>\n",
       "      <td>4.033333</td>\n",
       "    </tr>\n",
       "    <tr>\n",
       "      <th>1</th>\n",
       "      <td>TCGA-4N-A93T</td>\n",
       "      <td>67.0</td>\n",
       "      <td>Male</td>\n",
       "      <td>M0</td>\n",
       "      <td>N1B</td>\n",
       "      <td>T4A</td>\n",
       "      <td>With Tumor</td>\n",
       "      <td>No</td>\n",
       "      <td>No</td>\n",
       "      <td>134.0</td>\n",
       "      <td>0:CENSORED</td>\n",
       "      <td>4.799947</td>\n",
       "      <td>AFR</td>\n",
       "      <td>TCGA-4N-A93T-01</td>\n",
       "      <td>COAD</td>\n",
       "      <td>13.0</td>\n",
       "      <td>0.3317</td>\n",
       "      <td>0.69</td>\n",
       "      <td>2.900000</td>\n",
       "    </tr>\n",
       "  </tbody>\n",
       "</table>\n",
       "</div>"
      ],
      "text/plain": [
       "     PATIENT_ID   AGE     SEX PATH_M_STAGE PATH_N_STAGE PATH_T_STAGE  \\\n",
       "0  TCGA-3L-AA1B  61.0  Female           M0           N0           T2   \n",
       "1  TCGA-4N-A93T  67.0    Male           M0          N1B          T4A   \n",
       "\n",
       "  PERSON_NEOPLASM_CANCER_STATUS PRIOR_DX RADIATION_THERAPY  WEIGHT  \\\n",
       "0                    Tumor Free       No                No    63.3   \n",
       "1                    With Tumor       No                No   134.0   \n",
       "\n",
       "   PFS_STATUS  PFS_MONTHS GENETIC_ANCESTRY_LABEL        SAMPLE_ID  \\\n",
       "0  0:CENSORED   15.616267              AFR_ADMIX  TCGA-3L-AA1B-01   \n",
       "1  0:CENSORED    4.799947                    AFR  TCGA-4N-A93T-01   \n",
       "\n",
       "  ONCOTREE_CODE  ANEUPLOIDY_SCORE  MSI_SCORE_MANTIS  MSI_SENSOR_SCORE  \\\n",
       "0          COAD              19.0            0.3057              0.05   \n",
       "1          COAD              13.0            0.3317              0.69   \n",
       "\n",
       "   TMB_NONSYNONYMOUS  \n",
       "0           4.033333  \n",
       "1           2.900000  "
      ]
     },
     "execution_count": 19,
     "metadata": {},
     "output_type": "execute_result"
    }
   ],
   "source": [
    "patho_df = pd.read_csv(\n",
    "    os.path.join(study_path, \"all_patient_sample_merge_relevant_columns.csv\")\n",
    ")\n",
    "patho_df.head(2)"
   ]
  },
  {
   "cell_type": "code",
   "execution_count": 20,
   "metadata": {},
   "outputs": [
    {
     "data": {
      "text/plain": [
       "WEIGHT                           277\n",
       "RADIATION_THERAPY                104\n",
       "PERSON_NEOPLASM_CANCER_STATUS     63\n",
       "TMB_NONSYNONYMOUS                 60\n",
       "MSI_SCORE_MANTIS                  37\n",
       "MSI_SENSOR_SCORE                  10\n",
       "PATH_M_STAGE                       9\n",
       "ANEUPLOIDY_SCORE                   8\n",
       "PFS_MONTHS                         4\n",
       "PFS_STATUS                         3\n",
       "PATH_N_STAGE                       2\n",
       "PATH_T_STAGE                       2\n",
       "PRIOR_DX                           2\n",
       "SEX                                2\n",
       "AGE                                2\n",
       "GENETIC_ANCESTRY_LABEL             0\n",
       "SAMPLE_ID                          0\n",
       "ONCOTREE_CODE                      0\n",
       "PATIENT_ID                         0\n",
       "dtype: int64"
      ]
     },
     "execution_count": 20,
     "metadata": {},
     "output_type": "execute_result"
    }
   ],
   "source": [
    "patho_df.isnull().sum().sort_values(ascending=False)"
   ]
  },
  {
   "cell_type": "code",
   "execution_count": 21,
   "metadata": {},
   "outputs": [],
   "source": [
    "from sklearn.impute import SimpleImputer\n",
    "\n",
    "imputer = SimpleImputer(strategy='mean')\n",
    "patho_df['WEIGHT'] = imputer.fit_transform(patho_df[['WEIGHT']])\n"
   ]
  },
  {
   "cell_type": "code",
   "execution_count": 22,
   "metadata": {},
   "outputs": [
    {
     "data": {
      "text/plain": [
       "RADIATION_THERAPY\n",
       "No     463\n",
       "NaN    104\n",
       "Yes     27\n",
       "Name: count, dtype: int64"
      ]
     },
     "execution_count": 22,
     "metadata": {},
     "output_type": "execute_result"
    }
   ],
   "source": [
    "patho_df[\"RADIATION_THERAPY\"].value_counts(dropna=False)"
   ]
  },
  {
   "cell_type": "code",
   "execution_count": 23,
   "metadata": {},
   "outputs": [],
   "source": [
    "patho_df = patho_df.dropna()"
   ]
  },
  {
   "cell_type": "code",
   "execution_count": 24,
   "metadata": {},
   "outputs": [
    {
     "name": "stderr",
     "output_type": "stream",
     "text": [
      "/var/folders/_0/qrjsyj4n0r951n63lt8qdzrc0000gn/T/ipykernel_15589/1348734535.py:1: FutureWarning: Downcasting behavior in `replace` is deprecated and will be removed in a future version. To retain the old behavior, explicitly call `result.infer_objects(copy=False)`. To opt-in to the future behavior, set `pd.set_option('future.no_silent_downcasting', True)`\n",
      "  patho_df['PFS_STATUS'] = patho_df['PFS_STATUS'].replace({'0:CENSORED': False, '1:PROGRESSION': True}).astype(bool)\n"
     ]
    }
   ],
   "source": [
    "patho_df['PFS_STATUS'] = patho_df['PFS_STATUS'].replace({'0:CENSORED': False, '1:PROGRESSION': True}).astype(bool)"
   ]
  },
  {
   "cell_type": "code",
   "execution_count": 25,
   "metadata": {},
   "outputs": [],
   "source": [
    "data_x = patho_df.drop([\"PATIENT_ID\", \"SAMPLE_ID\", \"PFS_STATUS\", \"PFS_MONTHS\"], axis=1)\n",
    "data_y = patho_df[[\"PFS_STATUS\", \"PFS_MONTHS\"]]"
   ]
  },
  {
   "cell_type": "code",
   "execution_count": 26,
   "metadata": {},
   "outputs": [],
   "source": [
    "data_y = np.array(list(zip(patho_df['PFS_STATUS'], patho_df['PFS_MONTHS'])),\n",
    "                            dtype=[('PFS_STATUS', 'bool'), ('PFS_MONTHS', 'float')])\n",
    "\n"
   ]
  },
  {
   "cell_type": "code",
   "execution_count": 27,
   "metadata": {},
   "outputs": [
    {
     "data": {
      "text/plain": [
       "Text(0.5, 0, 'time $t$')"
      ]
     },
     "execution_count": 27,
     "metadata": {},
     "output_type": "execute_result"
    },
    {
     "data": {
      "image/png": "[encoded data removed]",
      "text/plain": [
       "<Figure size 640x480 with 1 Axes>"
      ]
     },
     "metadata": {},
     "output_type": "display_data"
    }
   ],
   "source": [
    "%matplotlib inline\n",
    "import matplotlib.pyplot as plt\n",
    "from sksurv.nonparametric import kaplan_meier_estimator\n",
    "\n",
    "time, survival_prob, conf_int = kaplan_meier_estimator(\n",
    "    patho_df[\"PFS_STATUS\"], patho_df[\"PFS_MONTHS\"], conf_type=\"log-log\"\n",
    ")\n",
    "plt.step(time, survival_prob, where=\"post\")\n",
    "plt.fill_between(time, conf_int[0], conf_int[1], alpha=0.25, step=\"post\")\n",
    "plt.ylim(0, 1)\n",
    "plt.ylabel(r\"est. probability of survival $\\hat{S}(t)$\")\n",
    "plt.xlabel(\"time $t$\")"
   ]
  },
  {
   "cell_type": "code",
   "execution_count": 28,
   "metadata": {},
   "outputs": [],
   "source": [
    "from colorectal_adenocarcinoma.data_preprocessor import preprocess_data"
   ]
  },
  {
   "cell_type": "code",
   "execution_count": 29,
   "metadata": {},
   "outputs": [
    {
     "name": "stdout",
     "output_type": "stream",
     "text": [
      "Label encoded PATH_M_STAGE\n",
      "Label encoded PATH_N_STAGE\n",
      "Label encoded PATH_T_STAGE\n"
     ]
    }
   ],
   "source": [
    "data_x = preprocess_data(data_x)"
   ]
  },
  {
   "cell_type": "code",
   "execution_count": 37,
   "metadata": {},
   "outputs": [
    {
     "data": {
      "text/plain": [
       "CoxPHSurvivalAnalysis()"
      ]
     },
     "execution_count": 37,
     "metadata": {},
     "output_type": "execute_result"
    }
   ],
   "source": [
    "from sklearn import set_config\n",
    "from sksurv.linear_model import CoxPHSurvivalAnalysis\n",
    "\n",
    "set_config(display=\"text\")  # displays text representation of estimators\n",
    "\n",
    "estimator = CoxPHSurvivalAnalysis()\n",
    "estimator.fit(data_x, data_y)"
   ]
  },
  {
   "cell_type": "code",
   "execution_count": 41,
   "metadata": {},
   "outputs": [
    {
     "data": {
      "text/plain": [
       "AGE                                         0.002795\n",
       "PATH_M_STAGE                                0.923408\n",
       "PATH_N_STAGE                                0.529020\n",
       "PATH_T_STAGE                                0.582798\n",
       "WEIGHT                                     -0.011880\n",
       "GENETIC_ANCESTRY_LABEL                     -0.783405\n",
       "ANEUPLOIDY_SCORE                           -0.004555\n",
       "MSI_SCORE_MANTIS                            2.845361\n",
       "MSI_SENSOR_SCORE                           -0.045237\n",
       "TMB_NONSYNONYMOUS                          -0.002340\n",
       "SEX_Male                                    0.082931\n",
       "PERSON_NEOPLASM_CANCER_STATUS_With Tumor    1.369722\n",
       "PRIOR_DX_Y                                 -0.197228\n",
       "RADIATION_THERAPY_Yes                       0.730186\n",
       "ONCOTREE_CODE_MACR                         -0.361220\n",
       "ONCOTREE_CODE_READ                         -0.333630\n",
       "dtype: float64"
      ]
     },
     "execution_count": 41,
     "metadata": {},
     "output_type": "execute_result"
    }
   ],
   "source": [
    "pd.Series(estimator.coef_, index=data_x.columns)"
   ]
  },
  {
   "cell_type": "code",
   "execution_count": null,
   "metadata": {},
   "outputs": [],
   "source": [
    "x_new = pd.DataFrame.from_dict(\n",
    "    {\n",
    "        1: [61.0, 0, 0, 1, 60, 1, 0, 1],\n",
    "        2: [65, 0, 0, 1, 60, 1, 0, 0],\n",
    "        3: [65, 0, 1, 0, 60, 1, 0, 0],\n",
    "        4: [65, 0, 1, 0, 60, 1, 0, 1],\n",
    "    },\n",
    "    columns=data_x_numeric.columns,\n",
    "    orient=\"index\",\n",
    ")\n",
    "x_new"
   ]
  },
  {
   "cell_type": "code",
   "execution_count": 54,
   "metadata": {},
   "outputs": [
    {
     "data": {
      "text/plain": [
       "(True, 7.1999211)"
      ]
     },
     "execution_count": 54,
     "metadata": {},
     "output_type": "execute_result"
    }
   ],
   "source": [
    "data_y[4]"
   ]
  },
  {
   "cell_type": "code",
   "execution_count": 46,
   "metadata": {},
   "outputs": [],
   "source": [
    "target_value = (False, 74.56356643)\n",
    "index = np.where((data_y['PFS_STATUS'] == target_value[0]) & (data_y['PFS_MONTHS'] == target_value[1]))[0]"
   ]
  },
  {
   "cell_type": "code",
   "execution_count": 65,
   "metadata": {},
   "outputs": [],
   "source": [
    "x_new = data_x.iloc[[269, 4]]"
   ]
  },
  {
   "cell_type": "code",
   "execution_count": 66,
   "metadata": {},
   "outputs": [
    {
     "data": {
      "text/plain": [
       "<matplotlib.legend.Legend at 0x1524685f0>"
      ]
     },
     "execution_count": 66,
     "metadata": {},
     "output_type": "execute_result"
    },
    {
     "data": {
      "image/png": "[encoded data removed]",
      "text/plain": [
       "<Figure size 640x480 with 1 Axes>"
      ]
     },
     "metadata": {},
     "output_type": "display_data"
    }
   ],
   "source": [
    "import numpy as np\n",
    "\n",
    "pred_surv = estimator.predict_survival_function(x_new)\n",
    "time_points = np.arange(1, 148)\n",
    "for i, surv_func in enumerate(pred_surv):\n",
    "    plt.step(time_points, surv_func(time_points), where=\"post\", label=f\"Sample {i + 1}\")\n",
    "plt.ylabel(r\"est. probability of survival $\\hat{S}(t)$\")\n",
    "plt.xlabel(\"time $t$\")\n",
    "plt.legend(loc=\"best\")"
   ]
  },
  {
   "cell_type": "code",
   "execution_count": 67,
   "metadata": {},
   "outputs": [
    {
     "data": {
      "text/html": [
       "<div>\n",
       "<style scoped>\n",
       "    .dataframe tbody tr th:only-of-type {\n",
       "        vertical-align: middle;\n",
       "    }\n",
       "\n",
       "    .dataframe tbody tr th {\n",
       "        vertical-align: top;\n",
       "    }\n",
       "\n",
       "    .dataframe thead th {\n",
       "        text-align: right;\n",
       "    }\n",
       "</style>\n",
       "<table border=\"1\" class=\"dataframe\">\n",
       "  <thead>\n",
       "    <tr style=\"text-align: right;\">\n",
       "      <th></th>\n",
       "      <th>AGE</th>\n",
       "      <th>PATH_M_STAGE</th>\n",
       "      <th>PATH_N_STAGE</th>\n",
       "      <th>PATH_T_STAGE</th>\n",
       "      <th>WEIGHT</th>\n",
       "      <th>GENETIC_ANCESTRY_LABEL</th>\n",
       "      <th>ANEUPLOIDY_SCORE</th>\n",
       "      <th>MSI_SCORE_MANTIS</th>\n",
       "      <th>MSI_SENSOR_SCORE</th>\n",
       "      <th>TMB_NONSYNONYMOUS</th>\n",
       "      <th>SEX_Male</th>\n",
       "      <th>PERSON_NEOPLASM_CANCER_STATUS_With Tumor</th>\n",
       "      <th>PRIOR_DX_Y</th>\n",
       "      <th>RADIATION_THERAPY_Yes</th>\n",
       "      <th>ONCOTREE_CODE_MACR</th>\n",
       "      <th>ONCOTREE_CODE_READ</th>\n",
       "    </tr>\n",
       "  </thead>\n",
       "  <tbody>\n",
       "    <tr>\n",
       "      <th>399</th>\n",
       "      <td>69.0</td>\n",
       "      <td>0.0</td>\n",
       "      <td>2.0</td>\n",
       "      <td>3.0</td>\n",
       "      <td>88.0</td>\n",
       "      <td>1</td>\n",
       "      <td>17.0</td>\n",
       "      <td>0.3963</td>\n",
       "      <td>0.88</td>\n",
       "      <td>5.333333</td>\n",
       "      <td>1</td>\n",
       "      <td>0</td>\n",
       "      <td>0</td>\n",
       "      <td>0</td>\n",
       "      <td>0</td>\n",
       "      <td>0</td>\n",
       "    </tr>\n",
       "    <tr>\n",
       "      <th>4</th>\n",
       "      <td>40.0</td>\n",
       "      <td>1.0</td>\n",
       "      <td>2.5</td>\n",
       "      <td>4.0</td>\n",
       "      <td>99.1</td>\n",
       "      <td>0</td>\n",
       "      <td>3.0</td>\n",
       "      <td>0.6600</td>\n",
       "      <td>20.58</td>\n",
       "      <td>62.166667</td>\n",
       "      <td>0</td>\n",
       "      <td>1</td>\n",
       "      <td>0</td>\n",
       "      <td>0</td>\n",
       "      <td>0</td>\n",
       "      <td>0</td>\n",
       "    </tr>\n",
       "  </tbody>\n",
       "</table>\n",
       "</div>"
      ],
      "text/plain": [
       "      AGE  PATH_M_STAGE  PATH_N_STAGE  PATH_T_STAGE  WEIGHT  \\\n",
       "399  69.0           0.0           2.0           3.0    88.0   \n",
       "4    40.0           1.0           2.5           4.0    99.1   \n",
       "\n",
       "     GENETIC_ANCESTRY_LABEL  ANEUPLOIDY_SCORE  MSI_SCORE_MANTIS  \\\n",
       "399                       1              17.0            0.3963   \n",
       "4                         0               3.0            0.6600   \n",
       "\n",
       "     MSI_SENSOR_SCORE  TMB_NONSYNONYMOUS  SEX_Male  \\\n",
       "399              0.88           5.333333         1   \n",
       "4               20.58          62.166667         0   \n",
       "\n",
       "     PERSON_NEOPLASM_CANCER_STATUS_With Tumor  PRIOR_DX_Y  \\\n",
       "399                                         0           0   \n",
       "4                                           1           0   \n",
       "\n",
       "     RADIATION_THERAPY_Yes  ONCOTREE_CODE_MACR  ONCOTREE_CODE_READ  \n",
       "399                      0                   0                   0  \n",
       "4                        0                   0                   0  "
      ]
     },
     "execution_count": 67,
     "metadata": {},
     "output_type": "execute_result"
    }
   ],
   "source": [
    "x_new"
   ]
  }
 ],
 "metadata": {
  "kernelspec": {
   "display_name": "cancer_project1",
   "language": "python",
   "name": "python3"
  },
  "language_info": {
   "codemirror_mode": {
    "name": "ipython",
    "version": 3
   },
   "file_extension": ".py",
   "mimetype": "text/x-python",
   "name": "python",
   "nbconvert_exporter": "python",
   "pygments_lexer": "ipython3",
   "version": "3.12.3"
  }
 },
 "nbformat": 4,
 "nbformat_minor": 2
}
