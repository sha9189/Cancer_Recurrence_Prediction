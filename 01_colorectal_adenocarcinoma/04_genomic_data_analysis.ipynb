{
 "cells": [
  {
   "cell_type": "markdown",
   "metadata": {},
   "source": [
    "# Genomic Data Analysis"
   ]
  },
  {
   "cell_type": "code",
   "execution_count": 1,
   "metadata": {},
   "outputs": [],
   "source": [
    "import os\n",
    "os.chdir(\"..\")"
   ]
  },
  {
   "cell_type": "code",
   "execution_count": 2,
   "metadata": {},
   "outputs": [],
   "source": [
    "import pandas as pd\n",
    "from sklearn.model_selection import train_test_split\n",
    "import numpy as np\n",
    "from helpers import load_config\n"
   ]
  },
  {
   "cell_type": "code",
   "execution_count": 3,
   "metadata": {},
   "outputs": [],
   "source": [
    "configs = load_config(os.path.join(\"configs\", \"configs.yaml\"))"
   ]
  },
  {
   "cell_type": "code",
   "execution_count": 4,
   "metadata": {},
   "outputs": [],
   "source": [
    "study_path = configs[\"STORAGE_DIR_STUDY2\"]"
   ]
  },
  {
   "cell_type": "code",
   "execution_count": 5,
   "metadata": {},
   "outputs": [
    {
     "name": "stderr",
     "output_type": "stream",
     "text": [
      "/var/folders/_0/qrjsyj4n0r951n63lt8qdzrc0000gn/T/ipykernel_97805/1016927232.py:1: DtypeWarning: Columns (4,38,39) have mixed types. Specify dtype option on import or set low_memory=False.\n",
      "  mutations_df = pd.read_csv(\n"
     ]
    },
    {
     "data": {
      "text/html": [
       "<div>\n",
       "<style scoped>\n",
       "    .dataframe tbody tr th:only-of-type {\n",
       "        vertical-align: middle;\n",
       "    }\n",
       "\n",
       "    .dataframe tbody tr th {\n",
       "        vertical-align: top;\n",
       "    }\n",
       "\n",
       "    .dataframe thead th {\n",
       "        text-align: right;\n",
       "    }\n",
       "</style>\n",
       "<table border=\"1\" class=\"dataframe\">\n",
       "  <thead>\n",
       "    <tr style=\"text-align: right;\">\n",
       "      <th></th>\n",
       "      <th>Hugo_Symbol</th>\n",
       "      <th>Entrez_Gene_Id</th>\n",
       "      <th>Center</th>\n",
       "      <th>NCBI_Build</th>\n",
       "      <th>Chromosome</th>\n",
       "      <th>Start_Position</th>\n",
       "      <th>End_Position</th>\n",
       "      <th>Strand</th>\n",
       "      <th>Consequence</th>\n",
       "      <th>Variant_Classification</th>\n",
       "      <th>...</th>\n",
       "      <th>SYMBOL_SOURCE</th>\n",
       "      <th>TREMBL</th>\n",
       "      <th>TSL</th>\n",
       "      <th>UNIPARC</th>\n",
       "      <th>VARIANT_CLASS</th>\n",
       "      <th>all_effects</th>\n",
       "      <th>cDNA_position</th>\n",
       "      <th>n_depth</th>\n",
       "      <th>t_depth</th>\n",
       "      <th>Annotation_Status</th>\n",
       "    </tr>\n",
       "  </thead>\n",
       "  <tbody>\n",
       "    <tr>\n",
       "      <th>0</th>\n",
       "      <td>DMBT1</td>\n",
       "      <td>1755.0</td>\n",
       "      <td>.</td>\n",
       "      <td>GRCh37</td>\n",
       "      <td>10</td>\n",
       "      <td>124399948</td>\n",
       "      <td>124399948</td>\n",
       "      <td>+</td>\n",
       "      <td>synonymous_variant</td>\n",
       "      <td>Silent</td>\n",
       "      <td>...</td>\n",
       "      <td>HGNC</td>\n",
       "      <td>B6V682_HUMAN</td>\n",
       "      <td>.</td>\n",
       "      <td>UPI000047021C</td>\n",
       "      <td>SNV</td>\n",
       "      <td>DMBT1,synonymous_variant,p.%3D,ENST00000368956...</td>\n",
       "      <td>7054</td>\n",
       "      <td>115</td>\n",
       "      <td>131</td>\n",
       "      <td>SUCCESS</td>\n",
       "    </tr>\n",
       "    <tr>\n",
       "      <th>1</th>\n",
       "      <td>C10orf90</td>\n",
       "      <td>118611.0</td>\n",
       "      <td>.</td>\n",
       "      <td>GRCh37</td>\n",
       "      <td>10</td>\n",
       "      <td>128193330</td>\n",
       "      <td>128193330</td>\n",
       "      <td>+</td>\n",
       "      <td>missense_variant</td>\n",
       "      <td>Missense_Mutation</td>\n",
       "      <td>...</td>\n",
       "      <td>HGNC</td>\n",
       "      <td>S4R3N7_HUMAN,Q5T025_HUMAN</td>\n",
       "      <td>.</td>\n",
       "      <td>UPI00001D808F</td>\n",
       "      <td>SNV</td>\n",
       "      <td>C10orf90,missense_variant,p.Val100Met,ENST0000...</td>\n",
       "      <td>560</td>\n",
       "      <td>63</td>\n",
       "      <td>64</td>\n",
       "      <td>SUCCESS</td>\n",
       "    </tr>\n",
       "    <tr>\n",
       "      <th>2</th>\n",
       "      <td>WDFY4</td>\n",
       "      <td>57705.0</td>\n",
       "      <td>.</td>\n",
       "      <td>GRCh37</td>\n",
       "      <td>10</td>\n",
       "      <td>49997997</td>\n",
       "      <td>49997997</td>\n",
       "      <td>+</td>\n",
       "      <td>missense_variant</td>\n",
       "      <td>Missense_Mutation</td>\n",
       "      <td>...</td>\n",
       "      <td>HGNC</td>\n",
       "      <td>Q6PIM1_HUMAN</td>\n",
       "      <td>.</td>\n",
       "      <td>UPI000176ADB8</td>\n",
       "      <td>SNV</td>\n",
       "      <td>WDFY4,missense_variant,p.Arg1345Trp,ENST000003...</td>\n",
       "      <td>4060</td>\n",
       "      <td>148</td>\n",
       "      <td>149</td>\n",
       "      <td>SUCCESS</td>\n",
       "    </tr>\n",
       "    <tr>\n",
       "      <th>3</th>\n",
       "      <td>PRKCQ</td>\n",
       "      <td>5588.0</td>\n",
       "      <td>.</td>\n",
       "      <td>GRCh37</td>\n",
       "      <td>10</td>\n",
       "      <td>6533674</td>\n",
       "      <td>6533674</td>\n",
       "      <td>+</td>\n",
       "      <td>missense_variant</td>\n",
       "      <td>Missense_Mutation</td>\n",
       "      <td>...</td>\n",
       "      <td>HGNC</td>\n",
       "      <td>.</td>\n",
       "      <td>.</td>\n",
       "      <td>UPI000012DF74</td>\n",
       "      <td>SNV</td>\n",
       "      <td>PRKCQ,missense_variant,p.Gly254Val,ENST0000039...</td>\n",
       "      <td>861</td>\n",
       "      <td>197</td>\n",
       "      <td>228</td>\n",
       "      <td>SUCCESS</td>\n",
       "    </tr>\n",
       "    <tr>\n",
       "      <th>4</th>\n",
       "      <td>DYNC2H1</td>\n",
       "      <td>79659.0</td>\n",
       "      <td>.</td>\n",
       "      <td>GRCh37</td>\n",
       "      <td>11</td>\n",
       "      <td>103153768</td>\n",
       "      <td>103153768</td>\n",
       "      <td>+</td>\n",
       "      <td>missense_variant</td>\n",
       "      <td>Missense_Mutation</td>\n",
       "      <td>...</td>\n",
       "      <td>HGNC</td>\n",
       "      <td>.</td>\n",
       "      <td>.</td>\n",
       "      <td>UPI0000481AC7</td>\n",
       "      <td>SNV</td>\n",
       "      <td>DYNC2H1,missense_variant,p.Pro3622Leu,ENST0000...</td>\n",
       "      <td>10865</td>\n",
       "      <td>204</td>\n",
       "      <td>199</td>\n",
       "      <td>SUCCESS</td>\n",
       "    </tr>\n",
       "  </tbody>\n",
       "</table>\n",
       "<p>5 rows × 114 columns</p>\n",
       "</div>"
      ],
      "text/plain": [
       "  Hugo_Symbol  Entrez_Gene_Id Center NCBI_Build Chromosome  Start_Position  \\\n",
       "0       DMBT1          1755.0      .     GRCh37         10       124399948   \n",
       "1    C10orf90        118611.0      .     GRCh37         10       128193330   \n",
       "2       WDFY4         57705.0      .     GRCh37         10        49997997   \n",
       "3       PRKCQ          5588.0      .     GRCh37         10         6533674   \n",
       "4     DYNC2H1         79659.0      .     GRCh37         11       103153768   \n",
       "\n",
       "   End_Position Strand         Consequence Variant_Classification  ...  \\\n",
       "0     124399948      +  synonymous_variant                 Silent  ...   \n",
       "1     128193330      +    missense_variant      Missense_Mutation  ...   \n",
       "2      49997997      +    missense_variant      Missense_Mutation  ...   \n",
       "3       6533674      +    missense_variant      Missense_Mutation  ...   \n",
       "4     103153768      +    missense_variant      Missense_Mutation  ...   \n",
       "\n",
       "  SYMBOL_SOURCE                     TREMBL TSL        UNIPARC VARIANT_CLASS  \\\n",
       "0          HGNC               B6V682_HUMAN   .  UPI000047021C           SNV   \n",
       "1          HGNC  S4R3N7_HUMAN,Q5T025_HUMAN   .  UPI00001D808F           SNV   \n",
       "2          HGNC               Q6PIM1_HUMAN   .  UPI000176ADB8           SNV   \n",
       "3          HGNC                          .   .  UPI000012DF74           SNV   \n",
       "4          HGNC                          .   .  UPI0000481AC7           SNV   \n",
       "\n",
       "                                         all_effects cDNA_position n_depth  \\\n",
       "0  DMBT1,synonymous_variant,p.%3D,ENST00000368956...          7054     115   \n",
       "1  C10orf90,missense_variant,p.Val100Met,ENST0000...           560      63   \n",
       "2  WDFY4,missense_variant,p.Arg1345Trp,ENST000003...          4060     148   \n",
       "3  PRKCQ,missense_variant,p.Gly254Val,ENST0000039...           861     197   \n",
       "4  DYNC2H1,missense_variant,p.Pro3622Leu,ENST0000...         10865     204   \n",
       "\n",
       "  t_depth Annotation_Status  \n",
       "0     131           SUCCESS  \n",
       "1      64           SUCCESS  \n",
       "2     149           SUCCESS  \n",
       "3     228           SUCCESS  \n",
       "4     199           SUCCESS  \n",
       "\n",
       "[5 rows x 114 columns]"
      ]
     },
     "execution_count": 5,
     "metadata": {},
     "output_type": "execute_result"
    }
   ],
   "source": [
    "mutations_df = pd.read_csv(\n",
    "    os.path.join(study_path, \"data_mutations.txt\"),\n",
    "    sep=\"\\t\",\n",
    "    header=0\n",
    ")\n",
    "mutations_df.head()"
   ]
  },
  {
   "cell_type": "code",
   "execution_count": 6,
   "metadata": {},
   "outputs": [
    {
     "data": {
      "text/html": [
       "<div>\n",
       "<style scoped>\n",
       "    .dataframe tbody tr th:only-of-type {\n",
       "        vertical-align: middle;\n",
       "    }\n",
       "\n",
       "    .dataframe tbody tr th {\n",
       "        vertical-align: top;\n",
       "    }\n",
       "\n",
       "    .dataframe thead th {\n",
       "        text-align: right;\n",
       "    }\n",
       "</style>\n",
       "<table border=\"1\" class=\"dataframe\">\n",
       "  <thead>\n",
       "    <tr style=\"text-align: right;\">\n",
       "      <th></th>\n",
       "      <th>Hugo_Symbol</th>\n",
       "      <th>Tumor_Sample_Barcode</th>\n",
       "    </tr>\n",
       "  </thead>\n",
       "  <tbody>\n",
       "    <tr>\n",
       "      <th>0</th>\n",
       "      <td>DMBT1</td>\n",
       "      <td>TCGA-3L-AA1B-01</td>\n",
       "    </tr>\n",
       "    <tr>\n",
       "      <th>1</th>\n",
       "      <td>C10orf90</td>\n",
       "      <td>TCGA-3L-AA1B-01</td>\n",
       "    </tr>\n",
       "    <tr>\n",
       "      <th>2</th>\n",
       "      <td>WDFY4</td>\n",
       "      <td>TCGA-3L-AA1B-01</td>\n",
       "    </tr>\n",
       "    <tr>\n",
       "      <th>3</th>\n",
       "      <td>PRKCQ</td>\n",
       "      <td>TCGA-3L-AA1B-01</td>\n",
       "    </tr>\n",
       "    <tr>\n",
       "      <th>4</th>\n",
       "      <td>DYNC2H1</td>\n",
       "      <td>TCGA-3L-AA1B-01</td>\n",
       "    </tr>\n",
       "    <tr>\n",
       "      <th>...</th>\n",
       "      <td>...</td>\n",
       "      <td>...</td>\n",
       "    </tr>\n",
       "    <tr>\n",
       "      <th>332605</th>\n",
       "      <td>KRTAP1-3</td>\n",
       "      <td>TCGA-5M-AAT6-01</td>\n",
       "    </tr>\n",
       "    <tr>\n",
       "      <th>332606</th>\n",
       "      <td>ORM2</td>\n",
       "      <td>TCGA-5M-AAT6-01</td>\n",
       "    </tr>\n",
       "    <tr>\n",
       "      <th>332607</th>\n",
       "      <td>OR13C5</td>\n",
       "      <td>TCGA-CM-6171-01</td>\n",
       "    </tr>\n",
       "    <tr>\n",
       "      <th>332608</th>\n",
       "      <td>ORM2</td>\n",
       "      <td>TCGA-G4-6588-01</td>\n",
       "    </tr>\n",
       "    <tr>\n",
       "      <th>332609</th>\n",
       "      <td>MIR519E</td>\n",
       "      <td>TCGA-AG-A00Y-01</td>\n",
       "    </tr>\n",
       "  </tbody>\n",
       "</table>\n",
       "<p>332610 rows × 2 columns</p>\n",
       "</div>"
      ],
      "text/plain": [
       "       Hugo_Symbol Tumor_Sample_Barcode\n",
       "0            DMBT1      TCGA-3L-AA1B-01\n",
       "1         C10orf90      TCGA-3L-AA1B-01\n",
       "2            WDFY4      TCGA-3L-AA1B-01\n",
       "3            PRKCQ      TCGA-3L-AA1B-01\n",
       "4          DYNC2H1      TCGA-3L-AA1B-01\n",
       "...            ...                  ...\n",
       "332605    KRTAP1-3      TCGA-5M-AAT6-01\n",
       "332606        ORM2      TCGA-5M-AAT6-01\n",
       "332607      OR13C5      TCGA-CM-6171-01\n",
       "332608        ORM2      TCGA-G4-6588-01\n",
       "332609     MIR519E      TCGA-AG-A00Y-01\n",
       "\n",
       "[332610 rows x 2 columns]"
      ]
     },
     "execution_count": 6,
     "metadata": {},
     "output_type": "execute_result"
    }
   ],
   "source": [
    "mutations_df[[\"Hugo_Symbol\", \"Tumor_Sample_Barcode\"]]"
   ]
  },
  {
   "cell_type": "code",
   "execution_count": 7,
   "metadata": {},
   "outputs": [
    {
     "name": "stdout",
     "output_type": "stream",
     "text": [
      "<class 'pandas.core.frame.DataFrame'>\n",
      "RangeIndex: 332610 entries, 0 to 332609\n",
      "Columns: 114 entries, Hugo_Symbol to Annotation_Status\n",
      "dtypes: float64(3), int64(9), object(102)\n",
      "memory usage: 289.3+ MB\n",
      "None\n"
     ]
    }
   ],
   "source": [
    "print(mutations_df.info())"
   ]
  },
  {
   "cell_type": "code",
   "execution_count": 8,
   "metadata": {},
   "outputs": [
    {
     "name": "stdout",
     "output_type": "stream",
     "text": [
      "Index(['Hugo_Symbol', 'Entrez_Gene_Id', 'Center', 'NCBI_Build', 'Chromosome',\n",
      "       'Start_Position', 'End_Position', 'Strand', 'Consequence',\n",
      "       'Variant_Classification',\n",
      "       ...\n",
      "       'SYMBOL_SOURCE', 'TREMBL', 'TSL', 'UNIPARC', 'VARIANT_CLASS',\n",
      "       'all_effects', 'cDNA_position', 'n_depth', 't_depth',\n",
      "       'Annotation_Status'],\n",
      "      dtype='object', length=114)\n"
     ]
    }
   ],
   "source": [
    "print(mutations_df.columns)"
   ]
  },
  {
   "cell_type": "markdown",
   "metadata": {},
   "source": [
    "### Transforming data into one line per sample_id and all mutated genes comma-separated in the same line"
   ]
  },
  {
   "cell_type": "code",
   "execution_count": 9,
   "metadata": {},
   "outputs": [
    {
     "data": {
      "text/html": [
       "<div>\n",
       "<style scoped>\n",
       "    .dataframe tbody tr th:only-of-type {\n",
       "        vertical-align: middle;\n",
       "    }\n",
       "\n",
       "    .dataframe tbody tr th {\n",
       "        vertical-align: top;\n",
       "    }\n",
       "\n",
       "    .dataframe thead th {\n",
       "        text-align: right;\n",
       "    }\n",
       "</style>\n",
       "<table border=\"1\" class=\"dataframe\">\n",
       "  <thead>\n",
       "    <tr style=\"text-align: right;\">\n",
       "      <th></th>\n",
       "      <th>Tumor_Sample_Barcode</th>\n",
       "      <th>Mutation_Count</th>\n",
       "      <th>Mutations</th>\n",
       "    </tr>\n",
       "  </thead>\n",
       "  <tbody>\n",
       "    <tr>\n",
       "      <th>0</th>\n",
       "      <td>TCGA-3L-AA1B-01</td>\n",
       "      <td>185</td>\n",
       "      <td>DMBT1, C10orf90, WDFY4, PRKCQ, DYNC2H1, SPON1,...</td>\n",
       "    </tr>\n",
       "    <tr>\n",
       "      <th>1</th>\n",
       "      <td>TCGA-4N-A93T-01</td>\n",
       "      <td>151</td>\n",
       "      <td>MYO3A, ARMC4, WAC, SVIL, KIAA1462, KIAA1462, K...</td>\n",
       "    </tr>\n",
       "    <tr>\n",
       "      <th>2</th>\n",
       "      <td>TCGA-4T-AA8H-01</td>\n",
       "      <td>187</td>\n",
       "      <td>CCDC147, LRRC37A6P, PCDH15, NRBF2, PIK3AP1, SL...</td>\n",
       "    </tr>\n",
       "    <tr>\n",
       "      <th>3</th>\n",
       "      <td>TCGA-5M-AAT4-01</td>\n",
       "      <td>268</td>\n",
       "      <td>PRLHR, PRLHR, ATE1, PTCHD3, SVIL, C10ORF68, PA...</td>\n",
       "    </tr>\n",
       "    <tr>\n",
       "      <th>4</th>\n",
       "      <td>TCGA-5M-AAT5-01</td>\n",
       "      <td>134</td>\n",
       "      <td>GPR123, ARHGAP21, VSTM4, CDH23, ITIH5, OR51S1,...</td>\n",
       "    </tr>\n",
       "  </tbody>\n",
       "</table>\n",
       "</div>"
      ],
      "text/plain": [
       "  Tumor_Sample_Barcode  Mutation_Count  \\\n",
       "0      TCGA-3L-AA1B-01             185   \n",
       "1      TCGA-4N-A93T-01             151   \n",
       "2      TCGA-4T-AA8H-01             187   \n",
       "3      TCGA-5M-AAT4-01             268   \n",
       "4      TCGA-5M-AAT5-01             134   \n",
       "\n",
       "                                           Mutations  \n",
       "0  DMBT1, C10orf90, WDFY4, PRKCQ, DYNC2H1, SPON1,...  \n",
       "1  MYO3A, ARMC4, WAC, SVIL, KIAA1462, KIAA1462, K...  \n",
       "2  CCDC147, LRRC37A6P, PCDH15, NRBF2, PIK3AP1, SL...  \n",
       "3  PRLHR, PRLHR, ATE1, PTCHD3, SVIL, C10ORF68, PA...  \n",
       "4  GPR123, ARHGAP21, VSTM4, CDH23, ITIH5, OR51S1,...  "
      ]
     },
     "execution_count": 9,
     "metadata": {},
     "output_type": "execute_result"
    }
   ],
   "source": [
    "mutations_df1 = mutations_df[[\"Hugo_Symbol\", \"Tumor_Sample_Barcode\"]]\n",
    "\n",
    "# Group by sample_id and aggregate mutations into a comma-separated string\n",
    "grouped = mutations_df1.groupby('Tumor_Sample_Barcode')\n",
    "\n",
    "\n",
    "mutations_df2 = grouped.agg(\n",
    "    Mutation_Count=('Hugo_Symbol', 'count'),           # Define the name for the mutation count column\n",
    "    Mutations=('Hugo_Symbol', lambda x: ', '.join(x))  # Define the name for the aggregated mutation column\n",
    ").reset_index()\n",
    "\n",
    "mutations_df2.head()"
   ]
  },
  {
   "cell_type": "code",
   "execution_count": 10,
   "metadata": {},
   "outputs": [],
   "source": [
    "mutations_df2.to_csv(\n",
    "    os.path.join(study_path, 'all_mutations_summary.csv'), index=False)"
   ]
  },
  {
   "cell_type": "code",
   "execution_count": 11,
   "metadata": {},
   "outputs": [
    {
     "data": {
      "text/html": [
       "<div>\n",
       "<style scoped>\n",
       "    .dataframe tbody tr th:only-of-type {\n",
       "        vertical-align: middle;\n",
       "    }\n",
       "\n",
       "    .dataframe tbody tr th {\n",
       "        vertical-align: top;\n",
       "    }\n",
       "\n",
       "    .dataframe thead th {\n",
       "        text-align: right;\n",
       "    }\n",
       "</style>\n",
       "<table border=\"1\" class=\"dataframe\">\n",
       "  <thead>\n",
       "    <tr style=\"text-align: right;\">\n",
       "      <th></th>\n",
       "      <th>Tumor_Sample_Barcode</th>\n",
       "      <th>Mutation_Count</th>\n",
       "      <th>Mutations</th>\n",
       "    </tr>\n",
       "  </thead>\n",
       "  <tbody>\n",
       "    <tr>\n",
       "      <th>240</th>\n",
       "      <td>TCGA-AG-A002-01</td>\n",
       "      <td>17069</td>\n",
       "      <td>PYROXD2, PYROXD2, HPSE2, HPSE2, CNNM1, CNNM1, ...</td>\n",
       "    </tr>\n",
       "    <tr>\n",
       "      <th>301</th>\n",
       "      <td>TCGA-CA-6717-01</td>\n",
       "      <td>13582</td>\n",
       "      <td>PYROXD2, PYROXD2, ABCC2, DNMBP, DNMBP, DNMBP, ...</td>\n",
       "    </tr>\n",
       "    <tr>\n",
       "      <th>480</th>\n",
       "      <td>TCGA-F5-6814-01</td>\n",
       "      <td>13465</td>\n",
       "      <td>R3HCC1L, HPSE2, HPSE2, GOT1, GOT1, GOT1, NKX2-...</td>\n",
       "    </tr>\n",
       "    <tr>\n",
       "      <th>150</th>\n",
       "      <td>TCGA-AA-A010-01</td>\n",
       "      <td>11326</td>\n",
       "      <td>HPSE2, HPSE2, CNNM1, GOT1, GOT1, NKX2-3, ABCC2...</td>\n",
       "    </tr>\n",
       "    <tr>\n",
       "      <th>278</th>\n",
       "      <td>TCGA-AZ-4315-01</td>\n",
       "      <td>9853</td>\n",
       "      <td>LOXL4, HPSE2, HPSE2, CNNM1, CNNM1, NKX2-3, SLC...</td>\n",
       "    </tr>\n",
       "    <tr>\n",
       "      <th>...</th>\n",
       "      <td>...</td>\n",
       "      <td>...</td>\n",
       "      <td>...</td>\n",
       "    </tr>\n",
       "    <tr>\n",
       "      <th>212</th>\n",
       "      <td>TCGA-AG-3602-01</td>\n",
       "      <td>19</td>\n",
       "      <td>ERN2, CASKIN2, UPF1, LIG1, SBK2, FUT3, FUT5, F...</td>\n",
       "    </tr>\n",
       "    <tr>\n",
       "      <th>209</th>\n",
       "      <td>TCGA-AG-3594-01</td>\n",
       "      <td>18</td>\n",
       "      <td>GATA3, IMP3, PLK1, ZNF423, HYDIN, JPH3, HID1, ...</td>\n",
       "    </tr>\n",
       "    <tr>\n",
       "      <th>149</th>\n",
       "      <td>TCGA-AA-A00Z-01</td>\n",
       "      <td>18</td>\n",
       "      <td>PLCE1, TRPM1, CLDN9, KRTAP17-1, SOX9, SALL3, A...</td>\n",
       "    </tr>\n",
       "    <tr>\n",
       "      <th>213</th>\n",
       "      <td>TCGA-AG-3605-01</td>\n",
       "      <td>16</td>\n",
       "      <td>FFAR4, MYOD1, NDN, NDUFB10, MPP2, PAPPA2, PLA2...</td>\n",
       "    </tr>\n",
       "    <tr>\n",
       "      <th>258</th>\n",
       "      <td>TCGA-AH-6547-01</td>\n",
       "      <td>13</td>\n",
       "      <td>SRP54, NPR1, DUSP27, TCEB3, MYOM3, AP1B1, HECW...</td>\n",
       "    </tr>\n",
       "  </tbody>\n",
       "</table>\n",
       "<p>528 rows × 3 columns</p>\n",
       "</div>"
      ],
      "text/plain": [
       "    Tumor_Sample_Barcode  Mutation_Count  \\\n",
       "240      TCGA-AG-A002-01           17069   \n",
       "301      TCGA-CA-6717-01           13582   \n",
       "480      TCGA-F5-6814-01           13465   \n",
       "150      TCGA-AA-A010-01           11326   \n",
       "278      TCGA-AZ-4315-01            9853   \n",
       "..                   ...             ...   \n",
       "212      TCGA-AG-3602-01              19   \n",
       "209      TCGA-AG-3594-01              18   \n",
       "149      TCGA-AA-A00Z-01              18   \n",
       "213      TCGA-AG-3605-01              16   \n",
       "258      TCGA-AH-6547-01              13   \n",
       "\n",
       "                                             Mutations  \n",
       "240  PYROXD2, PYROXD2, HPSE2, HPSE2, CNNM1, CNNM1, ...  \n",
       "301  PYROXD2, PYROXD2, ABCC2, DNMBP, DNMBP, DNMBP, ...  \n",
       "480  R3HCC1L, HPSE2, HPSE2, GOT1, GOT1, GOT1, NKX2-...  \n",
       "150  HPSE2, HPSE2, CNNM1, GOT1, GOT1, NKX2-3, ABCC2...  \n",
       "278  LOXL4, HPSE2, HPSE2, CNNM1, CNNM1, NKX2-3, SLC...  \n",
       "..                                                 ...  \n",
       "212  ERN2, CASKIN2, UPF1, LIG1, SBK2, FUT3, FUT5, F...  \n",
       "209  GATA3, IMP3, PLK1, ZNF423, HYDIN, JPH3, HID1, ...  \n",
       "149  PLCE1, TRPM1, CLDN9, KRTAP17-1, SOX9, SALL3, A...  \n",
       "213  FFAR4, MYOD1, NDN, NDUFB10, MPP2, PAPPA2, PLA2...  \n",
       "258  SRP54, NPR1, DUSP27, TCEB3, MYOM3, AP1B1, HECW...  \n",
       "\n",
       "[528 rows x 3 columns]"
      ]
     },
     "execution_count": 11,
     "metadata": {},
     "output_type": "execute_result"
    }
   ],
   "source": [
    "mutations_df2.sort_values(by=\"Mutation_Count\", ascending=False)"
   ]
  },
  {
   "cell_type": "markdown",
   "metadata": {},
   "source": [
    "## Filtering down to useful gene mutations only"
   ]
  },
  {
   "cell_type": "markdown",
   "metadata": {},
   "source": [
    "Used Chapter 25 in this research book to identify gene mutations associated with Colorectal cancer\n",
    "\n",
    "Link: https://ebookcentral-proquest-com.gate.lib.buffalo.edu/lib/buffalo/detail.action?docID=30795817#goto_toc\n",
    "\n",
    "The mutations were then listed in colorectal_gene_mutations.txt file"
   ]
  },
  {
   "cell_type": "code",
   "execution_count": 12,
   "metadata": {},
   "outputs": [
    {
     "name": "stdout",
     "output_type": "stream",
     "text": [
      "No.of relevant mutations: 40, Sample genes: ['CMS1', 'CMS2']\n"
     ]
    }
   ],
   "source": [
    "file_location = os.path.join(\"colorectal_adenocarcinoma\", \"colorectal_gene_mutations.txt\")\n",
    "with open(file_location, \"r\") as file:\n",
    "    text = file.read()\n",
    "colo_mutations = text.split(\"\\n\")\n",
    "print(f\"No.of relevant mutations: {len(colo_mutations)}, Sample genes: {colo_mutations[:2]}\")"
   ]
  },
  {
   "cell_type": "code",
   "execution_count": 13,
   "metadata": {},
   "outputs": [
    {
     "name": "stdout",
     "output_type": "stream",
     "text": [
      "Shape before filtering out irrelevant mutations: (332610, 114)\n",
      "Shape after filtering out irrelevant mutations: (2445, 114)\n"
     ]
    }
   ],
   "source": [
    "mutations_df[\"Hugo_Symbol\"] = mutations_df[\"Hugo_Symbol\"].str.upper()\n",
    "print(f\"Shape before filtering out irrelevant mutations: {mutations_df.shape}\")\n",
    "mutations_df = mutations_df[mutations_df['Hugo_Symbol'].isin(colo_mutations)]\n",
    "print(f\"Shape after filtering out irrelevant mutations: {mutations_df.shape}\")"
   ]
  },
  {
   "cell_type": "code",
   "execution_count": 14,
   "metadata": {},
   "outputs": [
    {
     "name": "stdout",
     "output_type": "stream",
     "text": [
      "Mutations df before removing duplicates: (2445, 2)\n",
      "Mutations df after removing duplicates: (1820, 2)\n"
     ]
    }
   ],
   "source": [
    "mutations_df1 = mutations_df[[\"Hugo_Symbol\", \"Tumor_Sample_Barcode\"]]\n",
    "print(f\"Mutations df before removing duplicates: {mutations_df1.shape}\")\n",
    "mutations_df1 = mutations_df1.drop_duplicates()\n",
    "print(f\"Mutations df after removing duplicates: {mutations_df1.shape}\")\n"
   ]
  },
  {
   "cell_type": "code",
   "execution_count": 15,
   "metadata": {},
   "outputs": [
    {
     "data": {
      "text/html": [
       "<div>\n",
       "<style scoped>\n",
       "    .dataframe tbody tr th:only-of-type {\n",
       "        vertical-align: middle;\n",
       "    }\n",
       "\n",
       "    .dataframe tbody tr th {\n",
       "        vertical-align: top;\n",
       "    }\n",
       "\n",
       "    .dataframe thead th {\n",
       "        text-align: right;\n",
       "    }\n",
       "</style>\n",
       "<table border=\"1\" class=\"dataframe\">\n",
       "  <thead>\n",
       "    <tr style=\"text-align: right;\">\n",
       "      <th></th>\n",
       "      <th>Tumor_Sample_Barcode</th>\n",
       "      <th>Mutation_Count</th>\n",
       "      <th>Mutations</th>\n",
       "    </tr>\n",
       "  </thead>\n",
       "  <tbody>\n",
       "    <tr>\n",
       "      <th>447</th>\n",
       "      <td>TCGA-F5-6814-01</td>\n",
       "      <td>19</td>\n",
       "      <td>MSH2, TP53, SCG5, POLE, ENG, MSH6, PIK3CD, NTR...</td>\n",
       "    </tr>\n",
       "    <tr>\n",
       "      <th>209</th>\n",
       "      <td>TCGA-AG-A002-01</td>\n",
       "      <td>19</td>\n",
       "      <td>MSH2, TP53, MLH1, POLE, MUTYH, RNF43, MSH6, SM...</td>\n",
       "    </tr>\n",
       "    <tr>\n",
       "      <th>420</th>\n",
       "      <td>TCGA-EI-6917-01</td>\n",
       "      <td>18</td>\n",
       "      <td>PTEN, MSH2, MSH6, PIK3CD, SMAD4, DCC, POLD1, P...</td>\n",
       "    </tr>\n",
       "    <tr>\n",
       "      <th>269</th>\n",
       "      <td>TCGA-CA-6717-01</td>\n",
       "      <td>17</td>\n",
       "      <td>MSH2, MSH6, PIK3CD, SMAD4, DCC, PIK3CB, BRAF, ...</td>\n",
       "    </tr>\n",
       "    <tr>\n",
       "      <th>106</th>\n",
       "      <td>TCGA-AA-3864-01</td>\n",
       "      <td>16</td>\n",
       "      <td>PTEN, MSH2, RNF43, SMAD4, MLH1, TGFBR2, MSH3, ...</td>\n",
       "    </tr>\n",
       "    <tr>\n",
       "      <th>...</th>\n",
       "      <td>...</td>\n",
       "      <td>...</td>\n",
       "      <td>...</td>\n",
       "    </tr>\n",
       "    <tr>\n",
       "      <th>45</th>\n",
       "      <td>TCGA-A6-A565-01</td>\n",
       "      <td>1</td>\n",
       "      <td>SMAD4</td>\n",
       "    </tr>\n",
       "    <tr>\n",
       "      <th>413</th>\n",
       "      <td>TCGA-EI-6513-01</td>\n",
       "      <td>1</td>\n",
       "      <td>APC</td>\n",
       "    </tr>\n",
       "    <tr>\n",
       "      <th>422</th>\n",
       "      <td>TCGA-EI-7004-01</td>\n",
       "      <td>1</td>\n",
       "      <td>RNF43</td>\n",
       "    </tr>\n",
       "    <tr>\n",
       "      <th>38</th>\n",
       "      <td>TCGA-A6-6651-01</td>\n",
       "      <td>1</td>\n",
       "      <td>TP53</td>\n",
       "    </tr>\n",
       "    <tr>\n",
       "      <th>247</th>\n",
       "      <td>TCGA-AZ-4323-01</td>\n",
       "      <td>1</td>\n",
       "      <td>TP53</td>\n",
       "    </tr>\n",
       "  </tbody>\n",
       "</table>\n",
       "<p>495 rows × 3 columns</p>\n",
       "</div>"
      ],
      "text/plain": [
       "    Tumor_Sample_Barcode  Mutation_Count  \\\n",
       "447      TCGA-F5-6814-01              19   \n",
       "209      TCGA-AG-A002-01              19   \n",
       "420      TCGA-EI-6917-01              18   \n",
       "269      TCGA-CA-6717-01              17   \n",
       "106      TCGA-AA-3864-01              16   \n",
       "..                   ...             ...   \n",
       "45       TCGA-A6-A565-01               1   \n",
       "413      TCGA-EI-6513-01               1   \n",
       "422      TCGA-EI-7004-01               1   \n",
       "38       TCGA-A6-6651-01               1   \n",
       "247      TCGA-AZ-4323-01               1   \n",
       "\n",
       "                                             Mutations  \n",
       "447  MSH2, TP53, SCG5, POLE, ENG, MSH6, PIK3CD, NTR...  \n",
       "209  MSH2, TP53, MLH1, POLE, MUTYH, RNF43, MSH6, SM...  \n",
       "420  PTEN, MSH2, MSH6, PIK3CD, SMAD4, DCC, POLD1, P...  \n",
       "269  MSH2, MSH6, PIK3CD, SMAD4, DCC, PIK3CB, BRAF, ...  \n",
       "106  PTEN, MSH2, RNF43, SMAD4, MLH1, TGFBR2, MSH3, ...  \n",
       "..                                                 ...  \n",
       "45                                               SMAD4  \n",
       "413                                                APC  \n",
       "422                                              RNF43  \n",
       "38                                                TP53  \n",
       "247                                               TP53  \n",
       "\n",
       "[495 rows x 3 columns]"
      ]
     },
     "execution_count": 15,
     "metadata": {},
     "output_type": "execute_result"
    }
   ],
   "source": [
    "# Group by sample_id and aggregate mutations into a comma-separated string\n",
    "grouped = mutations_df1.groupby('Tumor_Sample_Barcode')\n",
    "\n",
    "\n",
    "mutations_df2 = grouped.agg(\n",
    "    Mutation_Count=('Hugo_Symbol', 'count'),           # Define the name for the mutation count column\n",
    "    Mutations=('Hugo_Symbol', lambda x: ', '.join(set(x)))  # Define the name for the aggregated mutation column\n",
    ").reset_index()\n",
    "\n",
    "mutations_df2.sort_values(by=\"Mutation_Count\", ascending=False)"
   ]
  },
  {
   "cell_type": "code",
   "execution_count": 16,
   "metadata": {},
   "outputs": [],
   "source": [
    "mutations_df2.to_csv(\n",
    "    os.path.join(study_path, 'mutations_summary.csv'), index=False)"
   ]
  },
  {
   "cell_type": "markdown",
   "metadata": {},
   "source": [
    "## Exploring GIT embeddings"
   ]
  },
  {
   "cell_type": "code",
   "execution_count": 17,
   "metadata": {},
   "outputs": [
    {
     "name": "stdout",
     "output_type": "stream",
     "text": [
      "Gene Embedding Matrix Shape: (19782, 512)\n"
     ]
    }
   ],
   "source": [
    "git_data_dir = \"./Dataset/git_data/data/\"\n",
    "# gene_emb_dir = \"./Dataset/git_data/data/gene_emb_finetune.npy\"\n",
    "gene_emb_matrix = np.load(git_data_dir + \"gene_emb_finetune.npy\")\n",
    "print(f\"Gene Embedding Matrix Shape: {gene_emb_matrix.shape}\")"
   ]
  },
  {
   "cell_type": "code",
   "execution_count": 18,
   "metadata": {},
   "outputs": [],
   "source": [
    "# read and prepare gene2idx and idx2gene mappings\n",
    "with open(git_data_dir + \"idx2gene.txt\", \"r\") as f:\n",
    "    idx2gene_raw = [line.strip() for line in f.readlines()]  # Index to gene name mapping\n",
    "\n",
    "idx2gene = {}\n",
    "\n",
    "for text in idx2gene_raw:\n",
    "    colon_index = text.find(':')\n",
    "    idx = int(text[:colon_index])\n",
    "    gene = text[colon_index+2:]\n",
    "    idx2gene[idx] = gene\n",
    "\n",
    "gene2idx = {}\n",
    "for idx, gene in idx2gene.items():\n",
    "    gene2idx[gene] = idx"
   ]
  },
  {
   "cell_type": "code",
   "execution_count": 19,
   "metadata": {},
   "outputs": [
    {
     "name": "stdout",
     "output_type": "stream",
     "text": [
      "Relevant mutations not present in GIT Embeddings: \n",
      "CMS1, CMS2, CMS3, CMS4, PSM2, POLD, SCG5, SMADH4, "
     ]
    }
   ],
   "source": [
    "# check if all mutations of interest are present in GIT embeddings\n",
    "\n",
    "print(\"Relevant mutations not present in GIT Embeddings: \")\n",
    "for mutation in colo_mutations:\n",
    "    if mutation not in gene2idx.keys():\n",
    "        print(mutation, end=\", \")\n"
   ]
  },
  {
   "cell_type": "markdown",
   "metadata": {},
   "source": [
    "8 out of 40 relevant mutations are not in GIT embeddings"
   ]
  },
  {
   "cell_type": "markdown",
   "metadata": {},
   "source": [
    "## Try classfication using one-hot encoding"
   ]
  },
  {
   "cell_type": "code",
   "execution_count": 20,
   "metadata": {},
   "outputs": [
    {
     "data": {
      "text/html": [
       "<div>\n",
       "<style scoped>\n",
       "    .dataframe tbody tr th:only-of-type {\n",
       "        vertical-align: middle;\n",
       "    }\n",
       "\n",
       "    .dataframe tbody tr th {\n",
       "        vertical-align: top;\n",
       "    }\n",
       "\n",
       "    .dataframe thead th {\n",
       "        text-align: right;\n",
       "    }\n",
       "</style>\n",
       "<table border=\"1\" class=\"dataframe\">\n",
       "  <thead>\n",
       "    <tr style=\"text-align: right;\">\n",
       "      <th></th>\n",
       "      <th>Hugo_Symbol</th>\n",
       "      <th>Tumor_Sample_Barcode</th>\n",
       "    </tr>\n",
       "  </thead>\n",
       "  <tbody>\n",
       "    <tr>\n",
       "      <th>58</th>\n",
       "      <td>NRAS</td>\n",
       "      <td>TCGA-3L-AA1B-01</td>\n",
       "    </tr>\n",
       "    <tr>\n",
       "      <th>104</th>\n",
       "      <td>PIK3CA</td>\n",
       "      <td>TCGA-3L-AA1B-01</td>\n",
       "    </tr>\n",
       "    <tr>\n",
       "      <th>122</th>\n",
       "      <td>APC</td>\n",
       "      <td>TCGA-3L-AA1B-01</td>\n",
       "    </tr>\n",
       "    <tr>\n",
       "      <th>142</th>\n",
       "      <td>BRAF</td>\n",
       "      <td>TCGA-3L-AA1B-01</td>\n",
       "    </tr>\n",
       "    <tr>\n",
       "      <th>199</th>\n",
       "      <td>KRAS</td>\n",
       "      <td>TCGA-4N-A93T-01</td>\n",
       "    </tr>\n",
       "    <tr>\n",
       "      <th>...</th>\n",
       "      <td>...</td>\n",
       "      <td>...</td>\n",
       "    </tr>\n",
       "    <tr>\n",
       "      <th>330383</th>\n",
       "      <td>NTRK3</td>\n",
       "      <td>TCGA-EI-6507-01</td>\n",
       "    </tr>\n",
       "    <tr>\n",
       "      <th>330404</th>\n",
       "      <td>NTRK1</td>\n",
       "      <td>TCGA-EI-6507-01</td>\n",
       "    </tr>\n",
       "    <tr>\n",
       "      <th>330669</th>\n",
       "      <td>ENG</td>\n",
       "      <td>TCGA-EI-6882-01</td>\n",
       "    </tr>\n",
       "    <tr>\n",
       "      <th>330831</th>\n",
       "      <td>GREM1</td>\n",
       "      <td>TCGA-EI-6917-01</td>\n",
       "    </tr>\n",
       "    <tr>\n",
       "      <th>331599</th>\n",
       "      <td>GREM1</td>\n",
       "      <td>TCGA-F5-6814-01</td>\n",
       "    </tr>\n",
       "  </tbody>\n",
       "</table>\n",
       "<p>1820 rows × 2 columns</p>\n",
       "</div>"
      ],
      "text/plain": [
       "       Hugo_Symbol Tumor_Sample_Barcode\n",
       "58            NRAS      TCGA-3L-AA1B-01\n",
       "104         PIK3CA      TCGA-3L-AA1B-01\n",
       "122            APC      TCGA-3L-AA1B-01\n",
       "142           BRAF      TCGA-3L-AA1B-01\n",
       "199           KRAS      TCGA-4N-A93T-01\n",
       "...            ...                  ...\n",
       "330383       NTRK3      TCGA-EI-6507-01\n",
       "330404       NTRK1      TCGA-EI-6507-01\n",
       "330669         ENG      TCGA-EI-6882-01\n",
       "330831       GREM1      TCGA-EI-6917-01\n",
       "331599       GREM1      TCGA-F5-6814-01\n",
       "\n",
       "[1820 rows x 2 columns]"
      ]
     },
     "execution_count": 20,
     "metadata": {},
     "output_type": "execute_result"
    }
   ],
   "source": [
    "mutations_df1"
   ]
  },
  {
   "cell_type": "code",
   "execution_count": 21,
   "metadata": {},
   "outputs": [
    {
     "name": "stdout",
     "output_type": "stream",
     "text": [
      "Shape of one hot encoded df: (495, 34)\n"
     ]
    },
    {
     "data": {
      "text/html": [
       "<div>\n",
       "<style scoped>\n",
       "    .dataframe tbody tr th:only-of-type {\n",
       "        vertical-align: middle;\n",
       "    }\n",
       "\n",
       "    .dataframe tbody tr th {\n",
       "        vertical-align: top;\n",
       "    }\n",
       "\n",
       "    .dataframe thead th {\n",
       "        text-align: right;\n",
       "    }\n",
       "</style>\n",
       "<table border=\"1\" class=\"dataframe\">\n",
       "  <thead>\n",
       "    <tr style=\"text-align: right;\">\n",
       "      <th></th>\n",
       "      <th>Tumor_Sample_Barcode</th>\n",
       "      <th>APC</th>\n",
       "      <th>BAX</th>\n",
       "      <th>BMPR1A</th>\n",
       "      <th>BRAF</th>\n",
       "      <th>DCC</th>\n",
       "      <th>EGFR</th>\n",
       "      <th>ENG</th>\n",
       "      <th>EPCAM</th>\n",
       "      <th>ERBB2</th>\n",
       "      <th>...</th>\n",
       "      <th>PIK3CD</th>\n",
       "      <th>POLD1</th>\n",
       "      <th>POLE</th>\n",
       "      <th>PTEN</th>\n",
       "      <th>RNF43</th>\n",
       "      <th>SCG5</th>\n",
       "      <th>SMAD4</th>\n",
       "      <th>STK11</th>\n",
       "      <th>TGFBR2</th>\n",
       "      <th>TP53</th>\n",
       "    </tr>\n",
       "  </thead>\n",
       "  <tbody>\n",
       "    <tr>\n",
       "      <th>0</th>\n",
       "      <td>TCGA-3L-AA1B-01</td>\n",
       "      <td>1</td>\n",
       "      <td>0</td>\n",
       "      <td>0</td>\n",
       "      <td>1</td>\n",
       "      <td>0</td>\n",
       "      <td>0</td>\n",
       "      <td>0</td>\n",
       "      <td>0</td>\n",
       "      <td>0</td>\n",
       "      <td>...</td>\n",
       "      <td>0</td>\n",
       "      <td>0</td>\n",
       "      <td>0</td>\n",
       "      <td>0</td>\n",
       "      <td>0</td>\n",
       "      <td>0</td>\n",
       "      <td>0</td>\n",
       "      <td>0</td>\n",
       "      <td>0</td>\n",
       "      <td>0</td>\n",
       "    </tr>\n",
       "    <tr>\n",
       "      <th>1</th>\n",
       "      <td>TCGA-4N-A93T-01</td>\n",
       "      <td>0</td>\n",
       "      <td>0</td>\n",
       "      <td>0</td>\n",
       "      <td>0</td>\n",
       "      <td>0</td>\n",
       "      <td>0</td>\n",
       "      <td>0</td>\n",
       "      <td>0</td>\n",
       "      <td>0</td>\n",
       "      <td>...</td>\n",
       "      <td>0</td>\n",
       "      <td>0</td>\n",
       "      <td>0</td>\n",
       "      <td>0</td>\n",
       "      <td>0</td>\n",
       "      <td>0</td>\n",
       "      <td>0</td>\n",
       "      <td>0</td>\n",
       "      <td>0</td>\n",
       "      <td>1</td>\n",
       "    </tr>\n",
       "  </tbody>\n",
       "</table>\n",
       "<p>2 rows × 34 columns</p>\n",
       "</div>"
      ],
      "text/plain": [
       "  Tumor_Sample_Barcode  APC  BAX  BMPR1A  BRAF  DCC  EGFR  ENG  EPCAM  ERBB2  \\\n",
       "0      TCGA-3L-AA1B-01    1    0       0     1    0     0    0      0      0   \n",
       "1      TCGA-4N-A93T-01    0    0       0     0    0     0    0      0      0   \n",
       "\n",
       "   ...  PIK3CD  POLD1  POLE  PTEN  RNF43  SCG5  SMAD4  STK11  TGFBR2  TP53  \n",
       "0  ...       0      0     0     0      0     0      0      0       0     0  \n",
       "1  ...       0      0     0     0      0     0      0      0       0     1  \n",
       "\n",
       "[2 rows x 34 columns]"
      ]
     },
     "execution_count": 21,
     "metadata": {},
     "output_type": "execute_result"
    }
   ],
   "source": [
    "one_hot_df = pd.crosstab(mutations_df1['Tumor_Sample_Barcode'], mutations_df1['Hugo_Symbol']).reset_index()\n",
    "print(f\"Shape of one hot encoded df: {one_hot_df.shape}\")\n",
    "one_hot_df.columns.name = None\n",
    "one_hot_df.head(2)"
   ]
  },
  {
   "cell_type": "code",
   "execution_count": 22,
   "metadata": {},
   "outputs": [],
   "source": [
    "one_hot_df.to_csv(\n",
    "    os.path.join(study_path, \"all_samples_40_genes_one_hot.csv\"), \n",
    "    index=False\n",
    ")"
   ]
  },
  {
   "cell_type": "code",
   "execution_count": 23,
   "metadata": {},
   "outputs": [
    {
     "data": {
      "text/plain": [
       "<bound method Series.sort_index of APC       388\n",
       "BAX         8\n",
       "BMPR1A     11\n",
       "BRAF       63\n",
       "DCC        51\n",
       "EGFR       26\n",
       "ENG        18\n",
       "EPCAM       5\n",
       "ERBB2      27\n",
       "GREM1      17\n",
       "KRAS      220\n",
       "MLH1       23\n",
       "MSH2       28\n",
       "MSH3       14\n",
       "MSH6       28\n",
       "MUTYH      13\n",
       "NRAS       35\n",
       "NTHL1       5\n",
       "NTRK1      15\n",
       "NTRK2      30\n",
       "NTRK3      30\n",
       "PIK3CA    151\n",
       "PIK3CB     14\n",
       "PIK3CD     18\n",
       "POLD1      33\n",
       "POLE       42\n",
       "PTEN       37\n",
       "RNF43      48\n",
       "SCG5        2\n",
       "SMAD4      70\n",
       "STK11      10\n",
       "TGFBR2     23\n",
       "TP53      317\n",
       "dtype: int64>"
      ]
     },
     "execution_count": 23,
     "metadata": {},
     "output_type": "execute_result"
    }
   ],
   "source": [
    "# one_hot_df.drop(\"Tumor_Sample_Barcode\", axis=1).sum().sort_values()\n",
    "one_hot_df.drop(\"Tumor_Sample_Barcode\", axis=1).sum().sort_index"
   ]
  },
  {
   "cell_type": "markdown",
   "metadata": {},
   "source": [
    "Relevant mutations not present in GIT Embeddings and their count in data:    \n",
    "- CMS1 - 0\n",
    "- CMS2 - 0\n",
    "- CMS3 - 0 \n",
    "- CMS4 - 0\n",
    "- PSM2 - 0\n",
    "- POLD - 0\n",
    "- SCG5 - 2\n",
    "- SMADH4 - 70"
   ]
  },
  {
   "cell_type": "markdown",
   "metadata": {},
   "source": [
    "Next steps, check the frequency of mutations in the 60 records of interet and eloiminate more mutations."
   ]
  },
  {
   "cell_type": "markdown",
   "metadata": {},
   "source": [
    "#### Filter to only cases with recurrence"
   ]
  },
  {
   "cell_type": "code",
   "execution_count": 24,
   "metadata": {},
   "outputs": [
    {
     "data": {
      "text/plain": [
       "(63, 18)"
      ]
     },
     "execution_count": 24,
     "metadata": {},
     "output_type": "execute_result"
    }
   ],
   "source": [
    "pathological_df = pd.read_csv(\n",
    "    os.path.join(study_path, \"pathological_df.csv\")\n",
    ")\n",
    "pathological_df.shape"
   ]
  },
  {
   "cell_type": "code",
   "execution_count": 25,
   "metadata": {},
   "outputs": [],
   "source": [
    "one_hot_df = one_hot_df.rename(\n",
    "    columns={\"Tumor_Sample_Barcode\": \"SAMPLE_ID\"}\n",
    ")"
   ]
  },
  {
   "cell_type": "code",
   "execution_count": 26,
   "metadata": {},
   "outputs": [
    {
     "data": {
      "text/plain": [
       "APC       47\n",
       "TP53      42\n",
       "KRAS      32\n",
       "PIK3CA    17\n",
       "SMAD4     10\n",
       "DCC        6\n",
       "POLE       6\n",
       "POLD1      4\n",
       "NTRK2      3\n",
       "BRAF       3\n",
       "NRAS       3\n",
       "PTEN       3\n",
       "RNF43      3\n",
       "MLH1       2\n",
       "ERBB2      2\n",
       "NTRK3      2\n",
       "NTRK1      2\n",
       "PIK3CD     1\n",
       "TGFBR2     1\n",
       "NTHL1      1\n",
       "MSH2       1\n",
       "GREM1      1\n",
       "ENG        1\n",
       "BAX        0\n",
       "MUTYH      0\n",
       "PIK3CB     0\n",
       "MSH6       0\n",
       "MSH3       0\n",
       "EPCAM      0\n",
       "SCG5       0\n",
       "STK11      0\n",
       "EGFR       0\n",
       "BMPR1A     0\n",
       "dtype: int64"
      ]
     },
     "execution_count": 26,
     "metadata": {},
     "output_type": "execute_result"
    }
   ],
   "source": [
    "one_hot_df2 = pd.merge(pathological_df[\"SAMPLE_ID\"], one_hot_df, on='SAMPLE_ID', how=\"inner\")\n",
    "one_hot_df2.drop(\"SAMPLE_ID\", axis=1).sum().sort_values(ascending=False)"
   ]
  },
  {
   "cell_type": "markdown",
   "metadata": {},
   "source": [
    "Keeping columns with atleast one non-zero row"
   ]
  },
  {
   "cell_type": "code",
   "execution_count": 27,
   "metadata": {},
   "outputs": [],
   "source": [
    "subset_1 = one_hot_df2[[\"APC\", \"TP53\", \"KRAS\", \"PIK3CA\", \"SMAD4\", \"DCC\", \"POLE\", \"POLD1\", \"NTRK2\", \"BRAF\", \"NRAS\", \"PTEN\", \"RNF43\", \"MLH1\", \"ERBB2\", \"NTRK3\", \"NTRK1\", \"PIK3CD\", \"TGFBR2\", \"NTHL1\", \"MSH2\", \"GREM1\", \"ENG\"]]"
   ]
  },
  {
   "cell_type": "code",
   "execution_count": 28,
   "metadata": {},
   "outputs": [],
   "source": [
    "import matplotlib.pyplot as plt\n",
    "import seaborn as sns"
   ]
  },
  {
   "cell_type": "code",
   "execution_count": 29,
   "metadata": {},
   "outputs": [
    {
     "data": {
      "image/png": "[encoded data removed]",
      "text/plain": [
       "<Figure size 1000x800 with 2 Axes>"
      ]
     },
     "metadata": {},
     "output_type": "display_data"
    }
   ],
   "source": [
    "plt.figure(figsize=(10, 8))\n",
    "sns.heatmap(subset_1.T, cmap=\"YlGnBu\", cbar=True)\n",
    "plt.title('Heatmap of Tumor Sample Barcodes and Gene Mutations')\n",
    "plt.show()\n"
   ]
  },
  {
   "cell_type": "code",
   "execution_count": 30,
   "metadata": {},
   "outputs": [
    {
     "data": {
      "image/png": "[encoded data removed]",
      "text/plain": [
       "<Figure size 1000x800 with 2 Axes>"
      ]
     },
     "metadata": {},
     "output_type": "display_data"
    }
   ],
   "source": [
    "corr_matrix = subset_1.corr()\n",
    "\n",
    "# Create a heatmap\n",
    "plt.figure(figsize=(10, 8))\n",
    "sns.heatmap(corr_matrix, cmap=\"coolwarm\", cbar=True, linewidths=0.5)\n",
    "plt.title('Correlation Heatmap of Gene Mutations')\n",
    "plt.show()\n"
   ]
  },
  {
   "cell_type": "markdown",
   "metadata": {},
   "source": [
    "High correlation pairs: \n",
    "- PIK3CD - NTHL1\n",
    "- MSH2 - ENG"
   ]
  },
  {
   "cell_type": "markdown",
   "metadata": {},
   "source": [
    "Rule of thumb: ideal no of columns = rows/5 to rows/6 = 10 to 12 columns    \n",
    "\n",
    "Using first 12 columns based on the frequency of values."
   ]
  },
  {
   "cell_type": "code",
   "execution_count": 31,
   "metadata": {},
   "outputs": [
    {
     "data": {
      "text/html": [
       "<div>\n",
       "<style scoped>\n",
       "    .dataframe tbody tr th:only-of-type {\n",
       "        vertical-align: middle;\n",
       "    }\n",
       "\n",
       "    .dataframe tbody tr th {\n",
       "        vertical-align: top;\n",
       "    }\n",
       "\n",
       "    .dataframe thead th {\n",
       "        text-align: right;\n",
       "    }\n",
       "</style>\n",
       "<table border=\"1\" class=\"dataframe\">\n",
       "  <thead>\n",
       "    <tr style=\"text-align: right;\">\n",
       "      <th></th>\n",
       "      <th>SAMPLE_ID</th>\n",
       "      <th>APC</th>\n",
       "      <th>TP53</th>\n",
       "      <th>KRAS</th>\n",
       "      <th>PIK3CA</th>\n",
       "      <th>SMAD4</th>\n",
       "      <th>DCC</th>\n",
       "      <th>POLE</th>\n",
       "      <th>POLD1</th>\n",
       "      <th>NTRK2</th>\n",
       "      <th>BRAF</th>\n",
       "      <th>NRAS</th>\n",
       "      <th>PTEN</th>\n",
       "    </tr>\n",
       "  </thead>\n",
       "  <tbody>\n",
       "    <tr>\n",
       "      <th>0</th>\n",
       "      <td>TCGA-5M-AAT6-01</td>\n",
       "      <td>1</td>\n",
       "      <td>0</td>\n",
       "      <td>1</td>\n",
       "      <td>0</td>\n",
       "      <td>0</td>\n",
       "      <td>1</td>\n",
       "      <td>1</td>\n",
       "      <td>1</td>\n",
       "      <td>0</td>\n",
       "      <td>0</td>\n",
       "      <td>0</td>\n",
       "      <td>0</td>\n",
       "    </tr>\n",
       "    <tr>\n",
       "      <th>1</th>\n",
       "      <td>TCGA-5M-AATE-01</td>\n",
       "      <td>1</td>\n",
       "      <td>1</td>\n",
       "      <td>1</td>\n",
       "      <td>1</td>\n",
       "      <td>0</td>\n",
       "      <td>0</td>\n",
       "      <td>0</td>\n",
       "      <td>0</td>\n",
       "      <td>1</td>\n",
       "      <td>0</td>\n",
       "      <td>0</td>\n",
       "      <td>0</td>\n",
       "    </tr>\n",
       "  </tbody>\n",
       "</table>\n",
       "</div>"
      ],
      "text/plain": [
       "         SAMPLE_ID  APC  TP53  KRAS  PIK3CA  SMAD4  DCC  POLE  POLD1  NTRK2  \\\n",
       "0  TCGA-5M-AAT6-01    1     0     1       0      0    1     1      1      0   \n",
       "1  TCGA-5M-AATE-01    1     1     1       1      0    0     0      0      1   \n",
       "\n",
       "   BRAF  NRAS  PTEN  \n",
       "0     0     0     0  \n",
       "1     0     0     0  "
      ]
     },
     "execution_count": 31,
     "metadata": {},
     "output_type": "execute_result"
    }
   ],
   "source": [
    "mutation_X = one_hot_df2[[\"SAMPLE_ID\", \"APC\", \"TP53\", \"KRAS\", \"PIK3CA\", \"SMAD4\", \"DCC\", \"POLE\", \"POLD1\", \"NTRK2\", \"BRAF\", \"NRAS\", \"PTEN\"]]\n",
    "mutation_X.head(2)"
   ]
  },
  {
   "cell_type": "code",
   "execution_count": 32,
   "metadata": {},
   "outputs": [
    {
     "data": {
      "text/html": [
       "<div>\n",
       "<style scoped>\n",
       "    .dataframe tbody tr th:only-of-type {\n",
       "        vertical-align: middle;\n",
       "    }\n",
       "\n",
       "    .dataframe tbody tr th {\n",
       "        vertical-align: top;\n",
       "    }\n",
       "\n",
       "    .dataframe thead th {\n",
       "        text-align: right;\n",
       "    }\n",
       "</style>\n",
       "<table border=\"1\" class=\"dataframe\">\n",
       "  <thead>\n",
       "    <tr style=\"text-align: right;\">\n",
       "      <th></th>\n",
       "      <th>0</th>\n",
       "      <th>1</th>\n",
       "    </tr>\n",
       "  </thead>\n",
       "  <tbody>\n",
       "    <tr>\n",
       "      <th>SAMPLE_ID</th>\n",
       "      <td>TCGA-5M-AAT6-01</td>\n",
       "      <td>TCGA-5M-AATE-01</td>\n",
       "    </tr>\n",
       "    <tr>\n",
       "      <th>APC</th>\n",
       "      <td>1</td>\n",
       "      <td>1</td>\n",
       "    </tr>\n",
       "    <tr>\n",
       "      <th>TP53</th>\n",
       "      <td>0</td>\n",
       "      <td>1</td>\n",
       "    </tr>\n",
       "    <tr>\n",
       "      <th>KRAS</th>\n",
       "      <td>1</td>\n",
       "      <td>1</td>\n",
       "    </tr>\n",
       "    <tr>\n",
       "      <th>PIK3CA</th>\n",
       "      <td>0</td>\n",
       "      <td>1</td>\n",
       "    </tr>\n",
       "    <tr>\n",
       "      <th>SMAD4</th>\n",
       "      <td>0</td>\n",
       "      <td>0</td>\n",
       "    </tr>\n",
       "    <tr>\n",
       "      <th>DCC</th>\n",
       "      <td>1</td>\n",
       "      <td>0</td>\n",
       "    </tr>\n",
       "    <tr>\n",
       "      <th>POLE</th>\n",
       "      <td>1</td>\n",
       "      <td>0</td>\n",
       "    </tr>\n",
       "    <tr>\n",
       "      <th>POLD1</th>\n",
       "      <td>1</td>\n",
       "      <td>0</td>\n",
       "    </tr>\n",
       "    <tr>\n",
       "      <th>NTRK2</th>\n",
       "      <td>0</td>\n",
       "      <td>1</td>\n",
       "    </tr>\n",
       "    <tr>\n",
       "      <th>BRAF</th>\n",
       "      <td>0</td>\n",
       "      <td>0</td>\n",
       "    </tr>\n",
       "    <tr>\n",
       "      <th>NRAS</th>\n",
       "      <td>0</td>\n",
       "      <td>0</td>\n",
       "    </tr>\n",
       "    <tr>\n",
       "      <th>PTEN</th>\n",
       "      <td>0</td>\n",
       "      <td>0</td>\n",
       "    </tr>\n",
       "  </tbody>\n",
       "</table>\n",
       "</div>"
      ],
      "text/plain": [
       "                         0                1\n",
       "SAMPLE_ID  TCGA-5M-AAT6-01  TCGA-5M-AATE-01\n",
       "APC                      1                1\n",
       "TP53                     0                1\n",
       "KRAS                     1                1\n",
       "PIK3CA                   0                1\n",
       "SMAD4                    0                0\n",
       "DCC                      1                0\n",
       "POLE                     1                0\n",
       "POLD1                    1                0\n",
       "NTRK2                    0                1\n",
       "BRAF                     0                0\n",
       "NRAS                     0                0\n",
       "PTEN                     0                0"
      ]
     },
     "execution_count": 32,
     "metadata": {},
     "output_type": "execute_result"
    }
   ],
   "source": [
    "mutation_X.head(2).T"
   ]
  },
  {
   "cell_type": "markdown",
   "metadata": {},
   "source": [
    "## Prepare y for multiclass classification"
   ]
  },
  {
   "cell_type": "code",
   "execution_count": 33,
   "metadata": {},
   "outputs": [
    {
     "data": {
      "image/png": "[encoded data removed]",
      "text/plain": [
       "<Figure size 500x300 with 1 Axes>"
      ]
     },
     "metadata": {},
     "output_type": "display_data"
    }
   ],
   "source": [
    "# Plot the distribution\n",
    "plt.figure(figsize=(5, 3))\n",
    "plt.hist(pathological_df['PFS_MONTHS'], bins=30, edgecolor='k', alpha=0.7)\n",
    "plt.title('Distribution of Recurrence time')\n",
    "plt.xlabel('Recurrence time(months)')\n",
    "plt.ylabel('Frequency')\n",
    "\n",
    "# Display the plot\n",
    "plt.show()\n"
   ]
  },
  {
   "cell_type": "code",
   "execution_count": 34,
   "metadata": {},
   "outputs": [
    {
     "data": {
      "text/html": [
       "<div>\n",
       "<style scoped>\n",
       "    .dataframe tbody tr th:only-of-type {\n",
       "        vertical-align: middle;\n",
       "    }\n",
       "\n",
       "    .dataframe tbody tr th {\n",
       "        vertical-align: top;\n",
       "    }\n",
       "\n",
       "    .dataframe thead th {\n",
       "        text-align: right;\n",
       "    }\n",
       "</style>\n",
       "<table border=\"1\" class=\"dataframe\">\n",
       "  <thead>\n",
       "    <tr style=\"text-align: right;\">\n",
       "      <th></th>\n",
       "      <th>SAMPLE_ID</th>\n",
       "      <th>PFS_MONTHS</th>\n",
       "      <th>APC</th>\n",
       "      <th>TP53</th>\n",
       "      <th>KRAS</th>\n",
       "      <th>PIK3CA</th>\n",
       "      <th>SMAD4</th>\n",
       "      <th>DCC</th>\n",
       "      <th>POLE</th>\n",
       "      <th>POLD1</th>\n",
       "      <th>NTRK2</th>\n",
       "      <th>BRAF</th>\n",
       "      <th>NRAS</th>\n",
       "      <th>PTEN</th>\n",
       "    </tr>\n",
       "  </thead>\n",
       "  <tbody>\n",
       "    <tr>\n",
       "      <th>0</th>\n",
       "      <td>TCGA-5M-AAT6-01</td>\n",
       "      <td>7.199921</td>\n",
       "      <td>1</td>\n",
       "      <td>0</td>\n",
       "      <td>1</td>\n",
       "      <td>0</td>\n",
       "      <td>0</td>\n",
       "      <td>1</td>\n",
       "      <td>1</td>\n",
       "      <td>1</td>\n",
       "      <td>0</td>\n",
       "      <td>0</td>\n",
       "      <td>0</td>\n",
       "      <td>0</td>\n",
       "    </tr>\n",
       "    <tr>\n",
       "      <th>1</th>\n",
       "      <td>TCGA-5M-AATE-01</td>\n",
       "      <td>26.629845</td>\n",
       "      <td>1</td>\n",
       "      <td>1</td>\n",
       "      <td>1</td>\n",
       "      <td>1</td>\n",
       "      <td>0</td>\n",
       "      <td>0</td>\n",
       "      <td>0</td>\n",
       "      <td>0</td>\n",
       "      <td>1</td>\n",
       "      <td>0</td>\n",
       "      <td>0</td>\n",
       "      <td>0</td>\n",
       "    </tr>\n",
       "  </tbody>\n",
       "</table>\n",
       "</div>"
      ],
      "text/plain": [
       "         SAMPLE_ID  PFS_MONTHS  APC  TP53  KRAS  PIK3CA  SMAD4  DCC  POLE  \\\n",
       "0  TCGA-5M-AAT6-01    7.199921    1     0     1       0      0    1     1   \n",
       "1  TCGA-5M-AATE-01   26.629845    1     1     1       1      0    0     0   \n",
       "\n",
       "   POLD1  NTRK2  BRAF  NRAS  PTEN  \n",
       "0      1      0     0     0     0  \n",
       "1      0      1     0     0     0  "
      ]
     },
     "execution_count": 34,
     "metadata": {},
     "output_type": "execute_result"
    }
   ],
   "source": [
    "df = pd.merge(pathological_df[[\"SAMPLE_ID\", \"PFS_MONTHS\"]], mutation_X, on='SAMPLE_ID', how=\"inner\")\n",
    "df.head(2)"
   ]
  },
  {
   "cell_type": "code",
   "execution_count": 35,
   "metadata": {},
   "outputs": [
    {
     "data": {
      "text/plain": [
       "(61, 14)"
      ]
     },
     "execution_count": 35,
     "metadata": {},
     "output_type": "execute_result"
    }
   ],
   "source": [
    "df.shape"
   ]
  },
  {
   "cell_type": "code",
   "execution_count": 36,
   "metadata": {},
   "outputs": [],
   "source": [
    "df.to_csv(\n",
    "    os.path.join(study_path, \"cancer_samples_12_mutations_only.csv\"), \n",
    "    index=False\n",
    ")"
   ]
  },
  {
   "cell_type": "code",
   "execution_count": 33,
   "metadata": {},
   "outputs": [
    {
     "data": {
      "text/html": [
       "<div>\n",
       "<style scoped>\n",
       "    .dataframe tbody tr th:only-of-type {\n",
       "        vertical-align: middle;\n",
       "    }\n",
       "\n",
       "    .dataframe tbody tr th {\n",
       "        vertical-align: top;\n",
       "    }\n",
       "\n",
       "    .dataframe thead th {\n",
       "        text-align: right;\n",
       "    }\n",
       "</style>\n",
       "<table border=\"1\" class=\"dataframe\">\n",
       "  <thead>\n",
       "    <tr style=\"text-align: right;\">\n",
       "      <th></th>\n",
       "      <th>SAMPLE_ID</th>\n",
       "      <th>PFS_MONTHS</th>\n",
       "      <th>APC</th>\n",
       "      <th>TP53</th>\n",
       "      <th>KRAS</th>\n",
       "      <th>PIK3CA</th>\n",
       "      <th>SMAD4</th>\n",
       "      <th>DCC</th>\n",
       "      <th>POLE</th>\n",
       "      <th>POLD1</th>\n",
       "      <th>NTRK2</th>\n",
       "      <th>BRAF</th>\n",
       "      <th>NRAS</th>\n",
       "      <th>PTEN</th>\n",
       "      <th>y</th>\n",
       "    </tr>\n",
       "  </thead>\n",
       "  <tbody>\n",
       "    <tr>\n",
       "      <th>0</th>\n",
       "      <td>TCGA-5M-AAT6-01</td>\n",
       "      <td>7.199921</td>\n",
       "      <td>1</td>\n",
       "      <td>0</td>\n",
       "      <td>1</td>\n",
       "      <td>0</td>\n",
       "      <td>0</td>\n",
       "      <td>1</td>\n",
       "      <td>1</td>\n",
       "      <td>1</td>\n",
       "      <td>0</td>\n",
       "      <td>0</td>\n",
       "      <td>0</td>\n",
       "      <td>0</td>\n",
       "      <td>0</td>\n",
       "    </tr>\n",
       "    <tr>\n",
       "      <th>1</th>\n",
       "      <td>TCGA-5M-AATE-01</td>\n",
       "      <td>26.629845</td>\n",
       "      <td>1</td>\n",
       "      <td>1</td>\n",
       "      <td>1</td>\n",
       "      <td>1</td>\n",
       "      <td>0</td>\n",
       "      <td>0</td>\n",
       "      <td>0</td>\n",
       "      <td>0</td>\n",
       "      <td>1</td>\n",
       "      <td>0</td>\n",
       "      <td>0</td>\n",
       "      <td>0</td>\n",
       "      <td>1</td>\n",
       "    </tr>\n",
       "  </tbody>\n",
       "</table>\n",
       "</div>"
      ],
      "text/plain": [
       "         SAMPLE_ID  PFS_MONTHS  APC  TP53  KRAS  PIK3CA  SMAD4  DCC  POLE  \\\n",
       "0  TCGA-5M-AAT6-01    7.199921    1     0     1       0      0    1     1   \n",
       "1  TCGA-5M-AATE-01   26.629845    1     1     1       1      0    0     0   \n",
       "\n",
       "   POLD1  NTRK2  BRAF  NRAS  PTEN  y  \n",
       "0      1      0     0     0     0  0  \n",
       "1      0      1     0     0     0  1  "
      ]
     },
     "execution_count": 33,
     "metadata": {},
     "output_type": "execute_result"
    }
   ],
   "source": [
    "def categorize_pfs(months):\n",
    "    \"\"\"categorize pfs into 3 classes at thresholds 12, 36, 36+\"\"\"\n",
    "    if months <= 12:\n",
    "        return 0\n",
    "    elif 12 < months <= 36:\n",
    "        return 1\n",
    "    else:\n",
    "        return 2\n",
    "\n",
    "\n",
    "df['y'] = df['PFS_MONTHS'].apply(categorize_pfs)\n",
    "df.head(2)"
   ]
  },
  {
   "cell_type": "code",
   "execution_count": 34,
   "metadata": {},
   "outputs": [
    {
     "name": "stderr",
     "output_type": "stream",
     "text": [
      "/var/folders/_0/qrjsyj4n0r951n63lt8qdzrc0000gn/T/ipykernel_91805/1661662862.py:6: FutureWarning: \n",
      "\n",
      "Passing `palette` without assigning `hue` is deprecated and will be removed in v0.14.0. Assign the `x` variable to `hue` and set `legend=False` for the same effect.\n",
      "\n",
      "  sns.barplot(x=class_counts.index, y=class_counts.values, palette=\"viridis\")\n"
     ]
    },
    {
     "data": {
      "image/png": "[encoded data removed]",
      "text/plain": [
       "<Figure size 400x300 with 1 Axes>"
      ]
     },
     "metadata": {},
     "output_type": "display_data"
    }
   ],
   "source": [
    "# Calculate the frequency of each class in column 'y'\n",
    "class_counts = df['y'].value_counts().sort_index()\n",
    "\n",
    "# Plot the frequency using a bar plot\n",
    "plt.figure(figsize=(4, 3))\n",
    "sns.barplot(x=class_counts.index, y=class_counts.values, palette=\"viridis\")\n",
    "plt.xlabel('Class')\n",
    "plt.ylabel('Frequency')\n",
    "plt.title('Frequency of Each Class in Column y')\n",
    "plt.xticks([0, 1, 2], ['<12 months', '12-36 months', '>36 months'])\n",
    "plt.show()\n"
   ]
  },
  {
   "cell_type": "markdown",
   "metadata": {},
   "source": [
    "Find 23 rows to add in class 3 (>36 months).    \n",
    "\n",
    "To be done in next notebook. This notebook has already become too long."
   ]
  },
  {
   "cell_type": "code",
   "execution_count": 35,
   "metadata": {},
   "outputs": [],
   "source": [
    "df.to_csv(\n",
    "    os.path.join(study_path, \"mutation_three_classes_1.csv\"), \n",
    "    index=False\n",
    ")"
   ]
  }
 ],
 "metadata": {
  "kernelspec": {
   "display_name": "Python 3",
   "language": "python",
   "name": "python3"
  },
  "language_info": {
   "codemirror_mode": {
    "name": "ipython",
    "version": 3
   },
   "file_extension": ".py",
   "mimetype": "text/x-python",
   "name": "python",
   "nbconvert_exporter": "python",
   "pygments_lexer": "ipython3",
   "version": "3.12.3"
  }
 },
 "nbformat": 4,
 "nbformat_minor": 2
}
