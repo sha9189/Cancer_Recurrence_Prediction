{
 "cells": [
  {
   "cell_type": "markdown",
   "metadata": {},
   "source": [
    "# Genomic Data Analysis"
   ]
  },
  {
   "cell_type": "code",
   "execution_count": 1,
   "metadata": {},
   "outputs": [],
   "source": [
    "import os\n",
    "os.chdir(\"..\")"
   ]
  },
  {
   "cell_type": "code",
   "execution_count": 8,
   "metadata": {},
   "outputs": [],
   "source": [
    "import pandas as pd\n",
    "from sklearn.model_selection import train_test_split\n",
    "import numpy as np\n",
    "from helpers import load_config\n",
    "import matplotlib.pyplot as plt\n",
    "import seaborn as sns\n",
    "\n",
    "configs = load_config(os.path.join(\"configs\", \"configs.yaml\"))\n",
    "study_path = configs[\"STORAGE_DIR_STUDY2\"]"
   ]
  },
  {
   "cell_type": "code",
   "execution_count": 6,
   "metadata": {},
   "outputs": [
    {
     "data": {
      "text/html": [
       "<div>\n",
       "<style scoped>\n",
       "    .dataframe tbody tr th:only-of-type {\n",
       "        vertical-align: middle;\n",
       "    }\n",
       "\n",
       "    .dataframe tbody tr th {\n",
       "        vertical-align: top;\n",
       "    }\n",
       "\n",
       "    .dataframe thead th {\n",
       "        text-align: right;\n",
       "    }\n",
       "</style>\n",
       "<table border=\"1\" class=\"dataframe\">\n",
       "  <thead>\n",
       "    <tr style=\"text-align: right;\">\n",
       "      <th></th>\n",
       "      <th>SAMPLE_ID</th>\n",
       "      <th>PFS_MONTHS</th>\n",
       "      <th>APC</th>\n",
       "      <th>TP53</th>\n",
       "      <th>KRAS</th>\n",
       "      <th>PIK3CA</th>\n",
       "      <th>SMAD4</th>\n",
       "      <th>DCC</th>\n",
       "      <th>POLE</th>\n",
       "      <th>POLD1</th>\n",
       "      <th>NTRK2</th>\n",
       "      <th>BRAF</th>\n",
       "      <th>NRAS</th>\n",
       "      <th>PTEN</th>\n",
       "    </tr>\n",
       "  </thead>\n",
       "  <tbody>\n",
       "    <tr>\n",
       "      <th>0</th>\n",
       "      <td>TCGA-5M-AAT6-01</td>\n",
       "      <td>7.199921</td>\n",
       "      <td>1</td>\n",
       "      <td>0</td>\n",
       "      <td>1</td>\n",
       "      <td>0</td>\n",
       "      <td>0</td>\n",
       "      <td>1</td>\n",
       "      <td>1</td>\n",
       "      <td>1</td>\n",
       "      <td>0</td>\n",
       "      <td>0</td>\n",
       "      <td>0</td>\n",
       "      <td>0</td>\n",
       "    </tr>\n",
       "    <tr>\n",
       "      <th>1</th>\n",
       "      <td>TCGA-5M-AATE-01</td>\n",
       "      <td>26.629845</td>\n",
       "      <td>1</td>\n",
       "      <td>1</td>\n",
       "      <td>1</td>\n",
       "      <td>1</td>\n",
       "      <td>0</td>\n",
       "      <td>0</td>\n",
       "      <td>0</td>\n",
       "      <td>0</td>\n",
       "      <td>1</td>\n",
       "      <td>0</td>\n",
       "      <td>0</td>\n",
       "      <td>0</td>\n",
       "    </tr>\n",
       "  </tbody>\n",
       "</table>\n",
       "</div>"
      ],
      "text/plain": [
       "         SAMPLE_ID  PFS_MONTHS  APC  TP53  KRAS  PIK3CA  SMAD4  DCC  POLE  \\\n",
       "0  TCGA-5M-AAT6-01    7.199921    1     0     1       0      0    1     1   \n",
       "1  TCGA-5M-AATE-01   26.629845    1     1     1       1      0    0     0   \n",
       "\n",
       "   POLD1  NTRK2  BRAF  NRAS  PTEN  \n",
       "0      1      0     0     0     0  \n",
       "1      0      1     0     0     0  "
      ]
     },
     "execution_count": 6,
     "metadata": {},
     "output_type": "execute_result"
    }
   ],
   "source": [
    "df = pd.read_csv(\n",
    "    os.path.join(study_path, \"cancer_samples_12_mutations_only.csv\")\n",
    ")\n",
    "df.head(2)"
   ]
  },
  {
   "cell_type": "code",
   "execution_count": 7,
   "metadata": {},
   "outputs": [
    {
     "data": {
      "text/html": [
       "<div>\n",
       "<style scoped>\n",
       "    .dataframe tbody tr th:only-of-type {\n",
       "        vertical-align: middle;\n",
       "    }\n",
       "\n",
       "    .dataframe tbody tr th {\n",
       "        vertical-align: top;\n",
       "    }\n",
       "\n",
       "    .dataframe thead th {\n",
       "        text-align: right;\n",
       "    }\n",
       "</style>\n",
       "<table border=\"1\" class=\"dataframe\">\n",
       "  <thead>\n",
       "    <tr style=\"text-align: right;\">\n",
       "      <th></th>\n",
       "      <th>SAMPLE_ID</th>\n",
       "      <th>PFS_MONTHS</th>\n",
       "      <th>APC</th>\n",
       "      <th>TP53</th>\n",
       "      <th>KRAS</th>\n",
       "      <th>PIK3CA</th>\n",
       "      <th>SMAD4</th>\n",
       "      <th>DCC</th>\n",
       "      <th>POLE</th>\n",
       "      <th>POLD1</th>\n",
       "      <th>NTRK2</th>\n",
       "      <th>BRAF</th>\n",
       "      <th>NRAS</th>\n",
       "      <th>PTEN</th>\n",
       "      <th>y</th>\n",
       "    </tr>\n",
       "  </thead>\n",
       "  <tbody>\n",
       "    <tr>\n",
       "      <th>0</th>\n",
       "      <td>TCGA-5M-AAT6-01</td>\n",
       "      <td>7.199921</td>\n",
       "      <td>1</td>\n",
       "      <td>0</td>\n",
       "      <td>1</td>\n",
       "      <td>0</td>\n",
       "      <td>0</td>\n",
       "      <td>1</td>\n",
       "      <td>1</td>\n",
       "      <td>1</td>\n",
       "      <td>0</td>\n",
       "      <td>0</td>\n",
       "      <td>0</td>\n",
       "      <td>0</td>\n",
       "      <td>0</td>\n",
       "    </tr>\n",
       "    <tr>\n",
       "      <th>1</th>\n",
       "      <td>TCGA-5M-AATE-01</td>\n",
       "      <td>26.629845</td>\n",
       "      <td>1</td>\n",
       "      <td>1</td>\n",
       "      <td>1</td>\n",
       "      <td>1</td>\n",
       "      <td>0</td>\n",
       "      <td>0</td>\n",
       "      <td>0</td>\n",
       "      <td>0</td>\n",
       "      <td>1</td>\n",
       "      <td>0</td>\n",
       "      <td>0</td>\n",
       "      <td>0</td>\n",
       "      <td>1</td>\n",
       "    </tr>\n",
       "  </tbody>\n",
       "</table>\n",
       "</div>"
      ],
      "text/plain": [
       "         SAMPLE_ID  PFS_MONTHS  APC  TP53  KRAS  PIK3CA  SMAD4  DCC  POLE  \\\n",
       "0  TCGA-5M-AAT6-01    7.199921    1     0     1       0      0    1     1   \n",
       "1  TCGA-5M-AATE-01   26.629845    1     1     1       1      0    0     0   \n",
       "\n",
       "   POLD1  NTRK2  BRAF  NRAS  PTEN  y  \n",
       "0      1      0     0     0     0  0  \n",
       "1      0      1     0     0     0  1  "
      ]
     },
     "execution_count": 7,
     "metadata": {},
     "output_type": "execute_result"
    }
   ],
   "source": [
    "def categorize_pfs(months):\n",
    "    \"\"\"categorize pfs into 3 classes at thresholds 12, 36, 36+\"\"\"\n",
    "    if months <= 12:\n",
    "        return 0\n",
    "    elif 12 < months <= 36:\n",
    "        return 1\n",
    "    elif 36 <= months <= 60:\n",
    "        return 2\n",
    "    else:\n",
    "        return 3\n",
    "\n",
    "\n",
    "df['y'] = df['PFS_MONTHS'].apply(categorize_pfs)\n",
    "df.head(2)"
   ]
  },
  {
   "cell_type": "code",
   "execution_count": 15,
   "metadata": {},
   "outputs": [
    {
     "name": "stderr",
     "output_type": "stream",
     "text": [
      "/var/folders/_0/qrjsyj4n0r951n63lt8qdzrc0000gn/T/ipykernel_98395/1369528549.py:6: FutureWarning: \n",
      "\n",
      "Passing `palette` without assigning `hue` is deprecated and will be removed in v0.14.0. Assign the `x` variable to `hue` and set `legend=False` for the same effect.\n",
      "\n",
      "  ax = sns.barplot(x=class_counts.index, y=class_counts.values, palette=\"viridis\")\n"
     ]
    },
    {
     "data": {
      "image/png": "[encoded data removed]",
      "text/plain": [
       "<Figure size 600x400 with 1 Axes>"
      ]
     },
     "metadata": {},
     "output_type": "display_data"
    }
   ],
   "source": [
    "# Calculate the frequency of each class in column 'y'\n",
    "class_counts = df['y'].value_counts().sort_index()\n",
    "\n",
    "# Plot the frequency using a bar plot\n",
    "plt.figure(figsize=(6, 4))\n",
    "ax = sns.barplot(x=class_counts.index, y=class_counts.values, palette=\"viridis\")\n",
    "# Add counts on top of the bars\n",
    "for index, value in enumerate(class_counts.values):\n",
    "    ax.text(index, value + 0.1, str(value), ha='center', va='bottom')\n",
    "plt.xlabel('Class')\n",
    "plt.ylabel('Frequency')\n",
    "plt.title('Frequency of Each Class in Column y')\n",
    "plt.xticks([0, 1, 2, 3], ['<12 months', '12-36 months', '36-60 months', '60+ months'])\n",
    "plt.show()\n"
   ]
  },
  {
   "cell_type": "code",
   "execution_count": 12,
   "metadata": {},
   "outputs": [
    {
     "data": {
      "text/plain": [
       "y\n",
       "1    29\n",
       "0    27\n",
       "2     4\n",
       "3     1\n",
       "Name: count, dtype: int64"
      ]
     },
     "execution_count": 12,
     "metadata": {},
     "output_type": "execute_result"
    }
   ],
   "source": [
    "df['y'].value_counts()"
   ]
  },
  {
   "cell_type": "code",
   "execution_count": 20,
   "metadata": {},
   "outputs": [],
   "source": []
  },
  {
   "cell_type": "code",
   "execution_count": 21,
   "metadata": {},
   "outputs": [],
   "source": []
  },
  {
   "cell_type": "code",
   "execution_count": 31,
   "metadata": {},
   "outputs": [],
   "source": [
    "# df1 = df.drop([\"SAMPLE_ID\", \"PFS_MONTHS\"], axis=1)\n",
    "\n",
    "# from imblearn.over_sampling import SMOTE\n",
    "\n",
    "# X = df1.drop('y', axis=1)\n",
    "# y = df1['y']\n",
    "\n",
    "# # Apply SMOTE to balance the classes\n",
    "# smote = SMOTE(random_state=42, k_neighbors=1)\n",
    "# X_res, y_res = smote.fit_resample(X, y)\n",
    "\n",
    "# # Combine the resampled features and target into a new dataframe\n",
    "# df_resampled = pd.DataFrame(X_res, columns=X.columns)\n",
    "# df_resampled['y'] = y_res\n",
    "\n",
    "# # Display the class distribution after applying SMOTE\n",
    "# print(df_resampled['y'].value_counts())"
   ]
  },
  {
   "cell_type": "markdown",
   "metadata": {},
   "source": [
    "Cannot use SMOTE to generate synthetic records since it needs atleast 2 records in a class to produce synthetic records.    \n",
    "\n",
    "Also there is no point in fitting a model to this, since its equivalent to three classes classification."
   ]
  },
  {
   "cell_type": "code",
   "execution_count": null,
   "metadata": {},
   "outputs": [],
   "source": []
  }
 ],
 "metadata": {
  "kernelspec": {
   "display_name": "Python 3",
   "language": "python",
   "name": "python3"
  },
  "language_info": {
   "codemirror_mode": {
    "name": "ipython",
    "version": 3
   },
   "file_extension": ".py",
   "mimetype": "text/x-python",
   "name": "python",
   "nbconvert_exporter": "python",
   "pygments_lexer": "ipython3",
   "version": "3.12.3"
  }
 },
 "nbformat": 4,
 "nbformat_minor": 2
}
